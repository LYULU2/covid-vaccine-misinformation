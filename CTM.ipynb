{
  "nbformat": 4,
  "nbformat_minor": 0,
  "metadata": {
    "colab": {
      "name": "CTM.ipynb",
      "provenance": [],
      "collapsed_sections": [],
      "authorship_tag": "ABX9TyN5mDE6OITUxVMFhLIdCz3z",
      "include_colab_link": true
    },
    "kernelspec": {
      "name": "python3",
      "display_name": "Python 3"
    },
    "language_info": {
      "name": "python"
    },
    "accelerator": "GPU",
    "widgets": {
      "application/vnd.jupyter.widget-state+json": {
        "c06df1e2aa8d447489c84e926322f86e": {
          "model_module": "@jupyter-widgets/controls",
          "model_name": "HBoxModel",
          "model_module_version": "1.5.0",
          "state": {
            "_view_name": "HBoxView",
            "_dom_classes": [],
            "_model_name": "HBoxModel",
            "_view_module": "@jupyter-widgets/controls",
            "_model_module_version": "1.5.0",
            "_view_count": null,
            "_view_module_version": "1.5.0",
            "box_style": "",
            "layout": "IPY_MODEL_0ff2e36fed54465fb814151aee916179",
            "_model_module": "@jupyter-widgets/controls",
            "children": [
              "IPY_MODEL_0e1d4571e7c64b599df5f31e4a7d8e6d",
              "IPY_MODEL_ec99c1f2b5e242188c3b10b71ee5bdba",
              "IPY_MODEL_1128d3566ba646f7bf8f01b6835b32e5"
            ]
          }
        },
        "0ff2e36fed54465fb814151aee916179": {
          "model_module": "@jupyter-widgets/base",
          "model_name": "LayoutModel",
          "model_module_version": "1.2.0",
          "state": {
            "_view_name": "LayoutView",
            "grid_template_rows": null,
            "right": null,
            "justify_content": null,
            "_view_module": "@jupyter-widgets/base",
            "overflow": null,
            "_model_module_version": "1.2.0",
            "_view_count": null,
            "flex_flow": null,
            "width": null,
            "min_width": null,
            "border": null,
            "align_items": null,
            "bottom": null,
            "_model_module": "@jupyter-widgets/base",
            "top": null,
            "grid_column": null,
            "overflow_y": null,
            "overflow_x": null,
            "grid_auto_flow": null,
            "grid_area": null,
            "grid_template_columns": null,
            "flex": null,
            "_model_name": "LayoutModel",
            "justify_items": null,
            "grid_row": null,
            "max_height": null,
            "align_content": null,
            "visibility": null,
            "align_self": null,
            "height": null,
            "min_height": null,
            "padding": null,
            "grid_auto_rows": null,
            "grid_gap": null,
            "max_width": null,
            "order": null,
            "_view_module_version": "1.2.0",
            "grid_template_areas": null,
            "object_position": null,
            "object_fit": null,
            "grid_auto_columns": null,
            "margin": null,
            "display": null,
            "left": null
          }
        },
        "0e1d4571e7c64b599df5f31e4a7d8e6d": {
          "model_module": "@jupyter-widgets/controls",
          "model_name": "HTMLModel",
          "model_module_version": "1.5.0",
          "state": {
            "_view_name": "HTMLView",
            "style": "IPY_MODEL_e7d836c6c3a3425eb25bccf9ecbf8609",
            "_dom_classes": [],
            "description": "",
            "_model_name": "HTMLModel",
            "placeholder": "​",
            "_view_module": "@jupyter-widgets/controls",
            "_model_module_version": "1.5.0",
            "value": "Batches: 100%",
            "_view_count": null,
            "_view_module_version": "1.5.0",
            "description_tooltip": null,
            "_model_module": "@jupyter-widgets/controls",
            "layout": "IPY_MODEL_a5e6906dc8eb4402ad345a68594e929b"
          }
        },
        "ec99c1f2b5e242188c3b10b71ee5bdba": {
          "model_module": "@jupyter-widgets/controls",
          "model_name": "FloatProgressModel",
          "model_module_version": "1.5.0",
          "state": {
            "_view_name": "ProgressView",
            "style": "IPY_MODEL_e6a1775777864178b85aa1b9aae965df",
            "_dom_classes": [],
            "description": "",
            "_model_name": "FloatProgressModel",
            "bar_style": "success",
            "max": 14,
            "_view_module": "@jupyter-widgets/controls",
            "_model_module_version": "1.5.0",
            "value": 14,
            "_view_count": null,
            "_view_module_version": "1.5.0",
            "orientation": "horizontal",
            "min": 0,
            "description_tooltip": null,
            "_model_module": "@jupyter-widgets/controls",
            "layout": "IPY_MODEL_8af36165422e4441a92ffcf2cf60dee8"
          }
        },
        "1128d3566ba646f7bf8f01b6835b32e5": {
          "model_module": "@jupyter-widgets/controls",
          "model_name": "HTMLModel",
          "model_module_version": "1.5.0",
          "state": {
            "_view_name": "HTMLView",
            "style": "IPY_MODEL_73ec510bc19348929848a52c46096fed",
            "_dom_classes": [],
            "description": "",
            "_model_name": "HTMLModel",
            "placeholder": "​",
            "_view_module": "@jupyter-widgets/controls",
            "_model_module_version": "1.5.0",
            "value": " 14/14 [00:18&lt;00:00,  2.51it/s]",
            "_view_count": null,
            "_view_module_version": "1.5.0",
            "description_tooltip": null,
            "_model_module": "@jupyter-widgets/controls",
            "layout": "IPY_MODEL_c0df106579c34fcdb28c8ac4d387c40c"
          }
        },
        "e7d836c6c3a3425eb25bccf9ecbf8609": {
          "model_module": "@jupyter-widgets/controls",
          "model_name": "DescriptionStyleModel",
          "model_module_version": "1.5.0",
          "state": {
            "_view_name": "StyleView",
            "_model_name": "DescriptionStyleModel",
            "description_width": "",
            "_view_module": "@jupyter-widgets/base",
            "_model_module_version": "1.5.0",
            "_view_count": null,
            "_view_module_version": "1.2.0",
            "_model_module": "@jupyter-widgets/controls"
          }
        },
        "a5e6906dc8eb4402ad345a68594e929b": {
          "model_module": "@jupyter-widgets/base",
          "model_name": "LayoutModel",
          "model_module_version": "1.2.0",
          "state": {
            "_view_name": "LayoutView",
            "grid_template_rows": null,
            "right": null,
            "justify_content": null,
            "_view_module": "@jupyter-widgets/base",
            "overflow": null,
            "_model_module_version": "1.2.0",
            "_view_count": null,
            "flex_flow": null,
            "width": null,
            "min_width": null,
            "border": null,
            "align_items": null,
            "bottom": null,
            "_model_module": "@jupyter-widgets/base",
            "top": null,
            "grid_column": null,
            "overflow_y": null,
            "overflow_x": null,
            "grid_auto_flow": null,
            "grid_area": null,
            "grid_template_columns": null,
            "flex": null,
            "_model_name": "LayoutModel",
            "justify_items": null,
            "grid_row": null,
            "max_height": null,
            "align_content": null,
            "visibility": null,
            "align_self": null,
            "height": null,
            "min_height": null,
            "padding": null,
            "grid_auto_rows": null,
            "grid_gap": null,
            "max_width": null,
            "order": null,
            "_view_module_version": "1.2.0",
            "grid_template_areas": null,
            "object_position": null,
            "object_fit": null,
            "grid_auto_columns": null,
            "margin": null,
            "display": null,
            "left": null
          }
        },
        "e6a1775777864178b85aa1b9aae965df": {
          "model_module": "@jupyter-widgets/controls",
          "model_name": "ProgressStyleModel",
          "model_module_version": "1.5.0",
          "state": {
            "_view_name": "StyleView",
            "_model_name": "ProgressStyleModel",
            "description_width": "",
            "_view_module": "@jupyter-widgets/base",
            "_model_module_version": "1.5.0",
            "_view_count": null,
            "_view_module_version": "1.2.0",
            "bar_color": null,
            "_model_module": "@jupyter-widgets/controls"
          }
        },
        "8af36165422e4441a92ffcf2cf60dee8": {
          "model_module": "@jupyter-widgets/base",
          "model_name": "LayoutModel",
          "model_module_version": "1.2.0",
          "state": {
            "_view_name": "LayoutView",
            "grid_template_rows": null,
            "right": null,
            "justify_content": null,
            "_view_module": "@jupyter-widgets/base",
            "overflow": null,
            "_model_module_version": "1.2.0",
            "_view_count": null,
            "flex_flow": null,
            "width": null,
            "min_width": null,
            "border": null,
            "align_items": null,
            "bottom": null,
            "_model_module": "@jupyter-widgets/base",
            "top": null,
            "grid_column": null,
            "overflow_y": null,
            "overflow_x": null,
            "grid_auto_flow": null,
            "grid_area": null,
            "grid_template_columns": null,
            "flex": null,
            "_model_name": "LayoutModel",
            "justify_items": null,
            "grid_row": null,
            "max_height": null,
            "align_content": null,
            "visibility": null,
            "align_self": null,
            "height": null,
            "min_height": null,
            "padding": null,
            "grid_auto_rows": null,
            "grid_gap": null,
            "max_width": null,
            "order": null,
            "_view_module_version": "1.2.0",
            "grid_template_areas": null,
            "object_position": null,
            "object_fit": null,
            "grid_auto_columns": null,
            "margin": null,
            "display": null,
            "left": null
          }
        },
        "73ec510bc19348929848a52c46096fed": {
          "model_module": "@jupyter-widgets/controls",
          "model_name": "DescriptionStyleModel",
          "model_module_version": "1.5.0",
          "state": {
            "_view_name": "StyleView",
            "_model_name": "DescriptionStyleModel",
            "description_width": "",
            "_view_module": "@jupyter-widgets/base",
            "_model_module_version": "1.5.0",
            "_view_count": null,
            "_view_module_version": "1.2.0",
            "_model_module": "@jupyter-widgets/controls"
          }
        },
        "c0df106579c34fcdb28c8ac4d387c40c": {
          "model_module": "@jupyter-widgets/base",
          "model_name": "LayoutModel",
          "model_module_version": "1.2.0",
          "state": {
            "_view_name": "LayoutView",
            "grid_template_rows": null,
            "right": null,
            "justify_content": null,
            "_view_module": "@jupyter-widgets/base",
            "overflow": null,
            "_model_module_version": "1.2.0",
            "_view_count": null,
            "flex_flow": null,
            "width": null,
            "min_width": null,
            "border": null,
            "align_items": null,
            "bottom": null,
            "_model_module": "@jupyter-widgets/base",
            "top": null,
            "grid_column": null,
            "overflow_y": null,
            "overflow_x": null,
            "grid_auto_flow": null,
            "grid_area": null,
            "grid_template_columns": null,
            "flex": null,
            "_model_name": "LayoutModel",
            "justify_items": null,
            "grid_row": null,
            "max_height": null,
            "align_content": null,
            "visibility": null,
            "align_self": null,
            "height": null,
            "min_height": null,
            "padding": null,
            "grid_auto_rows": null,
            "grid_gap": null,
            "max_width": null,
            "order": null,
            "_view_module_version": "1.2.0",
            "grid_template_areas": null,
            "object_position": null,
            "object_fit": null,
            "grid_auto_columns": null,
            "margin": null,
            "display": null,
            "left": null
          }
        },
        "97acedc7cd7949f6b1c278c7b7700fe9": {
          "model_module": "@jupyter-widgets/controls",
          "model_name": "HBoxModel",
          "model_module_version": "1.5.0",
          "state": {
            "_view_name": "HBoxView",
            "_dom_classes": [],
            "_model_name": "HBoxModel",
            "_view_module": "@jupyter-widgets/controls",
            "_model_module_version": "1.5.0",
            "_view_count": null,
            "_view_module_version": "1.5.0",
            "box_style": "",
            "layout": "IPY_MODEL_18cb45ca30c7403bbc78538b9f252951",
            "_model_module": "@jupyter-widgets/controls",
            "children": [
              "IPY_MODEL_19765fea7b8b45cfb7dc9bb7268b7a05",
              "IPY_MODEL_c0277565fe5d4573983a1cacba00a6b9",
              "IPY_MODEL_27f66411dc4d4f8dbdf494f2508315fe"
            ]
          }
        },
        "18cb45ca30c7403bbc78538b9f252951": {
          "model_module": "@jupyter-widgets/base",
          "model_name": "LayoutModel",
          "model_module_version": "1.2.0",
          "state": {
            "_view_name": "LayoutView",
            "grid_template_rows": null,
            "right": null,
            "justify_content": null,
            "_view_module": "@jupyter-widgets/base",
            "overflow": null,
            "_model_module_version": "1.2.0",
            "_view_count": null,
            "flex_flow": null,
            "width": null,
            "min_width": null,
            "border": null,
            "align_items": null,
            "bottom": null,
            "_model_module": "@jupyter-widgets/base",
            "top": null,
            "grid_column": null,
            "overflow_y": null,
            "overflow_x": null,
            "grid_auto_flow": null,
            "grid_area": null,
            "grid_template_columns": null,
            "flex": null,
            "_model_name": "LayoutModel",
            "justify_items": null,
            "grid_row": null,
            "max_height": null,
            "align_content": null,
            "visibility": null,
            "align_self": null,
            "height": null,
            "min_height": null,
            "padding": null,
            "grid_auto_rows": null,
            "grid_gap": null,
            "max_width": null,
            "order": null,
            "_view_module_version": "1.2.0",
            "grid_template_areas": null,
            "object_position": null,
            "object_fit": null,
            "grid_auto_columns": null,
            "margin": null,
            "display": null,
            "left": null
          }
        },
        "19765fea7b8b45cfb7dc9bb7268b7a05": {
          "model_module": "@jupyter-widgets/controls",
          "model_name": "HTMLModel",
          "model_module_version": "1.5.0",
          "state": {
            "_view_name": "HTMLView",
            "style": "IPY_MODEL_7a1f26ed90904da5a1b11a01803dd3e3",
            "_dom_classes": [],
            "description": "",
            "_model_name": "HTMLModel",
            "placeholder": "​",
            "_view_module": "@jupyter-widgets/controls",
            "_model_module_version": "1.5.0",
            "value": "Batches: 100%",
            "_view_count": null,
            "_view_module_version": "1.5.0",
            "description_tooltip": null,
            "_model_module": "@jupyter-widgets/controls",
            "layout": "IPY_MODEL_85736030de63459db41b7cb121b764b5"
          }
        },
        "c0277565fe5d4573983a1cacba00a6b9": {
          "model_module": "@jupyter-widgets/controls",
          "model_name": "FloatProgressModel",
          "model_module_version": "1.5.0",
          "state": {
            "_view_name": "ProgressView",
            "style": "IPY_MODEL_40288e9901c04f4c9f424de4155a4057",
            "_dom_classes": [],
            "description": "",
            "_model_name": "FloatProgressModel",
            "bar_style": "success",
            "max": 15,
            "_view_module": "@jupyter-widgets/controls",
            "_model_module_version": "1.5.0",
            "value": 15,
            "_view_count": null,
            "_view_module_version": "1.5.0",
            "orientation": "horizontal",
            "min": 0,
            "description_tooltip": null,
            "_model_module": "@jupyter-widgets/controls",
            "layout": "IPY_MODEL_57c502713ef344009777307ef93451fd"
          }
        },
        "27f66411dc4d4f8dbdf494f2508315fe": {
          "model_module": "@jupyter-widgets/controls",
          "model_name": "HTMLModel",
          "model_module_version": "1.5.0",
          "state": {
            "_view_name": "HTMLView",
            "style": "IPY_MODEL_d9c9e1e19a2c4eef87083052dbf9f1cc",
            "_dom_classes": [],
            "description": "",
            "_model_name": "HTMLModel",
            "placeholder": "​",
            "_view_module": "@jupyter-widgets/controls",
            "_model_module_version": "1.5.0",
            "value": " 15/15 [00:35&lt;00:00,  1.23it/s]",
            "_view_count": null,
            "_view_module_version": "1.5.0",
            "description_tooltip": null,
            "_model_module": "@jupyter-widgets/controls",
            "layout": "IPY_MODEL_b33464113c3047e9bd1678e15b1b4eff"
          }
        },
        "7a1f26ed90904da5a1b11a01803dd3e3": {
          "model_module": "@jupyter-widgets/controls",
          "model_name": "DescriptionStyleModel",
          "model_module_version": "1.5.0",
          "state": {
            "_view_name": "StyleView",
            "_model_name": "DescriptionStyleModel",
            "description_width": "",
            "_view_module": "@jupyter-widgets/base",
            "_model_module_version": "1.5.0",
            "_view_count": null,
            "_view_module_version": "1.2.0",
            "_model_module": "@jupyter-widgets/controls"
          }
        },
        "85736030de63459db41b7cb121b764b5": {
          "model_module": "@jupyter-widgets/base",
          "model_name": "LayoutModel",
          "model_module_version": "1.2.0",
          "state": {
            "_view_name": "LayoutView",
            "grid_template_rows": null,
            "right": null,
            "justify_content": null,
            "_view_module": "@jupyter-widgets/base",
            "overflow": null,
            "_model_module_version": "1.2.0",
            "_view_count": null,
            "flex_flow": null,
            "width": null,
            "min_width": null,
            "border": null,
            "align_items": null,
            "bottom": null,
            "_model_module": "@jupyter-widgets/base",
            "top": null,
            "grid_column": null,
            "overflow_y": null,
            "overflow_x": null,
            "grid_auto_flow": null,
            "grid_area": null,
            "grid_template_columns": null,
            "flex": null,
            "_model_name": "LayoutModel",
            "justify_items": null,
            "grid_row": null,
            "max_height": null,
            "align_content": null,
            "visibility": null,
            "align_self": null,
            "height": null,
            "min_height": null,
            "padding": null,
            "grid_auto_rows": null,
            "grid_gap": null,
            "max_width": null,
            "order": null,
            "_view_module_version": "1.2.0",
            "grid_template_areas": null,
            "object_position": null,
            "object_fit": null,
            "grid_auto_columns": null,
            "margin": null,
            "display": null,
            "left": null
          }
        },
        "40288e9901c04f4c9f424de4155a4057": {
          "model_module": "@jupyter-widgets/controls",
          "model_name": "ProgressStyleModel",
          "model_module_version": "1.5.0",
          "state": {
            "_view_name": "StyleView",
            "_model_name": "ProgressStyleModel",
            "description_width": "",
            "_view_module": "@jupyter-widgets/base",
            "_model_module_version": "1.5.0",
            "_view_count": null,
            "_view_module_version": "1.2.0",
            "bar_color": null,
            "_model_module": "@jupyter-widgets/controls"
          }
        },
        "57c502713ef344009777307ef93451fd": {
          "model_module": "@jupyter-widgets/base",
          "model_name": "LayoutModel",
          "model_module_version": "1.2.0",
          "state": {
            "_view_name": "LayoutView",
            "grid_template_rows": null,
            "right": null,
            "justify_content": null,
            "_view_module": "@jupyter-widgets/base",
            "overflow": null,
            "_model_module_version": "1.2.0",
            "_view_count": null,
            "flex_flow": null,
            "width": null,
            "min_width": null,
            "border": null,
            "align_items": null,
            "bottom": null,
            "_model_module": "@jupyter-widgets/base",
            "top": null,
            "grid_column": null,
            "overflow_y": null,
            "overflow_x": null,
            "grid_auto_flow": null,
            "grid_area": null,
            "grid_template_columns": null,
            "flex": null,
            "_model_name": "LayoutModel",
            "justify_items": null,
            "grid_row": null,
            "max_height": null,
            "align_content": null,
            "visibility": null,
            "align_self": null,
            "height": null,
            "min_height": null,
            "padding": null,
            "grid_auto_rows": null,
            "grid_gap": null,
            "max_width": null,
            "order": null,
            "_view_module_version": "1.2.0",
            "grid_template_areas": null,
            "object_position": null,
            "object_fit": null,
            "grid_auto_columns": null,
            "margin": null,
            "display": null,
            "left": null
          }
        },
        "d9c9e1e19a2c4eef87083052dbf9f1cc": {
          "model_module": "@jupyter-widgets/controls",
          "model_name": "DescriptionStyleModel",
          "model_module_version": "1.5.0",
          "state": {
            "_view_name": "StyleView",
            "_model_name": "DescriptionStyleModel",
            "description_width": "",
            "_view_module": "@jupyter-widgets/base",
            "_model_module_version": "1.5.0",
            "_view_count": null,
            "_view_module_version": "1.2.0",
            "_model_module": "@jupyter-widgets/controls"
          }
        },
        "b33464113c3047e9bd1678e15b1b4eff": {
          "model_module": "@jupyter-widgets/base",
          "model_name": "LayoutModel",
          "model_module_version": "1.2.0",
          "state": {
            "_view_name": "LayoutView",
            "grid_template_rows": null,
            "right": null,
            "justify_content": null,
            "_view_module": "@jupyter-widgets/base",
            "overflow": null,
            "_model_module_version": "1.2.0",
            "_view_count": null,
            "flex_flow": null,
            "width": null,
            "min_width": null,
            "border": null,
            "align_items": null,
            "bottom": null,
            "_model_module": "@jupyter-widgets/base",
            "top": null,
            "grid_column": null,
            "overflow_y": null,
            "overflow_x": null,
            "grid_auto_flow": null,
            "grid_area": null,
            "grid_template_columns": null,
            "flex": null,
            "_model_name": "LayoutModel",
            "justify_items": null,
            "grid_row": null,
            "max_height": null,
            "align_content": null,
            "visibility": null,
            "align_self": null,
            "height": null,
            "min_height": null,
            "padding": null,
            "grid_auto_rows": null,
            "grid_gap": null,
            "max_width": null,
            "order": null,
            "_view_module_version": "1.2.0",
            "grid_template_areas": null,
            "object_position": null,
            "object_fit": null,
            "grid_auto_columns": null,
            "margin": null,
            "display": null,
            "left": null
          }
        },
        "5e5bc5e91b704b3697c775fd9f001485": {
          "model_module": "@jupyter-widgets/controls",
          "model_name": "HBoxModel",
          "model_module_version": "1.5.0",
          "state": {
            "_view_name": "HBoxView",
            "_dom_classes": [],
            "_model_name": "HBoxModel",
            "_view_module": "@jupyter-widgets/controls",
            "_model_module_version": "1.5.0",
            "_view_count": null,
            "_view_module_version": "1.5.0",
            "box_style": "",
            "layout": "IPY_MODEL_40f9896c710b4f3c914f39fdb19f8329",
            "_model_module": "@jupyter-widgets/controls",
            "children": [
              "IPY_MODEL_90a96898c11f42f6917dbfdb280af2a0",
              "IPY_MODEL_1b6259b087024fbcb4a267a6bab777a4",
              "IPY_MODEL_888a5392d5c747929a5ca45c052a9bca"
            ]
          }
        },
        "40f9896c710b4f3c914f39fdb19f8329": {
          "model_module": "@jupyter-widgets/base",
          "model_name": "LayoutModel",
          "model_module_version": "1.2.0",
          "state": {
            "_view_name": "LayoutView",
            "grid_template_rows": null,
            "right": null,
            "justify_content": null,
            "_view_module": "@jupyter-widgets/base",
            "overflow": null,
            "_model_module_version": "1.2.0",
            "_view_count": null,
            "flex_flow": null,
            "width": null,
            "min_width": null,
            "border": null,
            "align_items": null,
            "bottom": null,
            "_model_module": "@jupyter-widgets/base",
            "top": null,
            "grid_column": null,
            "overflow_y": null,
            "overflow_x": null,
            "grid_auto_flow": null,
            "grid_area": null,
            "grid_template_columns": null,
            "flex": null,
            "_model_name": "LayoutModel",
            "justify_items": null,
            "grid_row": null,
            "max_height": null,
            "align_content": null,
            "visibility": null,
            "align_self": null,
            "height": null,
            "min_height": null,
            "padding": null,
            "grid_auto_rows": null,
            "grid_gap": null,
            "max_width": null,
            "order": null,
            "_view_module_version": "1.2.0",
            "grid_template_areas": null,
            "object_position": null,
            "object_fit": null,
            "grid_auto_columns": null,
            "margin": null,
            "display": null,
            "left": null
          }
        },
        "90a96898c11f42f6917dbfdb280af2a0": {
          "model_module": "@jupyter-widgets/controls",
          "model_name": "HTMLModel",
          "model_module_version": "1.5.0",
          "state": {
            "_view_name": "HTMLView",
            "style": "IPY_MODEL_27921e32d12243cebea681a421b6c879",
            "_dom_classes": [],
            "description": "",
            "_model_name": "HTMLModel",
            "placeholder": "​",
            "_view_module": "@jupyter-widgets/controls",
            "_model_module_version": "1.5.0",
            "value": "Batches: 100%",
            "_view_count": null,
            "_view_module_version": "1.5.0",
            "description_tooltip": null,
            "_model_module": "@jupyter-widgets/controls",
            "layout": "IPY_MODEL_b380e0fc0280495c994691a9aebf6d77"
          }
        },
        "1b6259b087024fbcb4a267a6bab777a4": {
          "model_module": "@jupyter-widgets/controls",
          "model_name": "FloatProgressModel",
          "model_module_version": "1.5.0",
          "state": {
            "_view_name": "ProgressView",
            "style": "IPY_MODEL_a3268ca727bf4540b1fef9f3bfe042c8",
            "_dom_classes": [],
            "description": "",
            "_model_name": "FloatProgressModel",
            "bar_style": "success",
            "max": 175,
            "_view_module": "@jupyter-widgets/controls",
            "_model_module_version": "1.5.0",
            "value": 175,
            "_view_count": null,
            "_view_module_version": "1.5.0",
            "orientation": "horizontal",
            "min": 0,
            "description_tooltip": null,
            "_model_module": "@jupyter-widgets/controls",
            "layout": "IPY_MODEL_bf55e5ed39fb4294afda698a0e88732a"
          }
        },
        "888a5392d5c747929a5ca45c052a9bca": {
          "model_module": "@jupyter-widgets/controls",
          "model_name": "HTMLModel",
          "model_module_version": "1.5.0",
          "state": {
            "_view_name": "HTMLView",
            "style": "IPY_MODEL_5b49495377b34f46a4fcd31ce8e8e118",
            "_dom_classes": [],
            "description": "",
            "_model_name": "HTMLModel",
            "placeholder": "​",
            "_view_module": "@jupyter-widgets/controls",
            "_model_module_version": "1.5.0",
            "value": " 175/175 [05:53&lt;00:00,  3.14it/s]",
            "_view_count": null,
            "_view_module_version": "1.5.0",
            "description_tooltip": null,
            "_model_module": "@jupyter-widgets/controls",
            "layout": "IPY_MODEL_1ab2348cb5ee4073a11338f20459fb16"
          }
        },
        "27921e32d12243cebea681a421b6c879": {
          "model_module": "@jupyter-widgets/controls",
          "model_name": "DescriptionStyleModel",
          "model_module_version": "1.5.0",
          "state": {
            "_view_name": "StyleView",
            "_model_name": "DescriptionStyleModel",
            "description_width": "",
            "_view_module": "@jupyter-widgets/base",
            "_model_module_version": "1.5.0",
            "_view_count": null,
            "_view_module_version": "1.2.0",
            "_model_module": "@jupyter-widgets/controls"
          }
        },
        "b380e0fc0280495c994691a9aebf6d77": {
          "model_module": "@jupyter-widgets/base",
          "model_name": "LayoutModel",
          "model_module_version": "1.2.0",
          "state": {
            "_view_name": "LayoutView",
            "grid_template_rows": null,
            "right": null,
            "justify_content": null,
            "_view_module": "@jupyter-widgets/base",
            "overflow": null,
            "_model_module_version": "1.2.0",
            "_view_count": null,
            "flex_flow": null,
            "width": null,
            "min_width": null,
            "border": null,
            "align_items": null,
            "bottom": null,
            "_model_module": "@jupyter-widgets/base",
            "top": null,
            "grid_column": null,
            "overflow_y": null,
            "overflow_x": null,
            "grid_auto_flow": null,
            "grid_area": null,
            "grid_template_columns": null,
            "flex": null,
            "_model_name": "LayoutModel",
            "justify_items": null,
            "grid_row": null,
            "max_height": null,
            "align_content": null,
            "visibility": null,
            "align_self": null,
            "height": null,
            "min_height": null,
            "padding": null,
            "grid_auto_rows": null,
            "grid_gap": null,
            "max_width": null,
            "order": null,
            "_view_module_version": "1.2.0",
            "grid_template_areas": null,
            "object_position": null,
            "object_fit": null,
            "grid_auto_columns": null,
            "margin": null,
            "display": null,
            "left": null
          }
        },
        "a3268ca727bf4540b1fef9f3bfe042c8": {
          "model_module": "@jupyter-widgets/controls",
          "model_name": "ProgressStyleModel",
          "model_module_version": "1.5.0",
          "state": {
            "_view_name": "StyleView",
            "_model_name": "ProgressStyleModel",
            "description_width": "",
            "_view_module": "@jupyter-widgets/base",
            "_model_module_version": "1.5.0",
            "_view_count": null,
            "_view_module_version": "1.2.0",
            "bar_color": null,
            "_model_module": "@jupyter-widgets/controls"
          }
        },
        "bf55e5ed39fb4294afda698a0e88732a": {
          "model_module": "@jupyter-widgets/base",
          "model_name": "LayoutModel",
          "model_module_version": "1.2.0",
          "state": {
            "_view_name": "LayoutView",
            "grid_template_rows": null,
            "right": null,
            "justify_content": null,
            "_view_module": "@jupyter-widgets/base",
            "overflow": null,
            "_model_module_version": "1.2.0",
            "_view_count": null,
            "flex_flow": null,
            "width": null,
            "min_width": null,
            "border": null,
            "align_items": null,
            "bottom": null,
            "_model_module": "@jupyter-widgets/base",
            "top": null,
            "grid_column": null,
            "overflow_y": null,
            "overflow_x": null,
            "grid_auto_flow": null,
            "grid_area": null,
            "grid_template_columns": null,
            "flex": null,
            "_model_name": "LayoutModel",
            "justify_items": null,
            "grid_row": null,
            "max_height": null,
            "align_content": null,
            "visibility": null,
            "align_self": null,
            "height": null,
            "min_height": null,
            "padding": null,
            "grid_auto_rows": null,
            "grid_gap": null,
            "max_width": null,
            "order": null,
            "_view_module_version": "1.2.0",
            "grid_template_areas": null,
            "object_position": null,
            "object_fit": null,
            "grid_auto_columns": null,
            "margin": null,
            "display": null,
            "left": null
          }
        },
        "5b49495377b34f46a4fcd31ce8e8e118": {
          "model_module": "@jupyter-widgets/controls",
          "model_name": "DescriptionStyleModel",
          "model_module_version": "1.5.0",
          "state": {
            "_view_name": "StyleView",
            "_model_name": "DescriptionStyleModel",
            "description_width": "",
            "_view_module": "@jupyter-widgets/base",
            "_model_module_version": "1.5.0",
            "_view_count": null,
            "_view_module_version": "1.2.0",
            "_model_module": "@jupyter-widgets/controls"
          }
        },
        "1ab2348cb5ee4073a11338f20459fb16": {
          "model_module": "@jupyter-widgets/base",
          "model_name": "LayoutModel",
          "model_module_version": "1.2.0",
          "state": {
            "_view_name": "LayoutView",
            "grid_template_rows": null,
            "right": null,
            "justify_content": null,
            "_view_module": "@jupyter-widgets/base",
            "overflow": null,
            "_model_module_version": "1.2.0",
            "_view_count": null,
            "flex_flow": null,
            "width": null,
            "min_width": null,
            "border": null,
            "align_items": null,
            "bottom": null,
            "_model_module": "@jupyter-widgets/base",
            "top": null,
            "grid_column": null,
            "overflow_y": null,
            "overflow_x": null,
            "grid_auto_flow": null,
            "grid_area": null,
            "grid_template_columns": null,
            "flex": null,
            "_model_name": "LayoutModel",
            "justify_items": null,
            "grid_row": null,
            "max_height": null,
            "align_content": null,
            "visibility": null,
            "align_self": null,
            "height": null,
            "min_height": null,
            "padding": null,
            "grid_auto_rows": null,
            "grid_gap": null,
            "max_width": null,
            "order": null,
            "_view_module_version": "1.2.0",
            "grid_template_areas": null,
            "object_position": null,
            "object_fit": null,
            "grid_auto_columns": null,
            "margin": null,
            "display": null,
            "left": null
          }
        },
        "1d21f111bf48472fb17dbda6402d171f": {
          "model_module": "@jupyter-widgets/controls",
          "model_name": "HBoxModel",
          "model_module_version": "1.5.0",
          "state": {
            "_view_name": "HBoxView",
            "_dom_classes": [],
            "_model_name": "HBoxModel",
            "_view_module": "@jupyter-widgets/controls",
            "_model_module_version": "1.5.0",
            "_view_count": null,
            "_view_module_version": "1.5.0",
            "box_style": "",
            "layout": "IPY_MODEL_105bba43bb014d87b762c0319f3fd5b5",
            "_model_module": "@jupyter-widgets/controls",
            "children": [
              "IPY_MODEL_98c465fac14f4c17a752460155849c82",
              "IPY_MODEL_e275722e3d1b412082d921ff9ac8ae53",
              "IPY_MODEL_0d8f083c48ef4ca59ef49192a3466764"
            ]
          }
        },
        "105bba43bb014d87b762c0319f3fd5b5": {
          "model_module": "@jupyter-widgets/base",
          "model_name": "LayoutModel",
          "model_module_version": "1.2.0",
          "state": {
            "_view_name": "LayoutView",
            "grid_template_rows": null,
            "right": null,
            "justify_content": null,
            "_view_module": "@jupyter-widgets/base",
            "overflow": null,
            "_model_module_version": "1.2.0",
            "_view_count": null,
            "flex_flow": null,
            "width": null,
            "min_width": null,
            "border": null,
            "align_items": null,
            "bottom": null,
            "_model_module": "@jupyter-widgets/base",
            "top": null,
            "grid_column": null,
            "overflow_y": null,
            "overflow_x": null,
            "grid_auto_flow": null,
            "grid_area": null,
            "grid_template_columns": null,
            "flex": null,
            "_model_name": "LayoutModel",
            "justify_items": null,
            "grid_row": null,
            "max_height": null,
            "align_content": null,
            "visibility": null,
            "align_self": null,
            "height": null,
            "min_height": null,
            "padding": null,
            "grid_auto_rows": null,
            "grid_gap": null,
            "max_width": null,
            "order": null,
            "_view_module_version": "1.2.0",
            "grid_template_areas": null,
            "object_position": null,
            "object_fit": null,
            "grid_auto_columns": null,
            "margin": null,
            "display": null,
            "left": null
          }
        },
        "98c465fac14f4c17a752460155849c82": {
          "model_module": "@jupyter-widgets/controls",
          "model_name": "HTMLModel",
          "model_module_version": "1.5.0",
          "state": {
            "_view_name": "HTMLView",
            "style": "IPY_MODEL_48f186c51d3c41b4a48c12750a289f06",
            "_dom_classes": [],
            "description": "",
            "_model_name": "HTMLModel",
            "placeholder": "​",
            "_view_module": "@jupyter-widgets/controls",
            "_model_module_version": "1.5.0",
            "value": "Batches: 100%",
            "_view_count": null,
            "_view_module_version": "1.5.0",
            "description_tooltip": null,
            "_model_module": "@jupyter-widgets/controls",
            "layout": "IPY_MODEL_c99667e8fb664819b17e93b96b00549f"
          }
        },
        "e275722e3d1b412082d921ff9ac8ae53": {
          "model_module": "@jupyter-widgets/controls",
          "model_name": "FloatProgressModel",
          "model_module_version": "1.5.0",
          "state": {
            "_view_name": "ProgressView",
            "style": "IPY_MODEL_41e5b364bf9b4a8baca4d618565ae552",
            "_dom_classes": [],
            "description": "",
            "_model_name": "FloatProgressModel",
            "bar_style": "success",
            "max": 27,
            "_view_module": "@jupyter-widgets/controls",
            "_model_module_version": "1.5.0",
            "value": 27,
            "_view_count": null,
            "_view_module_version": "1.5.0",
            "orientation": "horizontal",
            "min": 0,
            "description_tooltip": null,
            "_model_module": "@jupyter-widgets/controls",
            "layout": "IPY_MODEL_aec69a65c52443faa9ea49b7b78701bc"
          }
        },
        "0d8f083c48ef4ca59ef49192a3466764": {
          "model_module": "@jupyter-widgets/controls",
          "model_name": "HTMLModel",
          "model_module_version": "1.5.0",
          "state": {
            "_view_name": "HTMLView",
            "style": "IPY_MODEL_7fe6ee37ab8f4e6aac56f493165ccfe5",
            "_dom_classes": [],
            "description": "",
            "_model_name": "HTMLModel",
            "placeholder": "​",
            "_view_module": "@jupyter-widgets/controls",
            "_model_module_version": "1.5.0",
            "value": " 27/27 [00:57&lt;00:00,  2.64it/s]",
            "_view_count": null,
            "_view_module_version": "1.5.0",
            "description_tooltip": null,
            "_model_module": "@jupyter-widgets/controls",
            "layout": "IPY_MODEL_52e65095526d46ceaa0f55b9c1eed202"
          }
        },
        "48f186c51d3c41b4a48c12750a289f06": {
          "model_module": "@jupyter-widgets/controls",
          "model_name": "DescriptionStyleModel",
          "model_module_version": "1.5.0",
          "state": {
            "_view_name": "StyleView",
            "_model_name": "DescriptionStyleModel",
            "description_width": "",
            "_view_module": "@jupyter-widgets/base",
            "_model_module_version": "1.5.0",
            "_view_count": null,
            "_view_module_version": "1.2.0",
            "_model_module": "@jupyter-widgets/controls"
          }
        },
        "c99667e8fb664819b17e93b96b00549f": {
          "model_module": "@jupyter-widgets/base",
          "model_name": "LayoutModel",
          "model_module_version": "1.2.0",
          "state": {
            "_view_name": "LayoutView",
            "grid_template_rows": null,
            "right": null,
            "justify_content": null,
            "_view_module": "@jupyter-widgets/base",
            "overflow": null,
            "_model_module_version": "1.2.0",
            "_view_count": null,
            "flex_flow": null,
            "width": null,
            "min_width": null,
            "border": null,
            "align_items": null,
            "bottom": null,
            "_model_module": "@jupyter-widgets/base",
            "top": null,
            "grid_column": null,
            "overflow_y": null,
            "overflow_x": null,
            "grid_auto_flow": null,
            "grid_area": null,
            "grid_template_columns": null,
            "flex": null,
            "_model_name": "LayoutModel",
            "justify_items": null,
            "grid_row": null,
            "max_height": null,
            "align_content": null,
            "visibility": null,
            "align_self": null,
            "height": null,
            "min_height": null,
            "padding": null,
            "grid_auto_rows": null,
            "grid_gap": null,
            "max_width": null,
            "order": null,
            "_view_module_version": "1.2.0",
            "grid_template_areas": null,
            "object_position": null,
            "object_fit": null,
            "grid_auto_columns": null,
            "margin": null,
            "display": null,
            "left": null
          }
        },
        "41e5b364bf9b4a8baca4d618565ae552": {
          "model_module": "@jupyter-widgets/controls",
          "model_name": "ProgressStyleModel",
          "model_module_version": "1.5.0",
          "state": {
            "_view_name": "StyleView",
            "_model_name": "ProgressStyleModel",
            "description_width": "",
            "_view_module": "@jupyter-widgets/base",
            "_model_module_version": "1.5.0",
            "_view_count": null,
            "_view_module_version": "1.2.0",
            "bar_color": null,
            "_model_module": "@jupyter-widgets/controls"
          }
        },
        "aec69a65c52443faa9ea49b7b78701bc": {
          "model_module": "@jupyter-widgets/base",
          "model_name": "LayoutModel",
          "model_module_version": "1.2.0",
          "state": {
            "_view_name": "LayoutView",
            "grid_template_rows": null,
            "right": null,
            "justify_content": null,
            "_view_module": "@jupyter-widgets/base",
            "overflow": null,
            "_model_module_version": "1.2.0",
            "_view_count": null,
            "flex_flow": null,
            "width": null,
            "min_width": null,
            "border": null,
            "align_items": null,
            "bottom": null,
            "_model_module": "@jupyter-widgets/base",
            "top": null,
            "grid_column": null,
            "overflow_y": null,
            "overflow_x": null,
            "grid_auto_flow": null,
            "grid_area": null,
            "grid_template_columns": null,
            "flex": null,
            "_model_name": "LayoutModel",
            "justify_items": null,
            "grid_row": null,
            "max_height": null,
            "align_content": null,
            "visibility": null,
            "align_self": null,
            "height": null,
            "min_height": null,
            "padding": null,
            "grid_auto_rows": null,
            "grid_gap": null,
            "max_width": null,
            "order": null,
            "_view_module_version": "1.2.0",
            "grid_template_areas": null,
            "object_position": null,
            "object_fit": null,
            "grid_auto_columns": null,
            "margin": null,
            "display": null,
            "left": null
          }
        },
        "7fe6ee37ab8f4e6aac56f493165ccfe5": {
          "model_module": "@jupyter-widgets/controls",
          "model_name": "DescriptionStyleModel",
          "model_module_version": "1.5.0",
          "state": {
            "_view_name": "StyleView",
            "_model_name": "DescriptionStyleModel",
            "description_width": "",
            "_view_module": "@jupyter-widgets/base",
            "_model_module_version": "1.5.0",
            "_view_count": null,
            "_view_module_version": "1.2.0",
            "_model_module": "@jupyter-widgets/controls"
          }
        },
        "52e65095526d46ceaa0f55b9c1eed202": {
          "model_module": "@jupyter-widgets/base",
          "model_name": "LayoutModel",
          "model_module_version": "1.2.0",
          "state": {
            "_view_name": "LayoutView",
            "grid_template_rows": null,
            "right": null,
            "justify_content": null,
            "_view_module": "@jupyter-widgets/base",
            "overflow": null,
            "_model_module_version": "1.2.0",
            "_view_count": null,
            "flex_flow": null,
            "width": null,
            "min_width": null,
            "border": null,
            "align_items": null,
            "bottom": null,
            "_model_module": "@jupyter-widgets/base",
            "top": null,
            "grid_column": null,
            "overflow_y": null,
            "overflow_x": null,
            "grid_auto_flow": null,
            "grid_area": null,
            "grid_template_columns": null,
            "flex": null,
            "_model_name": "LayoutModel",
            "justify_items": null,
            "grid_row": null,
            "max_height": null,
            "align_content": null,
            "visibility": null,
            "align_self": null,
            "height": null,
            "min_height": null,
            "padding": null,
            "grid_auto_rows": null,
            "grid_gap": null,
            "max_width": null,
            "order": null,
            "_view_module_version": "1.2.0",
            "grid_template_areas": null,
            "object_position": null,
            "object_fit": null,
            "grid_auto_columns": null,
            "margin": null,
            "display": null,
            "left": null
          }
        }
      }
    }
  },
  "cells": [
    {
      "cell_type": "markdown",
      "metadata": {
        "id": "view-in-github",
        "colab_type": "text"
      },
      "source": [
        "<a href=\"https://colab.research.google.com/github/LYULU2/covid-vaccine-misinformation/blob/master/CTM.ipynb\" target=\"_parent\"><img src=\"https://colab.research.google.com/assets/colab-badge.svg\" alt=\"Open In Colab\"/></a>"
      ]
    },
    {
      "cell_type": "code",
      "metadata": {
        "id": "qqSfbpS62Sm1"
      },
      "source": [
        "%%capture\n",
        "!pip install contextualized-topic-models\n",
        "!pip install torch==1.6.0+cu101 torchvision==0.7.0+cu101 -f https://download.pytorch.org/whl/torch_stable.html\n",
        "!pip install -U tqdm"
      ],
      "execution_count": 4,
      "outputs": []
    },
    {
      "cell_type": "markdown",
      "metadata": {
        "id": "eOP5Qsxi2inB"
      },
      "source": [
        "## Restart the Notebook"
      ]
    },
    {
      "cell_type": "code",
      "metadata": {
        "colab": {
          "base_uri": "https://localhost:8080/"
        },
        "id": "kjcwKgQw3g3H",
        "outputId": "bf5b0ceb-e07b-4544-d0aa-4ad7e62e8663"
      },
      "source": [
        "import numpy as np\n",
        "import pandas as pd\n",
        "import string\n",
        "from gensim import matutils, models\n",
        "import scipy.sparse\n",
        "from sklearn.feature_extraction.text import CountVectorizer, TfidfVectorizer\n",
        "import re\n",
        "import nltk\n",
        "nltk.download('stopwords')\n",
        "from nltk.stem import PorterStemmer\n",
        "from nltk.corpus import stopwords\n",
        "from sklearn.feature_extraction import text\n",
        "\n",
        "import matplotlib.pyplot as plt\n",
        "import seaborn as sns\n",
        "\n",
        "from contextualized_topic_models.models.ctm import ZeroShotTM\n",
        "from contextualized_topic_models.utils.data_preparation import TopicModelDataPreparation\n",
        "from contextualized_topic_models.utils.preprocessing import WhiteSpacePreprocessing\n",
        "import nltk"
      ],
      "execution_count": 1,
      "outputs": [
        {
          "output_type": "stream",
          "name": "stdout",
          "text": [
            "[nltk_data] Downloading package stopwords to /root/nltk_data...\n",
            "[nltk_data]   Package stopwords is already up-to-date!\n"
          ]
        }
      ]
    },
    {
      "cell_type": "markdown",
      "metadata": {
        "id": "TbSl1DiRjToi"
      },
      "source": [
        "## Alt-Before"
      ]
    },
    {
      "cell_type": "markdown",
      "metadata": {
        "id": "HoYcQMM22n8Z"
      },
      "source": [
        "### read data"
      ]
    },
    {
      "cell_type": "code",
      "metadata": {
        "colab": {
          "base_uri": "https://localhost:8080/"
        },
        "id": "j8BxRaDf2XRD",
        "outputId": "cfb14a80-ebeb-418a-e0b7-8ba8aaf32333"
      },
      "source": [
        "from google.colab import drive\n",
        "drive.mount(\"/content/drive\")"
      ],
      "execution_count": 185,
      "outputs": [
        {
          "output_type": "stream",
          "name": "stdout",
          "text": [
            "Drive already mounted at /content/drive; to attempt to forcibly remount, call drive.mount(\"/content/drive\", force_remount=True).\n"
          ]
        }
      ]
    },
    {
      "cell_type": "code",
      "metadata": {
        "id": "pTefT2fR2tSp"
      },
      "source": [
        "data_alt_before = pd.read_csv('/content/drive/MyDrive/Colab Notebooks/alt_before_cleaned.csv', delimiter=',')\n",
        "data_alt_before_corpus = pd.DataFrame(pd.read_csv('/content/drive/MyDrive/Alt-right-2018-01-01--2020-02-29.csv', delimiter=',')['Message'])"
      ],
      "execution_count": 186,
      "outputs": []
    },
    {
      "cell_type": "code",
      "metadata": {
        "id": "G2UmmZHy-Jm3"
      },
      "source": [
        "add_stop_words = ['said','say', 'says','news', 'year', 'vaccine', 'covid', 'people','COVID-19','COVID',\n",
        "                  'coronavirus', 'vaccination', 'vaccinated', 'Pfizer','Pfizer-BioNTech',\n",
        "                  'Moderna', 'Johnson', 'Johnson’s', 'Janssen','j&j', 'mRNA', 'vaccination',\n",
        "                  'freedom', 'truth','science', 'government', 'control', 'dictate','personal',\n",
        "                  'choice', 'hoax', 'flu','www','com', 'http', 'vaccin']\n",
        "stop_words = text.ENGLISH_STOP_WORDS.union(add_stop_words)\n",
        "spanish = nltk.corpus.stopwords.words('spanish')\n",
        "stop_words = stop_words.union(spanish)\n",
        "\n",
        "def clean_text(text):\n",
        "  stemmed_text = []\n",
        "  porter_stemmer = PorterStemmer()\n",
        "  text = re.sub('[^a-zA-Z]', ' ', text)\n",
        "  text = re.sub(r'http\\S+', '', text)\n",
        "  text = re.sub(r'www\\.[a-z]+\\.at', '', text)\n",
        "  text = re.sub(r'(@[A-Za-z]+[A-Za-z0-9-_]+)', '', text) #remove mentions\n",
        "  text = re.sub(r'bit.ly/\\S+', '', text)\n",
        "  text = re.sub(r'^((https?|ftp|smtp):\\/\\/)?(www.)?[a-z0-9]+\\.[a-z]+(\\/[a-zA-Z0-9#]+\\/?)*$', '', text)\n",
        "  text = re.sub(r'https?:\\/\\/(www\\.)?[-a-zA-Z0-9@:%._\\+~#=]{1,256}\\.[a-zA-Z0-9()]{1,6}\\b([-a-zA-Z0-9()@:%_\\+.~#?&//=]*)', '', text)\n",
        "  result = re.sub('[%s]' % re.escape(string.punctuation), '', text)\n",
        "  result = result.lower()\n",
        "  result = result.split()\n",
        "  result = [r for r in result if r not in stop_words]\n",
        "  stemmed_result = [porter_stemmer.stem(r) for r in result]\n",
        "  stemmed_text.append(\" \".join(stemmed_result))\n",
        "  return stemmed_text"
      ],
      "execution_count": 187,
      "outputs": []
    },
    {
      "cell_type": "code",
      "metadata": {
        "id": "uKPKTsTi8OZH"
      },
      "source": [
        "def pre_process_without_combine(data):\n",
        "  data['Message'] = data['Message'].drop_duplicates()\n",
        "  data['Message'] = data['Message'].fillna('')\n",
        "  data['Message'] = data['Message'].astype('string')\n",
        "  data['Message'] = data['Message'].apply(clean_text)\n",
        "  data['Message'] = data['Message'].apply(np.squeeze)\n",
        "  data = data[data['Message']!=\"\"]\n",
        "  \n",
        "  return data\n",
        "\n",
        "alt_before = pre_process_without_combine(data_alt_before_corpus)"
      ],
      "execution_count": 188,
      "outputs": []
    },
    {
      "cell_type": "code",
      "metadata": {
        "id": "E6kGKtubjQF1"
      },
      "source": [
        "data_alt_before = pd.read_csv('/content/drive/MyDrive/Colab Notebooks/alt_before_cleaned.csv', delimiter=',')\n",
        "data_alt_before_corpus = pd.DataFrame(pd.read_csv('/content/drive/MyDrive/Alt-right-2018-01-01--2020-02-29.csv', delimiter=',')['Message'])"
      ],
      "execution_count": 189,
      "outputs": []
    },
    {
      "cell_type": "code",
      "metadata": {
        "id": "aRZAWtA84Mvv"
      },
      "source": [
        "def pre_process_without_combine(data):\n",
        "  data['Message'] = data['Message'].drop_duplicates()\n",
        "  data['Message'] = data['Message'].fillna('')\n",
        "  data['Message'] = data['Message'].astype('string')\n",
        "  data['Message'] = data['Message'].apply(np.squeeze)\n",
        "  data = data[data['Message']!=\"\"]\n",
        "  \n",
        "  return pd.DataFrame(data['Message'])"
      ],
      "execution_count": 190,
      "outputs": []
    },
    {
      "cell_type": "code",
      "metadata": {
        "id": "aIy36mMz9T10"
      },
      "source": [
        "data_alt_before_corpus = pre_process_without_combine(data_alt_before_corpus)"
      ],
      "execution_count": 191,
      "outputs": []
    },
    {
      "cell_type": "code",
      "metadata": {
        "colab": {
          "base_uri": "https://localhost:8080/",
          "height": 424
        },
        "id": "IWLp05hM8oIQ",
        "outputId": "046154c3-ffbe-4e64-9655-a038e98d93dd"
      },
      "source": [
        "alt_before"
      ],
      "execution_count": 192,
      "outputs": [
        {
          "output_type": "execute_result",
          "data": {
            "text/html": [
              "<div>\n",
              "<style scoped>\n",
              "    .dataframe tbody tr th:only-of-type {\n",
              "        vertical-align: middle;\n",
              "    }\n",
              "\n",
              "    .dataframe tbody tr th {\n",
              "        vertical-align: top;\n",
              "    }\n",
              "\n",
              "    .dataframe thead th {\n",
              "        text-align: right;\n",
              "    }\n",
              "</style>\n",
              "<table border=\"1\" class=\"dataframe\">\n",
              "  <thead>\n",
              "    <tr style=\"text-align: right;\">\n",
              "      <th></th>\n",
              "      <th>Message</th>\n",
              "    </tr>\n",
              "  </thead>\n",
              "  <tbody>\n",
              "    <tr>\n",
              "      <th>1</th>\n",
              "      <td>happi birthday madelein carrol highest paid ac...</td>\n",
              "    </tr>\n",
              "    <tr>\n",
              "      <th>3</th>\n",
              "      <td>pelosi absolut lost mind</td>\n",
              "    </tr>\n",
              "    <tr>\n",
              "      <th>5</th>\n",
              "      <td>break</td>\n",
              "    </tr>\n",
              "    <tr>\n",
              "      <th>9</th>\n",
              "      <td>donald j trump democrat busi wast time impeach...</td>\n",
              "    </tr>\n",
              "    <tr>\n",
              "      <th>10</th>\n",
              "      <td>went bartend vocal voic left</td>\n",
              "    </tr>\n",
              "    <tr>\n",
              "      <th>...</th>\n",
              "      <td>...</td>\n",
              "    </tr>\n",
              "    <tr>\n",
              "      <th>4734</th>\n",
              "      <td>corrupt call corrupt wow world world defin won...</td>\n",
              "    </tr>\n",
              "    <tr>\n",
              "      <th>4735</th>\n",
              "      <td>stun result</td>\n",
              "    </tr>\n",
              "    <tr>\n",
              "      <th>4736</th>\n",
              "      <td>advertis decid warn m sure ll take soon</td>\n",
              "    </tr>\n",
              "    <tr>\n",
              "      <th>4741</th>\n",
              "      <td>fact weshallnotforget prideandheritageforward ...</td>\n",
              "    </tr>\n",
              "    <tr>\n",
              "      <th>4743</th>\n",
              "      <td>saw face doctor assum woman suffer allerg reac...</td>\n",
              "    </tr>\n",
              "  </tbody>\n",
              "</table>\n",
              "<p>2626 rows × 1 columns</p>\n",
              "</div>"
            ],
            "text/plain": [
              "                                                Message\n",
              "1     happi birthday madelein carrol highest paid ac...\n",
              "3                              pelosi absolut lost mind\n",
              "5                                                 break\n",
              "9     donald j trump democrat busi wast time impeach...\n",
              "10                         went bartend vocal voic left\n",
              "...                                                 ...\n",
              "4734  corrupt call corrupt wow world world defin won...\n",
              "4735                                        stun result\n",
              "4736            advertis decid warn m sure ll take soon\n",
              "4741  fact weshallnotforget prideandheritageforward ...\n",
              "4743  saw face doctor assum woman suffer allerg reac...\n",
              "\n",
              "[2626 rows x 1 columns]"
            ]
          },
          "metadata": {},
          "execution_count": 192
        }
      ]
    },
    {
      "cell_type": "code",
      "metadata": {
        "id": "S3HqyXkVWP2r"
      },
      "source": [
        "alt_before = alt_before.reset_index()"
      ],
      "execution_count": 193,
      "outputs": []
    },
    {
      "cell_type": "code",
      "metadata": {
        "id": "XxNEqcs2WloQ"
      },
      "source": [
        "data_alt_before_corpus = data_alt_before_corpus.reset_index()"
      ],
      "execution_count": 194,
      "outputs": []
    },
    {
      "cell_type": "code",
      "metadata": {
        "id": "T2S5CpfkW6Cl"
      },
      "source": [
        "data_alt_before_corpus.columns = ['index', 'Raw_Message']"
      ],
      "execution_count": 195,
      "outputs": []
    },
    {
      "cell_type": "code",
      "metadata": {
        "colab": {
          "base_uri": "https://localhost:8080/",
          "height": 424
        },
        "id": "BCRyfdeJVLOK",
        "outputId": "cce83ae5-1ac9-43b0-a9b4-063e83939ee5"
      },
      "source": [
        "alt_before_join = alt_before.merge(data_alt_before_corpus)\n",
        "alt_before_join"
      ],
      "execution_count": 196,
      "outputs": [
        {
          "output_type": "execute_result",
          "data": {
            "text/html": [
              "<div>\n",
              "<style scoped>\n",
              "    .dataframe tbody tr th:only-of-type {\n",
              "        vertical-align: middle;\n",
              "    }\n",
              "\n",
              "    .dataframe tbody tr th {\n",
              "        vertical-align: top;\n",
              "    }\n",
              "\n",
              "    .dataframe thead th {\n",
              "        text-align: right;\n",
              "    }\n",
              "</style>\n",
              "<table border=\"1\" class=\"dataframe\">\n",
              "  <thead>\n",
              "    <tr style=\"text-align: right;\">\n",
              "      <th></th>\n",
              "      <th>index</th>\n",
              "      <th>Message</th>\n",
              "      <th>Raw_Message</th>\n",
              "    </tr>\n",
              "  </thead>\n",
              "  <tbody>\n",
              "    <tr>\n",
              "      <th>0</th>\n",
              "      <td>1</td>\n",
              "      <td>happi birthday madelein carrol highest paid ac...</td>\n",
              "      <td>Happy Birthday To Madeleine Carroll. She Was T...</td>\n",
              "    </tr>\n",
              "    <tr>\n",
              "      <th>1</th>\n",
              "      <td>3</td>\n",
              "      <td>pelosi absolut lost mind</td>\n",
              "      <td>Pelosi Has Absolutely Lost Her Mind! 😲😒</td>\n",
              "    </tr>\n",
              "    <tr>\n",
              "      <th>2</th>\n",
              "      <td>5</td>\n",
              "      <td>break</td>\n",
              "      <td>BREAKING</td>\n",
              "    </tr>\n",
              "    <tr>\n",
              "      <th>3</th>\n",
              "      <td>9</td>\n",
              "      <td>donald j trump democrat busi wast time impeach...</td>\n",
              "      <td>Donald J. Trump Do Nothing Democrats were busy...</td>\n",
              "    </tr>\n",
              "    <tr>\n",
              "      <th>4</th>\n",
              "      <td>10</td>\n",
              "      <td>went bartend vocal voic left</td>\n",
              "      <td>This from someone who went from bartender to o...</td>\n",
              "    </tr>\n",
              "    <tr>\n",
              "      <th>...</th>\n",
              "      <td>...</td>\n",
              "      <td>...</td>\n",
              "      <td>...</td>\n",
              "    </tr>\n",
              "    <tr>\n",
              "      <th>2621</th>\n",
              "      <td>4734</td>\n",
              "      <td>corrupt call corrupt wow world world defin won...</td>\n",
              "      <td>THE CORRUPT ARE CALLING OTHERS CORRUPT Wow!! W...</td>\n",
              "    </tr>\n",
              "    <tr>\n",
              "      <th>2622</th>\n",
              "      <td>4735</td>\n",
              "      <td>stun result</td>\n",
              "      <td>STUNNING RESULT!</td>\n",
              "    </tr>\n",
              "    <tr>\n",
              "      <th>2623</th>\n",
              "      <td>4736</td>\n",
              "      <td>advertis decid warn m sure ll take soon</td>\n",
              "      <td>Truth in Advertising....Someone decided to war...</td>\n",
              "    </tr>\n",
              "    <tr>\n",
              "      <th>2624</th>\n",
              "      <td>4741</td>\n",
              "      <td>fact weshallnotforget prideandheritageforward ...</td>\n",
              "      <td>Truth &amp; Fact... #WeShallNotForget #PrideandHer...</td>\n",
              "    </tr>\n",
              "    <tr>\n",
              "      <th>2625</th>\n",
              "      <td>4743</td>\n",
              "      <td>saw face doctor assum woman suffer allerg reac...</td>\n",
              "      <td>When they first saw her face, doctors assumed ...</td>\n",
              "    </tr>\n",
              "  </tbody>\n",
              "</table>\n",
              "<p>2626 rows × 3 columns</p>\n",
              "</div>"
            ],
            "text/plain": [
              "      index  ...                                        Raw_Message\n",
              "0         1  ...  Happy Birthday To Madeleine Carroll. She Was T...\n",
              "1         3  ...            Pelosi Has Absolutely Lost Her Mind! 😲😒\n",
              "2         5  ...                                           BREAKING\n",
              "3         9  ...  Donald J. Trump Do Nothing Democrats were busy...\n",
              "4        10  ...  This from someone who went from bartender to o...\n",
              "...     ...  ...                                                ...\n",
              "2621   4734  ...  THE CORRUPT ARE CALLING OTHERS CORRUPT Wow!! W...\n",
              "2622   4735  ...                                   STUNNING RESULT!\n",
              "2623   4736  ...  Truth in Advertising....Someone decided to war...\n",
              "2624   4741  ...  Truth & Fact... #WeShallNotForget #PrideandHer...\n",
              "2625   4743  ...  When they first saw her face, doctors assumed ...\n",
              "\n",
              "[2626 rows x 3 columns]"
            ]
          },
          "metadata": {},
          "execution_count": 196
        }
      ]
    },
    {
      "cell_type": "code",
      "metadata": {
        "id": "1DwUpqTPZPtp"
      },
      "source": [
        "alt_before_join.drop(columns = 'index',inplace=True)"
      ],
      "execution_count": 197,
      "outputs": []
    },
    {
      "cell_type": "code",
      "metadata": {
        "colab": {
          "base_uri": "https://localhost:8080/",
          "height": 424
        },
        "id": "XaypQFCxXVud",
        "outputId": "8856c5f0-7329-4620-916c-64fa400679de"
      },
      "source": [
        "alt_before_join"
      ],
      "execution_count": 198,
      "outputs": [
        {
          "output_type": "execute_result",
          "data": {
            "text/html": [
              "<div>\n",
              "<style scoped>\n",
              "    .dataframe tbody tr th:only-of-type {\n",
              "        vertical-align: middle;\n",
              "    }\n",
              "\n",
              "    .dataframe tbody tr th {\n",
              "        vertical-align: top;\n",
              "    }\n",
              "\n",
              "    .dataframe thead th {\n",
              "        text-align: right;\n",
              "    }\n",
              "</style>\n",
              "<table border=\"1\" class=\"dataframe\">\n",
              "  <thead>\n",
              "    <tr style=\"text-align: right;\">\n",
              "      <th></th>\n",
              "      <th>Message</th>\n",
              "      <th>Raw_Message</th>\n",
              "    </tr>\n",
              "  </thead>\n",
              "  <tbody>\n",
              "    <tr>\n",
              "      <th>0</th>\n",
              "      <td>happi birthday madelein carrol highest paid ac...</td>\n",
              "      <td>Happy Birthday To Madeleine Carroll. She Was T...</td>\n",
              "    </tr>\n",
              "    <tr>\n",
              "      <th>1</th>\n",
              "      <td>pelosi absolut lost mind</td>\n",
              "      <td>Pelosi Has Absolutely Lost Her Mind! 😲😒</td>\n",
              "    </tr>\n",
              "    <tr>\n",
              "      <th>2</th>\n",
              "      <td>break</td>\n",
              "      <td>BREAKING</td>\n",
              "    </tr>\n",
              "    <tr>\n",
              "      <th>3</th>\n",
              "      <td>donald j trump democrat busi wast time impeach...</td>\n",
              "      <td>Donald J. Trump Do Nothing Democrats were busy...</td>\n",
              "    </tr>\n",
              "    <tr>\n",
              "      <th>4</th>\n",
              "      <td>went bartend vocal voic left</td>\n",
              "      <td>This from someone who went from bartender to o...</td>\n",
              "    </tr>\n",
              "    <tr>\n",
              "      <th>...</th>\n",
              "      <td>...</td>\n",
              "      <td>...</td>\n",
              "    </tr>\n",
              "    <tr>\n",
              "      <th>2621</th>\n",
              "      <td>corrupt call corrupt wow world world defin won...</td>\n",
              "      <td>THE CORRUPT ARE CALLING OTHERS CORRUPT Wow!! W...</td>\n",
              "    </tr>\n",
              "    <tr>\n",
              "      <th>2622</th>\n",
              "      <td>stun result</td>\n",
              "      <td>STUNNING RESULT!</td>\n",
              "    </tr>\n",
              "    <tr>\n",
              "      <th>2623</th>\n",
              "      <td>advertis decid warn m sure ll take soon</td>\n",
              "      <td>Truth in Advertising....Someone decided to war...</td>\n",
              "    </tr>\n",
              "    <tr>\n",
              "      <th>2624</th>\n",
              "      <td>fact weshallnotforget prideandheritageforward ...</td>\n",
              "      <td>Truth &amp; Fact... #WeShallNotForget #PrideandHer...</td>\n",
              "    </tr>\n",
              "    <tr>\n",
              "      <th>2625</th>\n",
              "      <td>saw face doctor assum woman suffer allerg reac...</td>\n",
              "      <td>When they first saw her face, doctors assumed ...</td>\n",
              "    </tr>\n",
              "  </tbody>\n",
              "</table>\n",
              "<p>2626 rows × 2 columns</p>\n",
              "</div>"
            ],
            "text/plain": [
              "                                                Message                                        Raw_Message\n",
              "0     happi birthday madelein carrol highest paid ac...  Happy Birthday To Madeleine Carroll. She Was T...\n",
              "1                              pelosi absolut lost mind            Pelosi Has Absolutely Lost Her Mind! 😲😒\n",
              "2                                                 break                                           BREAKING\n",
              "3     donald j trump democrat busi wast time impeach...  Donald J. Trump Do Nothing Democrats were busy...\n",
              "4                          went bartend vocal voic left  This from someone who went from bartender to o...\n",
              "...                                                 ...                                                ...\n",
              "2621  corrupt call corrupt wow world world defin won...  THE CORRUPT ARE CALLING OTHERS CORRUPT Wow!! W...\n",
              "2622                                        stun result                                   STUNNING RESULT!\n",
              "2623            advertis decid warn m sure ll take soon  Truth in Advertising....Someone decided to war...\n",
              "2624  fact weshallnotforget prideandheritageforward ...  Truth & Fact... #WeShallNotForget #PrideandHer...\n",
              "2625  saw face doctor assum woman suffer allerg reac...  When they first saw her face, doctors assumed ...\n",
              "\n",
              "[2626 rows x 2 columns]"
            ]
          },
          "metadata": {},
          "execution_count": 198
        }
      ]
    },
    {
      "cell_type": "markdown",
      "metadata": {
        "id": "kad0cF6vdtAE"
      },
      "source": [
        "### ZeroShotTM"
      ]
    },
    {
      "cell_type": "code",
      "metadata": {
        "colab": {
          "base_uri": "https://localhost:8080/",
          "height": 49,
          "referenced_widgets": [
            "c06df1e2aa8d447489c84e926322f86e",
            "0ff2e36fed54465fb814151aee916179",
            "0e1d4571e7c64b599df5f31e4a7d8e6d",
            "ec99c1f2b5e242188c3b10b71ee5bdba",
            "1128d3566ba646f7bf8f01b6835b32e5",
            "e7d836c6c3a3425eb25bccf9ecbf8609",
            "a5e6906dc8eb4402ad345a68594e929b",
            "e6a1775777864178b85aa1b9aae965df",
            "8af36165422e4441a92ffcf2cf60dee8",
            "73ec510bc19348929848a52c46096fed",
            "c0df106579c34fcdb28c8ac4d387c40c"
          ]
        },
        "id": "gKg_0RY2eWSg",
        "outputId": "ffaea3f5-502f-4b7e-ec79-589579b978e7"
      },
      "source": [
        "tp = TopicModelDataPreparation(\"paraphrase-distilroberta-base-v2\")\n",
        "\n",
        "training_dataset = tp.fit(text_for_contextual=alt_before_join['Raw_Message'], text_for_bow=alt_before_join['Message'])"
      ],
      "execution_count": 28,
      "outputs": [
        {
          "output_type": "display_data",
          "data": {
            "application/vnd.jupyter.widget-view+json": {
              "model_id": "c06df1e2aa8d447489c84e926322f86e",
              "version_minor": 0,
              "version_major": 2
            },
            "text/plain": [
              "Batches:   0%|          | 0/14 [00:00<?, ?it/s]"
            ]
          },
          "metadata": {}
        }
      ]
    },
    {
      "cell_type": "code",
      "metadata": {
        "colab": {
          "base_uri": "https://localhost:8080/"
        },
        "id": "e14Kfafvdt9E",
        "outputId": "f69e085a-91bc-4674-d818-e3b91875575c"
      },
      "source": [
        "ctm = ZeroShotTM(bow_size=len(tp.vocab), contextual_size=768, n_components=50, num_epochs=15)\n",
        "ctm.fit(training_dataset) # run the model"
      ],
      "execution_count": 29,
      "outputs": [
        {
          "output_type": "stream",
          "name": "stderr",
          "text": [
            "Epoch: [15/15]\t Seen Samples: [39390/39390]\tTrain Loss: 682.351283960277\tTime: 0:00:01.608123: : 15it [00:24,  1.64s/it]\n",
            "Sampling: [20/20]: : 20it [00:26,  1.34s/it]\n"
          ]
        }
      ]
    },
    {
      "cell_type": "code",
      "metadata": {
        "colab": {
          "base_uri": "https://localhost:8080/"
        },
        "id": "VXbFi8bqiOpe",
        "outputId": "80e03715-bf30-41bd-b9db-a02d683db52a"
      },
      "source": [
        "ctm.get_topics(5)"
      ],
      "execution_count": 30,
      "outputs": [
        {
          "output_type": "execute_result",
          "data": {
            "text/plain": [
              "defaultdict(list,\n",
              "            {0: ['presid', 'continu', 'minist', 'zambia', 'make'],\n",
              "             1: ['equal', 'cut', 'exercis', 'main', 'strengthen'],\n",
              "             2: ['machineri', 'saharan', 'amnesti', 'chosen', 'proport'],\n",
              "             3: ['time', 'mr', 'democrat', 'state', 'use'],\n",
              "             4: ['trump', 'thing', 'liber', 'make', 'today'],\n",
              "             5: ['ramirez', 'fee', 'boast', 'priorit', 'french'],\n",
              "             6: ['html', 'america', 've', 'refus', 'messag'],\n",
              "             7: ['dress', 'commerci', 'beam', 'friendli', 'collar'],\n",
              "             8: ['god', 'stand', 'call', 'stori', 'local'],\n",
              "             9: ['messag', 'east', 'read', 'john', 'html'],\n",
              "             10: ['couldn', 'excess', 'mayb', 'smallhold', 'broad'],\n",
              "             11: ['lebohang', 'imperson', 'cosponsor', 'readmit', 'xkiqeq'],\n",
              "             12: ['click', 'index', 'literatur', 'alamoministri', 'html'],\n",
              "             13: ['grate', 'bare', 'wise', 'scientist', 'mutual'],\n",
              "             14: ['resent', 'unfair', 'sphere', 'oversight', 'humanitarian'],\n",
              "             15: ['zambia', 'develop', 'nation', 'mr', 'minist'],\n",
              "             16: ['pressur', 'hasn', 'toilet', 'irrit', 'nanci'],\n",
              "             17: ['trump', 'death', 'rep', 'black', 'fals'],\n",
              "             18: ['alamoministri', 'content', 'index', 'english', 'read'],\n",
              "             19: ['obama', 'trump', 'far', 'fund', 'administr'],\n",
              "             20: ['includ', 'minist', 'work', 'commit', 'time'],\n",
              "             21: ['nation', 'countri', 'time', 'inform', 'state'],\n",
              "             22: ['democrat', 'trump', 'want', 'attend', 'war'],\n",
              "             23: ['melodrama', 'shinn', 'sodomi', 'enclos', 'teneo'],\n",
              "             24: ['literatur', 'texa', 'spree', 'cleanup', 'bostonmagazin'],\n",
              "             25: ['america', 'washington', 'trial', 'real', 'actual'],\n",
              "             26: ['usd', 'rsc', 'collar', 'closest', 'enclos'],\n",
              "             27: ['mpeyc', 'pickup', 'chock', 'hive', 'thegazett'],\n",
              "             28: ['deploy', 'charter', 'notabl', 'fulfil', 'misconduct'],\n",
              "             29: ['time', 'claim', 'trump', 'democrat', 'long'],\n",
              "             30: ['melodrama', 'thegazett', 'abiy', 'whimper', 'ussein'],\n",
              "             31: ['ba', 'recov', 'settl', 'preced', 'unfair'],\n",
              "             32: ['read', 'html', 'alamoministri', 'confeder', 'photo'],\n",
              "             33: ['airport', 'dissent', 'reliabl', 'regret', 'pursuit'],\n",
              "             34: ['recollect', 'fulfil', 'rourk', 'tide', 'korea'],\n",
              "             35: ['american', 'trump', 'war', 'administr', 'major'],\n",
              "             36: ['zambia', 'minist', 'countri', 'develop', 'mr'],\n",
              "             37: ['want', 'world', 'today', 'polit', 'did'],\n",
              "             38: ['littl', 'read', 'gospel', 'content', 'english'],\n",
              "             39: ['excess', 'anybodi', 'qualif', 'measl', 'swedish'],\n",
              "             40: ['tape', 'tone', 'text', 'stewardship', 'concentr'],\n",
              "             41: ['minist', 'respons', 'measur', 'republ', 'local'],\n",
              "             42: ['disregard', 'phiri', 'perceiv', 'sanit', 'thrive'],\n",
              "             43: ['public', 'zambia', 'countri', 'state', 'zambian'],\n",
              "             44: ['voucher', 'mechanis', 'grievou', 'volunt', 'thapril'],\n",
              "             45: ['grandmoth', 'kandeya', 'irrit', 'enclos', 'wrench'],\n",
              "             46: ['gun', 'america', 'trump', 'defens', 'democrat'],\n",
              "             47: ['chosen', 'judiciari', 'sleep', 'saharan', 'legitim'],\n",
              "             48: ['presid', 'zambia', 'public', 'lungu', 'minist'],\n",
              "             49: ['day', 'want', 'like', 'call', 'just']})"
            ]
          },
          "metadata": {},
          "execution_count": 30
        }
      ]
    },
    {
      "cell_type": "code",
      "metadata": {
        "colab": {
          "base_uri": "https://localhost:8080/"
        },
        "id": "S_vnuk9Bir_w",
        "outputId": "5ee45b6e-abdb-4e94-b20f-3aa09667946d"
      },
      "source": [
        "ctm.get_doc_topic_distribution(training_dataset, n_samples=20)"
      ],
      "execution_count": 32,
      "outputs": [
        {
          "output_type": "stream",
          "name": "stderr",
          "text": [
            "Sampling: [20/20]: : 20it [00:26,  1.33s/it]\n"
          ]
        },
        {
          "output_type": "execute_result",
          "data": {
            "text/plain": [
              "array([[0.01052515, 0.00897337, 0.01186503, ..., 0.00591496, 0.01107789,\n",
              "        0.0180976 ],\n",
              "       [0.00492709, 0.02168097, 0.03139576, ..., 0.03432643, 0.00360788,\n",
              "        0.0052426 ],\n",
              "       [0.00445955, 0.02383865, 0.08038545, ..., 0.10138373, 0.00367877,\n",
              "        0.00219151],\n",
              "       ...,\n",
              "       [0.0125275 , 0.02716107, 0.0218707 , ..., 0.02179904, 0.00992544,\n",
              "        0.00576406],\n",
              "       [0.00576102, 0.01360021, 0.01794332, ..., 0.01165518, 0.00323504,\n",
              "        0.00258107],\n",
              "       [0.00506683, 0.021872  , 0.01786223, ..., 0.02335826, 0.01982814,\n",
              "        0.00349581]])"
            ]
          },
          "metadata": {},
          "execution_count": 32
        }
      ]
    },
    {
      "cell_type": "code",
      "metadata": {
        "colab": {
          "base_uri": "https://localhost:8080/"
        },
        "id": "m-Y_NnZYi0-a",
        "outputId": "117bc89c-a840-44d7-fc6e-6745d6dfd6ef"
      },
      "source": [
        "ctm = ZeroShotTM(bow_size=len(tp.vocab), contextual_size=768, n_components=20, num_epochs=15)\n",
        "ctm.fit(training_dataset) # run the model"
      ],
      "execution_count": 33,
      "outputs": [
        {
          "output_type": "stream",
          "name": "stderr",
          "text": [
            "Epoch: [15/15]\t Seen Samples: [39390/39390]\tTrain Loss: 667.0836761980137\tTime: 0:00:01.621543: : 15it [00:24,  1.62s/it]\n",
            "0it [08:37, ?it/s]\n",
            "0it [06:16, ?it/s]\n",
            "Sampling: [20/20]: : 20it [00:27,  1.38s/it]\n"
          ]
        }
      ]
    },
    {
      "cell_type": "code",
      "metadata": {
        "colab": {
          "base_uri": "https://localhost:8080/"
        },
        "id": "bOMNpcGqi6dd",
        "outputId": "15e519f1-6d45-49dd-cd82-4c928e73a6c5"
      },
      "source": [
        "ctm.get_topics(5)"
      ],
      "execution_count": 34,
      "outputs": [
        {
          "output_type": "execute_result",
          "data": {
            "text/plain": [
              "defaultdict(list,\n",
              "            {0: ['craft', 'kabeta', 'illiber', 'shareabl', 'deviou'],\n",
              "             1: ['scream', 'enrich', 'height', 'absent', 'mindset'],\n",
              "             2: ['craft', 'fisheri', 'mount', 'handcuf', 'curtail'],\n",
              "             3: ['commun', 'presid', 'state', 'respons', 'nation'],\n",
              "             4: ['theft', 'equival', 'articul', 'steve', 'emul'],\n",
              "             5: ['trump', 'day', 'democrat', 'end', 'told'],\n",
              "             6: ['presid', 'parti', 'mr', 'leader', 'need'],\n",
              "             7: ['rent', 'requisit', 'kabeta', 'curtail', 'illiber'],\n",
              "             8: ['html', 'english', 'literatur', 'read', 'alamoministri'],\n",
              "             9: ['major', 'day', 'thing', 'did', 'time'],\n",
              "             10: ['zambia', 'develop', 'countri', 'continu', 'zambian'],\n",
              "             11: ['trump', 'didn', 'democrat', 'immigr', 'american'],\n",
              "             12: ['africa', 'african', 'lungu', 'presid', 'countri'],\n",
              "             13: ['alexand', 'handcuf', 'craft', 'kabeta', 'rainbow'],\n",
              "             14: ['corner', 'substanc', 'renown', 'fic', 'comput'],\n",
              "             15: ['zambia', 'countri', 'ministri', 'develop', 'zambian'],\n",
              "             16: ['zambia', 'lungu', 'presid', 'countri', 'need'],\n",
              "             17: ['honestli', 'reign', 'comparison', 'jurisdict', 'kabeta'],\n",
              "             18: ['american', 'democrat', 'america', 'trump', 'don'],\n",
              "             19: ['commerci', 'vanilla', 'relief', 'tropic', 'interim']})"
            ]
          },
          "metadata": {},
          "execution_count": 34
        }
      ]
    },
    {
      "cell_type": "code",
      "metadata": {
        "id": "KaICLvAzj1Vt"
      },
      "source": [
        "topics = pd.DataFrame.from_dict(ctm.get_topics(5)).transpose()\n",
        "topics.columns = [\"0\", \"1\", \"2\" ,\"3\",\"4\"]"
      ],
      "execution_count": 51,
      "outputs": []
    },
    {
      "cell_type": "code",
      "metadata": {
        "colab": {
          "base_uri": "https://localhost:8080/",
          "height": 677
        },
        "id": "84aqqGoZj-nb",
        "outputId": "9ed4af2d-840b-42b8-bac8-b72eb0de58a7"
      },
      "source": [
        "topics['topic_words'] = topics[\"0\"]+ \" \" + topics[\"1\"]+ \" \" + topics[\"2\"]+ \" \" + topics[\"3\"]+ \" \" + topics[\"4\"]\n",
        "topics = topics[['topic_words']]\n",
        "topics"
      ],
      "execution_count": 52,
      "outputs": [
        {
          "output_type": "execute_result",
          "data": {
            "text/html": [
              "<div>\n",
              "<style scoped>\n",
              "    .dataframe tbody tr th:only-of-type {\n",
              "        vertical-align: middle;\n",
              "    }\n",
              "\n",
              "    .dataframe tbody tr th {\n",
              "        vertical-align: top;\n",
              "    }\n",
              "\n",
              "    .dataframe thead th {\n",
              "        text-align: right;\n",
              "    }\n",
              "</style>\n",
              "<table border=\"1\" class=\"dataframe\">\n",
              "  <thead>\n",
              "    <tr style=\"text-align: right;\">\n",
              "      <th></th>\n",
              "      <th>topic_words</th>\n",
              "    </tr>\n",
              "  </thead>\n",
              "  <tbody>\n",
              "    <tr>\n",
              "      <th>0</th>\n",
              "      <td>craft kabeta illiber shareabl deviou</td>\n",
              "    </tr>\n",
              "    <tr>\n",
              "      <th>1</th>\n",
              "      <td>scream enrich height absent mindset</td>\n",
              "    </tr>\n",
              "    <tr>\n",
              "      <th>2</th>\n",
              "      <td>craft fisheri mount handcuf curtail</td>\n",
              "    </tr>\n",
              "    <tr>\n",
              "      <th>3</th>\n",
              "      <td>commun presid state respons nation</td>\n",
              "    </tr>\n",
              "    <tr>\n",
              "      <th>4</th>\n",
              "      <td>theft equival articul steve emul</td>\n",
              "    </tr>\n",
              "    <tr>\n",
              "      <th>5</th>\n",
              "      <td>trump day democrat end told</td>\n",
              "    </tr>\n",
              "    <tr>\n",
              "      <th>6</th>\n",
              "      <td>presid parti mr leader need</td>\n",
              "    </tr>\n",
              "    <tr>\n",
              "      <th>7</th>\n",
              "      <td>rent requisit kabeta curtail illiber</td>\n",
              "    </tr>\n",
              "    <tr>\n",
              "      <th>8</th>\n",
              "      <td>html english literatur read alamoministri</td>\n",
              "    </tr>\n",
              "    <tr>\n",
              "      <th>9</th>\n",
              "      <td>major day thing did time</td>\n",
              "    </tr>\n",
              "    <tr>\n",
              "      <th>10</th>\n",
              "      <td>zambia develop countri continu zambian</td>\n",
              "    </tr>\n",
              "    <tr>\n",
              "      <th>11</th>\n",
              "      <td>trump didn democrat immigr american</td>\n",
              "    </tr>\n",
              "    <tr>\n",
              "      <th>12</th>\n",
              "      <td>africa african lungu presid countri</td>\n",
              "    </tr>\n",
              "    <tr>\n",
              "      <th>13</th>\n",
              "      <td>alexand handcuf craft kabeta rainbow</td>\n",
              "    </tr>\n",
              "    <tr>\n",
              "      <th>14</th>\n",
              "      <td>corner substanc renown fic comput</td>\n",
              "    </tr>\n",
              "    <tr>\n",
              "      <th>15</th>\n",
              "      <td>zambia countri ministri develop zambian</td>\n",
              "    </tr>\n",
              "    <tr>\n",
              "      <th>16</th>\n",
              "      <td>zambia lungu presid countri need</td>\n",
              "    </tr>\n",
              "    <tr>\n",
              "      <th>17</th>\n",
              "      <td>honestli reign comparison jurisdict kabeta</td>\n",
              "    </tr>\n",
              "    <tr>\n",
              "      <th>18</th>\n",
              "      <td>american democrat america trump don</td>\n",
              "    </tr>\n",
              "    <tr>\n",
              "      <th>19</th>\n",
              "      <td>commerci vanilla relief tropic interim</td>\n",
              "    </tr>\n",
              "  </tbody>\n",
              "</table>\n",
              "</div>"
            ],
            "text/plain": [
              "                                   topic_words\n",
              "0         craft kabeta illiber shareabl deviou\n",
              "1          scream enrich height absent mindset\n",
              "2          craft fisheri mount handcuf curtail\n",
              "3           commun presid state respons nation\n",
              "4             theft equival articul steve emul\n",
              "5                  trump day democrat end told\n",
              "6                  presid parti mr leader need\n",
              "7         rent requisit kabeta curtail illiber\n",
              "8    html english literatur read alamoministri\n",
              "9                     major day thing did time\n",
              "10      zambia develop countri continu zambian\n",
              "11         trump didn democrat immigr american\n",
              "12         africa african lungu presid countri\n",
              "13        alexand handcuf craft kabeta rainbow\n",
              "14           corner substanc renown fic comput\n",
              "15     zambia countri ministri develop zambian\n",
              "16            zambia lungu presid countri need\n",
              "17  honestli reign comparison jurisdict kabeta\n",
              "18         american democrat america trump don\n",
              "19      commerci vanilla relief tropic interim"
            ]
          },
          "metadata": {},
          "execution_count": 52
        }
      ]
    },
    {
      "cell_type": "markdown",
      "metadata": {
        "id": "MlxCf8_bnEap"
      },
      "source": [
        "### Combined Topic Model"
      ]
    },
    {
      "cell_type": "code",
      "metadata": {
        "colab": {
          "base_uri": "https://localhost:8080/"
        },
        "id": "yT6Po-gfkOl5",
        "outputId": "559cefd5-b693-4515-8ebf-eeeaa7417b21"
      },
      "source": [
        "ctm = CombinedTM(bow_size=len(tp.vocab), contextual_size=768, n_components=20, num_epochs=15)\n",
        "ctm.fit(training_dataset) # run the model"
      ],
      "execution_count": 53,
      "outputs": [
        {
          "output_type": "stream",
          "name": "stderr",
          "text": [
            "Epoch: [15/15]\t Seen Samples: [39390/39390]\tTrain Loss: 667.536564102812\tTime: 0:00:01.828797: : 15it [00:27,  1.85s/it]\n",
            "Sampling: [20/20]: : 20it [00:29,  1.45s/it]\n"
          ]
        }
      ]
    },
    {
      "cell_type": "code",
      "metadata": {
        "colab": {
          "base_uri": "https://localhost:8080/"
        },
        "id": "2zMxVmVfnXip",
        "outputId": "1a5aaeed-37ab-4db3-bddd-3bb4d609a48b"
      },
      "source": [
        "ctm.get_topics(5)"
      ],
      "execution_count": 54,
      "outputs": [
        {
          "output_type": "execute_result",
          "data": {
            "text/plain": [
              "defaultdict(list,\n",
              "            {0: ['intens', 'oversight', 'suit', 'larger', 'overt'],\n",
              "             1: ['websit', 'gospel', 'literatur', 'bunch', 'english'],\n",
              "             2: ['mr', 'nation', 'includ', 'state', 'zambia'],\n",
              "             3: ['tmksf', 'rig', 'supervisor', 'ngo', 'safaa'],\n",
              "             4: ['zambia', 'countri', 'nation', 'member', 'edgar'],\n",
              "             5: ['sympathi', 'stadium', 'recov', 'hesit', 'align'],\n",
              "             6: ['devast', 'ngo', 'sincer', 'provok', 'frequenc'],\n",
              "             7: ['colombia', 'lung', 'kachingw', 'zeep', 'tmksf'],\n",
              "             8: ['friendli', 'consensu', 'shop', 'percentag', 'mortal'],\n",
              "             9: ['nationalist', 'kogali', 'zeep', 'certifi', 'saavedra'],\n",
              "             10: ['tone', 'sincer', 'nonsens', 'excus', 'exacerb'],\n",
              "             11: ['zambia', 'develop', 'nation', 'countri', 'manag'],\n",
              "             12: ['fond', 'prepared', 'technocrat', 'nypost', 'ngo'],\n",
              "             13: ['mutatui', 'copycat', 'fattah', 'repetit', 'agreess'],\n",
              "             14: ['trump', 'american', 'democrat', 'america', 'war'],\n",
              "             15: ['trump', 'america', 'html', 'english', 'read'],\n",
              "             16: ['trump', 'want', 'like', 'elect', 'law'],\n",
              "             17: ['moono', 'tight', 'renown', 'aoc', 'tmksf'],\n",
              "             18: ['pugh', 'satan', 'herot', 'taylor', 'scientist'],\n",
              "             19: ['nation', 'minist', 'state', 'intern', 'countri']})"
            ]
          },
          "metadata": {},
          "execution_count": 54
        }
      ]
    },
    {
      "cell_type": "code",
      "metadata": {
        "id": "TsFHRiZ_nXiq"
      },
      "source": [
        "topics = pd.DataFrame.from_dict(ctm.get_topics(5)).transpose()\n",
        "topics.columns = [\"0\", \"1\", \"2\" ,\"3\",\"4\"]"
      ],
      "execution_count": 55,
      "outputs": []
    },
    {
      "cell_type": "code",
      "metadata": {
        "colab": {
          "base_uri": "https://localhost:8080/",
          "height": 677
        },
        "id": "DFsygLzHnXiq",
        "outputId": "bedd8e3f-7c36-430e-f169-5a7b0fd297b3"
      },
      "source": [
        "topics['topic_words'] = topics[\"0\"]+ \" \" + topics[\"1\"]+ \" \" + topics[\"2\"]+ \" \" + topics[\"3\"]+ \" \" + topics[\"4\"]\n",
        "topics = topics[['topic_words']]\n",
        "topics"
      ],
      "execution_count": 56,
      "outputs": [
        {
          "output_type": "execute_result",
          "data": {
            "text/html": [
              "<div>\n",
              "<style scoped>\n",
              "    .dataframe tbody tr th:only-of-type {\n",
              "        vertical-align: middle;\n",
              "    }\n",
              "\n",
              "    .dataframe tbody tr th {\n",
              "        vertical-align: top;\n",
              "    }\n",
              "\n",
              "    .dataframe thead th {\n",
              "        text-align: right;\n",
              "    }\n",
              "</style>\n",
              "<table border=\"1\" class=\"dataframe\">\n",
              "  <thead>\n",
              "    <tr style=\"text-align: right;\">\n",
              "      <th></th>\n",
              "      <th>topic_words</th>\n",
              "    </tr>\n",
              "  </thead>\n",
              "  <tbody>\n",
              "    <tr>\n",
              "      <th>0</th>\n",
              "      <td>intens oversight suit larger overt</td>\n",
              "    </tr>\n",
              "    <tr>\n",
              "      <th>1</th>\n",
              "      <td>websit gospel literatur bunch english</td>\n",
              "    </tr>\n",
              "    <tr>\n",
              "      <th>2</th>\n",
              "      <td>mr nation includ state zambia</td>\n",
              "    </tr>\n",
              "    <tr>\n",
              "      <th>3</th>\n",
              "      <td>tmksf rig supervisor ngo safaa</td>\n",
              "    </tr>\n",
              "    <tr>\n",
              "      <th>4</th>\n",
              "      <td>zambia countri nation member edgar</td>\n",
              "    </tr>\n",
              "    <tr>\n",
              "      <th>5</th>\n",
              "      <td>sympathi stadium recov hesit align</td>\n",
              "    </tr>\n",
              "    <tr>\n",
              "      <th>6</th>\n",
              "      <td>devast ngo sincer provok frequenc</td>\n",
              "    </tr>\n",
              "    <tr>\n",
              "      <th>7</th>\n",
              "      <td>colombia lung kachingw zeep tmksf</td>\n",
              "    </tr>\n",
              "    <tr>\n",
              "      <th>8</th>\n",
              "      <td>friendli consensu shop percentag mortal</td>\n",
              "    </tr>\n",
              "    <tr>\n",
              "      <th>9</th>\n",
              "      <td>nationalist kogali zeep certifi saavedra</td>\n",
              "    </tr>\n",
              "    <tr>\n",
              "      <th>10</th>\n",
              "      <td>tone sincer nonsens excus exacerb</td>\n",
              "    </tr>\n",
              "    <tr>\n",
              "      <th>11</th>\n",
              "      <td>zambia develop nation countri manag</td>\n",
              "    </tr>\n",
              "    <tr>\n",
              "      <th>12</th>\n",
              "      <td>fond prepared technocrat nypost ngo</td>\n",
              "    </tr>\n",
              "    <tr>\n",
              "      <th>13</th>\n",
              "      <td>mutatui copycat fattah repetit agreess</td>\n",
              "    </tr>\n",
              "    <tr>\n",
              "      <th>14</th>\n",
              "      <td>trump american democrat america war</td>\n",
              "    </tr>\n",
              "    <tr>\n",
              "      <th>15</th>\n",
              "      <td>trump america html english read</td>\n",
              "    </tr>\n",
              "    <tr>\n",
              "      <th>16</th>\n",
              "      <td>trump want like elect law</td>\n",
              "    </tr>\n",
              "    <tr>\n",
              "      <th>17</th>\n",
              "      <td>moono tight renown aoc tmksf</td>\n",
              "    </tr>\n",
              "    <tr>\n",
              "      <th>18</th>\n",
              "      <td>pugh satan herot taylor scientist</td>\n",
              "    </tr>\n",
              "    <tr>\n",
              "      <th>19</th>\n",
              "      <td>nation minist state intern countri</td>\n",
              "    </tr>\n",
              "  </tbody>\n",
              "</table>\n",
              "</div>"
            ],
            "text/plain": [
              "                                 topic_words\n",
              "0         intens oversight suit larger overt\n",
              "1      websit gospel literatur bunch english\n",
              "2              mr nation includ state zambia\n",
              "3             tmksf rig supervisor ngo safaa\n",
              "4         zambia countri nation member edgar\n",
              "5         sympathi stadium recov hesit align\n",
              "6          devast ngo sincer provok frequenc\n",
              "7          colombia lung kachingw zeep tmksf\n",
              "8    friendli consensu shop percentag mortal\n",
              "9   nationalist kogali zeep certifi saavedra\n",
              "10         tone sincer nonsens excus exacerb\n",
              "11       zambia develop nation countri manag\n",
              "12       fond prepared technocrat nypost ngo\n",
              "13    mutatui copycat fattah repetit agreess\n",
              "14       trump american democrat america war\n",
              "15           trump america html english read\n",
              "16                 trump want like elect law\n",
              "17              moono tight renown aoc tmksf\n",
              "18         pugh satan herot taylor scientist\n",
              "19        nation minist state intern countri"
            ]
          },
          "metadata": {},
          "execution_count": 56
        }
      ]
    },
    {
      "cell_type": "code",
      "metadata": {
        "colab": {
          "base_uri": "https://localhost:8080/"
        },
        "id": "Vxi_ZaCGndnQ",
        "outputId": "15e519f1-6d45-49dd-cd82-4c928e73a6c5"
      },
      "source": [
        "ctm.get_topics(5)"
      ],
      "execution_count": null,
      "outputs": [
        {
          "output_type": "execute_result",
          "data": {
            "text/plain": [
              "defaultdict(list,\n",
              "            {0: ['craft', 'kabeta', 'illiber', 'shareabl', 'deviou'],\n",
              "             1: ['scream', 'enrich', 'height', 'absent', 'mindset'],\n",
              "             2: ['craft', 'fisheri', 'mount', 'handcuf', 'curtail'],\n",
              "             3: ['commun', 'presid', 'state', 'respons', 'nation'],\n",
              "             4: ['theft', 'equival', 'articul', 'steve', 'emul'],\n",
              "             5: ['trump', 'day', 'democrat', 'end', 'told'],\n",
              "             6: ['presid', 'parti', 'mr', 'leader', 'need'],\n",
              "             7: ['rent', 'requisit', 'kabeta', 'curtail', 'illiber'],\n",
              "             8: ['html', 'english', 'literatur', 'read', 'alamoministri'],\n",
              "             9: ['major', 'day', 'thing', 'did', 'time'],\n",
              "             10: ['zambia', 'develop', 'countri', 'continu', 'zambian'],\n",
              "             11: ['trump', 'didn', 'democrat', 'immigr', 'american'],\n",
              "             12: ['africa', 'african', 'lungu', 'presid', 'countri'],\n",
              "             13: ['alexand', 'handcuf', 'craft', 'kabeta', 'rainbow'],\n",
              "             14: ['corner', 'substanc', 'renown', 'fic', 'comput'],\n",
              "             15: ['zambia', 'countri', 'ministri', 'develop', 'zambian'],\n",
              "             16: ['zambia', 'lungu', 'presid', 'countri', 'need'],\n",
              "             17: ['honestli', 'reign', 'comparison', 'jurisdict', 'kabeta'],\n",
              "             18: ['american', 'democrat', 'america', 'trump', 'don'],\n",
              "             19: ['commerci', 'vanilla', 'relief', 'tropic', 'interim']})"
            ]
          },
          "metadata": {},
          "execution_count": 34
        }
      ]
    },
    {
      "cell_type": "code",
      "metadata": {
        "colab": {
          "base_uri": "https://localhost:8080/"
        },
        "id": "6A2d-jWSndnQ",
        "outputId": "c4ebbba2-c75a-4ff5-cff5-776942a8fade"
      },
      "source": [
        "ctm = CombinedTM(bow_size=len(tp.vocab), contextual_size=768, n_components=10, num_epochs=15)\n",
        "ctm.fit(training_dataset) # run the model\n",
        "topics = pd.DataFrame.from_dict(ctm.get_topics(5)).transpose()\n",
        "topics.columns = [\"0\", \"1\", \"2\" ,\"3\",\"4\"]"
      ],
      "execution_count": 201,
      "outputs": [
        {
          "output_type": "stream",
          "name": "stderr",
          "text": [
            "Epoch: [15/15]\t Seen Samples: [80565/80565]\tTrain Loss: 305.025355351657\tTime: 0:00:04.117292: : 15it [01:01,  4.12s/it]\n",
            "Sampling: [20/20]: : 20it [00:59,  2.98s/it]\n"
          ]
        }
      ]
    },
    {
      "cell_type": "code",
      "metadata": {
        "colab": {
          "base_uri": "https://localhost:8080/",
          "height": 363
        },
        "id": "RQzEXQbgndnQ",
        "outputId": "d95b8656-5679-403e-ac79-da63b1d6a3bc"
      },
      "source": [
        "topics['topic_words'] = topics[\"0\"]+ \" \" + topics[\"1\"]+ \" \" + topics[\"2\"]+ \" \" + topics[\"3\"]+ \" \" + topics[\"4\"]\n",
        "topics = topics[['topic_words']]\n",
        "topics"
      ],
      "execution_count": 202,
      "outputs": [
        {
          "output_type": "execute_result",
          "data": {
            "text/html": [
              "<div>\n",
              "<style scoped>\n",
              "    .dataframe tbody tr th:only-of-type {\n",
              "        vertical-align: middle;\n",
              "    }\n",
              "\n",
              "    .dataframe tbody tr th {\n",
              "        vertical-align: top;\n",
              "    }\n",
              "\n",
              "    .dataframe thead th {\n",
              "        text-align: right;\n",
              "    }\n",
              "</style>\n",
              "<table border=\"1\" class=\"dataframe\">\n",
              "  <thead>\n",
              "    <tr style=\"text-align: right;\">\n",
              "      <th></th>\n",
              "      <th>topic_words</th>\n",
              "    </tr>\n",
              "  </thead>\n",
              "  <tbody>\n",
              "    <tr>\n",
              "      <th>0</th>\n",
              "      <td>soc sh twtr tsrc yahoo</td>\n",
              "    </tr>\n",
              "    <tr>\n",
              "      <th>1</th>\n",
              "      <td>hogi olt az nem sz</td>\n",
              "    </tr>\n",
              "    <tr>\n",
              "      <th>2</th>\n",
              "      <td>lou bud stori facebook mask</td>\n",
              "    </tr>\n",
              "    <tr>\n",
              "      <th>3</th>\n",
              "      <td>case mandat state health report</td>\n",
              "    </tr>\n",
              "    <tr>\n",
              "      <th>4</th>\n",
              "      <td>telegram dwt older imss zone</td>\n",
              "    </tr>\n",
              "    <tr>\n",
              "      <th>5</th>\n",
              "      <td>abandon cancelar gobernaci movil amayrani</td>\n",
              "    </tr>\n",
              "    <tr>\n",
              "      <th>6</th>\n",
              "      <td>childrenshealthdefen rez hate mutat cghixf</td>\n",
              "    </tr>\n",
              "    <tr>\n",
              "      <th>7</th>\n",
              "      <td>vacuna yang dan susah rakyat</td>\n",
              "    </tr>\n",
              "    <tr>\n",
              "      <th>8</th>\n",
              "      <td>approv pandem page start die</td>\n",
              "    </tr>\n",
              "    <tr>\n",
              "      <th>9</th>\n",
              "      <td>just human york new claim</td>\n",
              "    </tr>\n",
              "  </tbody>\n",
              "</table>\n",
              "</div>"
            ],
            "text/plain": [
              "                                  topic_words\n",
              "0                      soc sh twtr tsrc yahoo\n",
              "1                          hogi olt az nem sz\n",
              "2                 lou bud stori facebook mask\n",
              "3             case mandat state health report\n",
              "4                telegram dwt older imss zone\n",
              "5   abandon cancelar gobernaci movil amayrani\n",
              "6  childrenshealthdefen rez hate mutat cghixf\n",
              "7                vacuna yang dan susah rakyat\n",
              "8                approv pandem page start die\n",
              "9                   just human york new claim"
            ]
          },
          "metadata": {},
          "execution_count": 202
        }
      ]
    },
    {
      "cell_type": "markdown",
      "metadata": {
        "id": "JMfpzNB_nj67"
      },
      "source": [
        "## Alt-After"
      ]
    },
    {
      "cell_type": "markdown",
      "metadata": {
        "id": "DNbJeQx8nj68"
      },
      "source": [
        "### read data"
      ]
    },
    {
      "cell_type": "code",
      "metadata": {
        "id": "WHHQl0cWnj68"
      },
      "source": [
        "data = pd.read_csv('/content/drive/MyDrive/Colab Notebooks/alt_after_cleaned.csv', delimiter=',')\n",
        "data_corpus = pd.DataFrame(pd.read_csv('/content/drive/MyDrive/Alt-right-2020-03-01--2021-09-19.csv', delimiter=',')['Message'])"
      ],
      "execution_count": 170,
      "outputs": []
    },
    {
      "cell_type": "code",
      "metadata": {
        "id": "-EQqAlBrnj68"
      },
      "source": [
        "add_stop_words = ['said','say', 'says','news', 'year', 'vaccine', 'covid', 'people','COVID-19','COVID',\n",
        "                  'coronavirus', 'vaccination', 'vaccinated', 'Pfizer','Pfizer-BioNTech',\n",
        "                  'Moderna', 'Johnson', 'Johnson’s', 'Janssen','j&j', 'mRNA', 'vaccination',\n",
        "                  'freedom', 'truth','science', 'government', 'control', 'dictate','personal',\n",
        "                  'choice', 'hoax', 'flu','www','com', 'http', 'vaccin']\n",
        "stop_words = text.ENGLISH_STOP_WORDS.union(add_stop_words)\n",
        "spanish = nltk.corpus.stopwords.words('spanish')\n",
        "stop_words = stop_words.union(spanish)\n",
        "\n",
        "def clean_text(text):\n",
        "  stemmed_text = []\n",
        "  porter_stemmer = PorterStemmer()\n",
        "  text = re.sub('[^a-zA-Z]', ' ', text)\n",
        "  text = re.sub(r'http\\S+', '', text)\n",
        "  text = re.sub(r'www\\.[a-z]+\\.at', '', text)\n",
        "  text = re.sub(r'(@[A-Za-z]+[A-Za-z0-9-_]+)', '', text) #remove mentions\n",
        "  text = re.sub(r'bit.ly/\\S+', '', text)\n",
        "  text = re.sub(r'^((https?|ftp|smtp):\\/\\/)?(www.)?[a-z0-9]+\\.[a-z]+(\\/[a-zA-Z0-9#]+\\/?)*$', '', text)\n",
        "  text = re.sub(r'https?:\\/\\/(www\\.)?[-a-zA-Z0-9@:%._\\+~#=]{1,256}\\.[a-zA-Z0-9()]{1,6}\\b([-a-zA-Z0-9()@:%_\\+.~#?&//=]*)', '', text)\n",
        "  result = re.sub('[%s]' % re.escape(string.punctuation), '', text)\n",
        "  result = result.lower()\n",
        "  result = result.split()\n",
        "  result = [r for r in result if r not in stop_words]\n",
        "  stemmed_result = [porter_stemmer.stem(r) for r in result]\n",
        "  stemmed_text.append(\" \".join(stemmed_result))\n",
        "  return stemmed_text"
      ],
      "execution_count": 171,
      "outputs": []
    },
    {
      "cell_type": "code",
      "metadata": {
        "id": "m1oVe0zNnj68"
      },
      "source": [
        "def pre_process_without_combine(data):\n",
        "  data['Message'] = data['Message'].drop_duplicates()\n",
        "  data['Message'] = data['Message'].fillna('')\n",
        "  data['Message'] = data['Message'].astype('string')\n",
        "  data['Message'] = data['Message'].apply(clean_text)\n",
        "  data['Message'] = data['Message'].apply(np.squeeze)\n",
        "  data = data[data['Message']!=\"\"]\n",
        "  \n",
        "  return data\n",
        "\n",
        "clean = pre_process_without_combine(data)"
      ],
      "execution_count": 172,
      "outputs": []
    },
    {
      "cell_type": "code",
      "metadata": {
        "id": "GZqBcfP1nj69"
      },
      "source": [
        "data = pd.read_csv('/content/drive/MyDrive/Colab Notebooks/alt_after_cleaned.csv', delimiter=',')\n",
        "data_corpus = pd.DataFrame(pd.read_csv('/content/drive/MyDrive/Alt-right-2020-03-01--2021-09-19.csv', delimiter=',')['Message'])"
      ],
      "execution_count": 173,
      "outputs": []
    },
    {
      "cell_type": "code",
      "metadata": {
        "id": "9SqM6Cltnj69"
      },
      "source": [
        "def pre_process_without_combine(data):\n",
        "  data['Message'] = data['Message'].drop_duplicates()\n",
        "  data['Message'] = data['Message'].fillna('')\n",
        "  data['Message'] = data['Message'].astype('string')\n",
        "  data['Message'] = data['Message'].apply(np.squeeze)\n",
        "  data = data[data['Message']!=\"\"]\n",
        "  \n",
        "  return pd.DataFrame(data['Message'])"
      ],
      "execution_count": 174,
      "outputs": []
    },
    {
      "cell_type": "code",
      "metadata": {
        "id": "tvwlwmkWnj69"
      },
      "source": [
        "data_corpus = pre_process_without_combine(data_corpus)"
      ],
      "execution_count": 175,
      "outputs": []
    },
    {
      "cell_type": "code",
      "metadata": {
        "colab": {
          "base_uri": "https://localhost:8080/",
          "height": 0
        },
        "id": "mOevhH-onj69",
        "outputId": "5d5fab7e-e44f-421b-98ba-3dafb6742803"
      },
      "source": [
        "data_corpus"
      ],
      "execution_count": 176,
      "outputs": [
        {
          "output_type": "execute_result",
          "data": {
            "text/html": [
              "<div>\n",
              "<style scoped>\n",
              "    .dataframe tbody tr th:only-of-type {\n",
              "        vertical-align: middle;\n",
              "    }\n",
              "\n",
              "    .dataframe tbody tr th {\n",
              "        vertical-align: top;\n",
              "    }\n",
              "\n",
              "    .dataframe thead th {\n",
              "        text-align: right;\n",
              "    }\n",
              "</style>\n",
              "<table border=\"1\" class=\"dataframe\">\n",
              "  <thead>\n",
              "    <tr style=\"text-align: right;\">\n",
              "      <th></th>\n",
              "      <th>Message</th>\n",
              "    </tr>\n",
              "  </thead>\n",
              "  <tbody>\n",
              "    <tr>\n",
              "      <th>1</th>\n",
              "      <td>Classified testimony in opposition to the Bide...</td>\n",
              "    </tr>\n",
              "    <tr>\n",
              "      <th>2</th>\n",
              "      <td>UN GENERAL ASSEMBLY WILL MOSTLY BE VIRTUAL The...</td>\n",
              "    </tr>\n",
              "    <tr>\n",
              "      <th>3</th>\n",
              "      <td>GERMANY NO LONGER REGARDS ZAMBIA AS A COVID-19...</td>\n",
              "    </tr>\n",
              "    <tr>\n",
              "      <th>4</th>\n",
              "      <td>Why are they dividing people like this?</td>\n",
              "    </tr>\n",
              "    <tr>\n",
              "      <th>5</th>\n",
              "      <td>Mornin' Rebels... Like our Page to see more!</td>\n",
              "    </tr>\n",
              "    <tr>\n",
              "      <th>...</th>\n",
              "      <td>...</td>\n",
              "    </tr>\n",
              "    <tr>\n",
              "      <th>9321</th>\n",
              "      <td>Super Tuesday Is Tomorrow But In A Surprising ...</td>\n",
              "    </tr>\n",
              "    <tr>\n",
              "      <th>9322</th>\n",
              "      <td>Funny how the media treats this differently no...</td>\n",
              "    </tr>\n",
              "    <tr>\n",
              "      <th>9323</th>\n",
              "      <td>Just a reminder that it took 1,000 deaths befo...</td>\n",
              "    </tr>\n",
              "    <tr>\n",
              "      <th>9325</th>\n",
              "      <td>THE MEDIA DOESN'T WANT YOU TO SHARE THIS</td>\n",
              "    </tr>\n",
              "    <tr>\n",
              "      <th>9326</th>\n",
              "      <td>8th Anniversary: We Still Miss Andrew Breitbar...</td>\n",
              "    </tr>\n",
              "  </tbody>\n",
              "</table>\n",
              "<p>5470 rows × 1 columns</p>\n",
              "</div>"
            ],
            "text/plain": [
              "                                                Message\n",
              "1     Classified testimony in opposition to the Bide...\n",
              "2     UN GENERAL ASSEMBLY WILL MOSTLY BE VIRTUAL The...\n",
              "3     GERMANY NO LONGER REGARDS ZAMBIA AS A COVID-19...\n",
              "4               Why are they dividing people like this?\n",
              "5          Mornin' Rebels... Like our Page to see more!\n",
              "...                                                 ...\n",
              "9321  Super Tuesday Is Tomorrow But In A Surprising ...\n",
              "9322  Funny how the media treats this differently no...\n",
              "9323  Just a reminder that it took 1,000 deaths befo...\n",
              "9325           THE MEDIA DOESN'T WANT YOU TO SHARE THIS\n",
              "9326  8th Anniversary: We Still Miss Andrew Breitbar...\n",
              "\n",
              "[5470 rows x 1 columns]"
            ]
          },
          "metadata": {},
          "execution_count": 176
        }
      ]
    },
    {
      "cell_type": "code",
      "metadata": {
        "id": "uptGenxXnj69"
      },
      "source": [
        "clean = clean.reset_index()"
      ],
      "execution_count": 177,
      "outputs": []
    },
    {
      "cell_type": "code",
      "metadata": {
        "id": "5NAQOFfKnj69"
      },
      "source": [
        "data_corpus = data_corpus.reset_index()"
      ],
      "execution_count": 178,
      "outputs": []
    },
    {
      "cell_type": "code",
      "metadata": {
        "id": "MQYKlr-rnj69"
      },
      "source": [
        "data_corpus.columns = ['index', 'Raw_Message']"
      ],
      "execution_count": 179,
      "outputs": []
    },
    {
      "cell_type": "code",
      "metadata": {
        "colab": {
          "base_uri": "https://localhost:8080/",
          "height": 0
        },
        "id": "FSx0ktSunj6-",
        "outputId": "0356a988-7361-4e5b-989d-e136895fd848"
      },
      "source": [
        "join = clean.merge(data_corpus)\n",
        "join"
      ],
      "execution_count": 180,
      "outputs": [
        {
          "output_type": "execute_result",
          "data": {
            "text/html": [
              "<div>\n",
              "<style scoped>\n",
              "    .dataframe tbody tr th:only-of-type {\n",
              "        vertical-align: middle;\n",
              "    }\n",
              "\n",
              "    .dataframe tbody tr th {\n",
              "        vertical-align: top;\n",
              "    }\n",
              "\n",
              "    .dataframe thead th {\n",
              "        text-align: right;\n",
              "    }\n",
              "</style>\n",
              "<table border=\"1\" class=\"dataframe\">\n",
              "  <thead>\n",
              "    <tr style=\"text-align: right;\">\n",
              "      <th></th>\n",
              "      <th>index</th>\n",
              "      <th>Message</th>\n",
              "      <th>Raw_Message</th>\n",
              "    </tr>\n",
              "  </thead>\n",
              "  <tbody>\n",
              "    <tr>\n",
              "      <th>0</th>\n",
              "      <td>1</td>\n",
              "      <td>gener assembl virtual unit state request unit ...</td>\n",
              "      <td>Classified testimony in opposition to the Bide...</td>\n",
              "    </tr>\n",
              "    <tr>\n",
              "      <th>1</th>\n",
              "      <td>2</td>\n",
              "      <td>germani longer regard zambia riski area excel ...</td>\n",
              "      <td>UN GENERAL ASSEMBLY WILL MOSTLY BE VIRTUAL The...</td>\n",
              "    </tr>\n",
              "    <tr>\n",
              "      <th>2</th>\n",
              "      <td>3</td>\n",
              "      <td>divid like</td>\n",
              "      <td>GERMANY NO LONGER REGARDS ZAMBIA AS A COVID-19...</td>\n",
              "    </tr>\n",
              "    <tr>\n",
              "      <th>3</th>\n",
              "      <td>4</td>\n",
              "      <td>mornin rebel like page</td>\n",
              "      <td>Why are they dividing people like this?</td>\n",
              "    </tr>\n",
              "    <tr>\n",
              "      <th>4</th>\n",
              "      <td>5</td>\n",
              "      <td>wow</td>\n",
              "      <td>Mornin' Rebels... Like our Page to see more!</td>\n",
              "    </tr>\n",
              "    <tr>\n",
              "      <th>...</th>\n",
              "      <td>...</td>\n",
              "      <td>...</td>\n",
              "      <td>...</td>\n",
              "    </tr>\n",
              "    <tr>\n",
              "      <th>2976</th>\n",
              "      <td>5356</td>\n",
              "      <td>presid trump wow support north carolina corona...</td>\n",
              "      <td>🔴 ATTENTION! 🔴 The owner of United Deplorables...</td>\n",
              "    </tr>\n",
              "    <tr>\n",
              "      <th>2977</th>\n",
              "      <td>5358</td>\n",
              "      <td>advocaci director max mcguir oan night talk ba...</td>\n",
              "      <td>President Trump marks Veterans Day 2020 at Arl...</td>\n",
              "    </tr>\n",
              "    <tr>\n",
              "      <th>2978</th>\n",
              "      <td>5360</td>\n",
              "      <td>super tuesday tomorrow surpri aipac speech tod...</td>\n",
              "      <td>Can’t even make this up</td>\n",
              "    </tr>\n",
              "    <tr>\n",
              "      <th>2979</th>\n",
              "      <td>5363</td>\n",
              "      <td>media doesn t want share</td>\n",
              "      <td>This needs to be shared by all members on this...</td>\n",
              "    </tr>\n",
              "    <tr>\n",
              "      <th>2980</th>\n",
              "      <td>5364</td>\n",
              "      <td>th anniversari miss andrew breitbart help crea...</td>\n",
              "      <td>AOC's new socialist \"Squad\" members want to de...</td>\n",
              "    </tr>\n",
              "  </tbody>\n",
              "</table>\n",
              "<p>2981 rows × 3 columns</p>\n",
              "</div>"
            ],
            "text/plain": [
              "      index  ...                                        Raw_Message\n",
              "0         1  ...  Classified testimony in opposition to the Bide...\n",
              "1         2  ...  UN GENERAL ASSEMBLY WILL MOSTLY BE VIRTUAL The...\n",
              "2         3  ...  GERMANY NO LONGER REGARDS ZAMBIA AS A COVID-19...\n",
              "3         4  ...            Why are they dividing people like this?\n",
              "4         5  ...       Mornin' Rebels... Like our Page to see more!\n",
              "...     ...  ...                                                ...\n",
              "2976   5356  ...  🔴 ATTENTION! 🔴 The owner of United Deplorables...\n",
              "2977   5358  ...  President Trump marks Veterans Day 2020 at Arl...\n",
              "2978   5360  ...                            Can’t even make this up\n",
              "2979   5363  ...  This needs to be shared by all members on this...\n",
              "2980   5364  ...  AOC's new socialist \"Squad\" members want to de...\n",
              "\n",
              "[2981 rows x 3 columns]"
            ]
          },
          "metadata": {},
          "execution_count": 180
        }
      ]
    },
    {
      "cell_type": "code",
      "metadata": {
        "id": "4MAkb_1lnj6-"
      },
      "source": [
        "join.drop(columns = 'index',inplace=True)"
      ],
      "execution_count": 181,
      "outputs": []
    },
    {
      "cell_type": "code",
      "metadata": {
        "colab": {
          "base_uri": "https://localhost:8080/",
          "height": 0
        },
        "id": "V3Oc_TVAnj6-",
        "outputId": "bb0c3ee2-ac34-4f0b-9aa8-910a588999bd"
      },
      "source": [
        "join"
      ],
      "execution_count": 182,
      "outputs": [
        {
          "output_type": "execute_result",
          "data": {
            "text/html": [
              "<div>\n",
              "<style scoped>\n",
              "    .dataframe tbody tr th:only-of-type {\n",
              "        vertical-align: middle;\n",
              "    }\n",
              "\n",
              "    .dataframe tbody tr th {\n",
              "        vertical-align: top;\n",
              "    }\n",
              "\n",
              "    .dataframe thead th {\n",
              "        text-align: right;\n",
              "    }\n",
              "</style>\n",
              "<table border=\"1\" class=\"dataframe\">\n",
              "  <thead>\n",
              "    <tr style=\"text-align: right;\">\n",
              "      <th></th>\n",
              "      <th>Message</th>\n",
              "      <th>Raw_Message</th>\n",
              "    </tr>\n",
              "  </thead>\n",
              "  <tbody>\n",
              "    <tr>\n",
              "      <th>0</th>\n",
              "      <td>gener assembl virtual unit state request unit ...</td>\n",
              "      <td>Classified testimony in opposition to the Bide...</td>\n",
              "    </tr>\n",
              "    <tr>\n",
              "      <th>1</th>\n",
              "      <td>germani longer regard zambia riski area excel ...</td>\n",
              "      <td>UN GENERAL ASSEMBLY WILL MOSTLY BE VIRTUAL The...</td>\n",
              "    </tr>\n",
              "    <tr>\n",
              "      <th>2</th>\n",
              "      <td>divid like</td>\n",
              "      <td>GERMANY NO LONGER REGARDS ZAMBIA AS A COVID-19...</td>\n",
              "    </tr>\n",
              "    <tr>\n",
              "      <th>3</th>\n",
              "      <td>mornin rebel like page</td>\n",
              "      <td>Why are they dividing people like this?</td>\n",
              "    </tr>\n",
              "    <tr>\n",
              "      <th>4</th>\n",
              "      <td>wow</td>\n",
              "      <td>Mornin' Rebels... Like our Page to see more!</td>\n",
              "    </tr>\n",
              "    <tr>\n",
              "      <th>...</th>\n",
              "      <td>...</td>\n",
              "      <td>...</td>\n",
              "    </tr>\n",
              "    <tr>\n",
              "      <th>2976</th>\n",
              "      <td>presid trump wow support north carolina corona...</td>\n",
              "      <td>🔴 ATTENTION! 🔴 The owner of United Deplorables...</td>\n",
              "    </tr>\n",
              "    <tr>\n",
              "      <th>2977</th>\n",
              "      <td>advocaci director max mcguir oan night talk ba...</td>\n",
              "      <td>President Trump marks Veterans Day 2020 at Arl...</td>\n",
              "    </tr>\n",
              "    <tr>\n",
              "      <th>2978</th>\n",
              "      <td>super tuesday tomorrow surpri aipac speech tod...</td>\n",
              "      <td>Can’t even make this up</td>\n",
              "    </tr>\n",
              "    <tr>\n",
              "      <th>2979</th>\n",
              "      <td>media doesn t want share</td>\n",
              "      <td>This needs to be shared by all members on this...</td>\n",
              "    </tr>\n",
              "    <tr>\n",
              "      <th>2980</th>\n",
              "      <td>th anniversari miss andrew breitbart help crea...</td>\n",
              "      <td>AOC's new socialist \"Squad\" members want to de...</td>\n",
              "    </tr>\n",
              "  </tbody>\n",
              "</table>\n",
              "<p>2981 rows × 2 columns</p>\n",
              "</div>"
            ],
            "text/plain": [
              "                                                Message                                        Raw_Message\n",
              "0     gener assembl virtual unit state request unit ...  Classified testimony in opposition to the Bide...\n",
              "1     germani longer regard zambia riski area excel ...  UN GENERAL ASSEMBLY WILL MOSTLY BE VIRTUAL The...\n",
              "2                                            divid like  GERMANY NO LONGER REGARDS ZAMBIA AS A COVID-19...\n",
              "3                                mornin rebel like page            Why are they dividing people like this?\n",
              "4                                                   wow       Mornin' Rebels... Like our Page to see more!\n",
              "...                                                 ...                                                ...\n",
              "2976  presid trump wow support north carolina corona...  🔴 ATTENTION! 🔴 The owner of United Deplorables...\n",
              "2977  advocaci director max mcguir oan night talk ba...  President Trump marks Veterans Day 2020 at Arl...\n",
              "2978  super tuesday tomorrow surpri aipac speech tod...                            Can’t even make this up\n",
              "2979                           media doesn t want share  This needs to be shared by all members on this...\n",
              "2980  th anniversari miss andrew breitbart help crea...  AOC's new socialist \"Squad\" members want to de...\n",
              "\n",
              "[2981 rows x 2 columns]"
            ]
          },
          "metadata": {},
          "execution_count": 182
        }
      ]
    },
    {
      "cell_type": "markdown",
      "metadata": {
        "id": "6nbVpyWmnj6-"
      },
      "source": [
        "### ZeroShotTM"
      ]
    },
    {
      "cell_type": "code",
      "metadata": {
        "colab": {
          "base_uri": "https://localhost:8080/",
          "height": 0,
          "referenced_widgets": [
            "97acedc7cd7949f6b1c278c7b7700fe9",
            "18cb45ca30c7403bbc78538b9f252951",
            "19765fea7b8b45cfb7dc9bb7268b7a05",
            "c0277565fe5d4573983a1cacba00a6b9",
            "27f66411dc4d4f8dbdf494f2508315fe",
            "7a1f26ed90904da5a1b11a01803dd3e3",
            "85736030de63459db41b7cb121b764b5",
            "40288e9901c04f4c9f424de4155a4057",
            "57c502713ef344009777307ef93451fd",
            "d9c9e1e19a2c4eef87083052dbf9f1cc",
            "b33464113c3047e9bd1678e15b1b4eff"
          ]
        },
        "id": "d0HshIsSnj6-",
        "outputId": "c0b72fff-0861-475b-ccd1-a793ed7ffe1d"
      },
      "source": [
        "tp = TopicModelDataPreparation(\"paraphrase-distilroberta-base-v2\")\n",
        "\n",
        "training_dataset = tp.fit(text_for_contextual=join['Raw_Message'], text_for_bow=join['Message'])"
      ],
      "execution_count": 80,
      "outputs": [
        {
          "output_type": "display_data",
          "data": {
            "application/vnd.jupyter.widget-view+json": {
              "model_id": "97acedc7cd7949f6b1c278c7b7700fe9",
              "version_minor": 0,
              "version_major": 2
            },
            "text/plain": [
              "Batches:   0%|          | 0/15 [00:00<?, ?it/s]"
            ]
          },
          "metadata": {}
        },
        {
          "output_type": "stream",
          "name": "stderr",
          "text": [
            "/usr/local/lib/python3.7/dist-packages/sklearn/utils/deprecation.py:87: FutureWarning: Function get_feature_names is deprecated; get_feature_names is deprecated in 1.0 and will be removed in 1.2. Please use get_feature_names_out instead.\n",
            "  warnings.warn(msg, category=FutureWarning)\n"
          ]
        }
      ]
    },
    {
      "cell_type": "code",
      "metadata": {
        "colab": {
          "base_uri": "https://localhost:8080/"
        },
        "id": "suHCe-swnj6_",
        "outputId": "8b9d3b9c-01b6-46d0-a296-88e03d86e04e"
      },
      "source": [
        "ctm = ZeroShotTM(bow_size=len(tp.vocab), contextual_size=768, n_components=50, num_epochs=15)\n",
        "ctm.fit(training_dataset) # run the model"
      ],
      "execution_count": 81,
      "outputs": [
        {
          "output_type": "stream",
          "name": "stderr",
          "text": [
            "Epoch: [15/15]\t Seen Samples: [44715/44715]\tTrain Loss: 965.4041193181819\tTime: 0:00:01.917896: : 15it [00:28,  1.90s/it]\n",
            "Sampling: [20/20]: : 20it [00:31,  1.56s/it]\n"
          ]
        }
      ]
    },
    {
      "cell_type": "code",
      "metadata": {
        "colab": {
          "base_uri": "https://localhost:8080/"
        },
        "id": "gx9FTRWunj6_",
        "outputId": "857a10eb-c6e8-4041-8f4f-e5b1709ebf50"
      },
      "source": [
        "ctm.get_topics(5)"
      ],
      "execution_count": 82,
      "outputs": [
        {
          "output_type": "execute_result",
          "data": {
            "text/plain": [
              "defaultdict(list,\n",
              "            {0: ['commun', 'day', 'play', 'associ', 'forc'],\n",
              "             1: ['futur', 'polici', 'kahl', 'demand', 'militari'],\n",
              "             2: ['like', 'code', 'provinc', 'just', 'state'],\n",
              "             3: ['zambia', 'speech', 'leav', 'public', 'countri'],\n",
              "             4: ['zambia', 'allow', 'countri', 'mr', 'hon'],\n",
              "             5: ['nicaragua', 'ortega', 'violeta', 'cristiana', 'suburban'],\n",
              "             6: ['st', 'children', 'good', 'war', 'confirm'],\n",
              "             7: ['monument', 'trump', 'women', 'octob', 'time'],\n",
              "             8: ['protect', 'prevent', 'human', 'china', 'effort'],\n",
              "             9: ['somoza', 'abnorm', 'managua', 'pretti', 'nicaragua'],\n",
              "             10: ['north', 'iran', 'deal', 'univ', 'debat'],\n",
              "             11: ['death', 'just', 'democraci', 'north', 'record'],\n",
              "             12: ['assign', 'limit', 'lose', 'mistak', 'sentenc'],\n",
              "             13: ['protect', 'state', 'account', 'congress', 'crisi'],\n",
              "             14: ['result', 'pandem', 'zambia', 'offici', 'continu'],\n",
              "             15: ['polit', 'like', 'new', 'rule', 'presid'],\n",
              "             16: ['review', 'text', 'tell', 'newslett', 'youtub'],\n",
              "             17: ['deputi', 'obama', 'father', 'block', 'responc'],\n",
              "             18: ['managua', 'ortega', 'arbitrarili', 'joaquin', 'somoza'],\n",
              "             19: ['better', 'strengthen', 'expand', 'car', 'profess'],\n",
              "             20: ['berlin', 'juli', 'wall', 'water', 'pick'],\n",
              "             21: ['school', 'new', 'use', 'talk', 'donat'],\n",
              "             22: ['media', 'good', 'zambian', 'continu', 'allow'],\n",
              "             23: ['nicaragua', 'managua', 'somoza', 'joaquin', 'disqualif'],\n",
              "             24: ['prensa', 'disqualif', 'globe', 'violeta', 'fervor'],\n",
              "             25: ['real', 'advantag', 'learn', 'partner', 'iri'],\n",
              "             26: ['educ', 'confer', 'episod', 'seat', 'push'],\n",
              "             27: ['border', 'busi', 'th', 'tell', 'admit'],\n",
              "             28: ['facebook', 'polit', 'come', 'daili', 'conserv'],\n",
              "             29: ['dr', 'task', 'wrong', 'execut', 'street'],\n",
              "             30: ['store', 'free', 'comment', 'page', 'americasvo'],\n",
              "             31: ['histori', 'way', 'die', 'america', 'long'],\n",
              "             32: ['make', 'presid', 'american', 'today', 'chang'],\n",
              "             33: ['podcast', 'biden', 'make', 'new', 'donat'],\n",
              "             34: ['podcast', 'daili', 'receiv', 'conserv', 'googl'],\n",
              "             35: ['king', 'socialist', 'fervor', 'jimmi', 'wing'],\n",
              "             36: ['stori', 'economi', 'continu', 'dr', 'significantli'],\n",
              "             37: ['young', 'risk', 'fight', 'dr', 'unit'],\n",
              "             38: ['parti', 'new', 'countri', 'polit', 'time'],\n",
              "             39: ['unit', 'natur', 'world', 'economi', 'pandem'],\n",
              "             40: ['border', 'wednesday', 'think', 'nearli', 'stori'],\n",
              "             41: ['major', 'issu', 'cut', 'democrat', 'donald'],\n",
              "             42: ['nicaragua', 'fervor', 'nicaraguan', 'joaquin', 'somoza'],\n",
              "             43: ['colleg', 'org', 'white', 'talk', 'johnmartintalk'],\n",
              "             44: ['wide', 'anymor', 'somoza', 'murillo', 'nicaraguan'],\n",
              "             45: ['reveal', 'nicaraguan', 'somoza', 'chibombo', 'chilemba'],\n",
              "             46: ['podcast', 'daili', 'conserv', 'bit', 'follow'],\n",
              "             47: ['campaign', 'trump', 'republican', 'media', 'polic'],\n",
              "             48: ['come', 'account', 'googl', 'store', 'live'],\n",
              "             49: ['elect', 'parti', 'state', 'conduct', 'financ']})"
            ]
          },
          "metadata": {},
          "execution_count": 82
        }
      ]
    },
    {
      "cell_type": "code",
      "metadata": {
        "colab": {
          "base_uri": "https://localhost:8080/"
        },
        "id": "YVcSMG79nj6_",
        "outputId": "9a5200de-2d43-41c1-faf9-f1e20c245d93"
      },
      "source": [
        "ctm.get_doc_topic_distribution(training_dataset, n_samples=20)"
      ],
      "execution_count": 83,
      "outputs": [
        {
          "output_type": "stream",
          "name": "stderr",
          "text": [
            "Sampling: [20/20]: : 20it [00:31,  1.57s/it]\n"
          ]
        },
        {
          "output_type": "execute_result",
          "data": {
            "text/plain": [
              "array([[0.00357267, 0.01441412, 0.01039579, ..., 0.00770453, 0.00621199,\n",
              "        0.00343547],\n",
              "       [0.01328897, 0.00770177, 0.01041165, ..., 0.00290565, 0.00674915,\n",
              "        0.00235404],\n",
              "       [0.0052313 , 0.06232346, 0.00421992, ..., 0.00509632, 0.00325132,\n",
              "        0.00803141],\n",
              "       ...,\n",
              "       [0.02277823, 0.00442161, 0.01279623, ..., 0.02270307, 0.02118252,\n",
              "        0.01550149],\n",
              "       [0.02068   , 0.02528542, 0.01877489, ..., 0.01493922, 0.01564527,\n",
              "        0.02771954],\n",
              "       [0.02217861, 0.02153281, 0.02302172, ..., 0.01464125, 0.02755107,\n",
              "        0.01134152]])"
            ]
          },
          "metadata": {},
          "execution_count": 83
        }
      ]
    },
    {
      "cell_type": "code",
      "metadata": {
        "colab": {
          "base_uri": "https://localhost:8080/"
        },
        "id": "TcTYY5t4nj6_",
        "outputId": "02388919-034c-48d4-c39e-445f9e482dda"
      },
      "source": [
        "ctm = ZeroShotTM(bow_size=len(tp.vocab), contextual_size=768, n_components=20, num_epochs=15)\n",
        "ctm.fit(training_dataset) # run the model"
      ],
      "execution_count": 84,
      "outputs": [
        {
          "output_type": "stream",
          "name": "stderr",
          "text": [
            "Epoch: [15/15]\t Seen Samples: [44715/44715]\tTrain Loss: 952.8863544636866\tTime: 0:00:01.872477: : 15it [00:28,  1.91s/it]\n",
            "Sampling: [20/20]: : 20it [00:31,  1.58s/it]\n"
          ]
        }
      ]
    },
    {
      "cell_type": "code",
      "metadata": {
        "colab": {
          "base_uri": "https://localhost:8080/"
        },
        "id": "Y3VBEwHBnj6_",
        "outputId": "2c9f0511-5d36-4aac-ffbe-bca14306095b"
      },
      "source": [
        "ctm.get_topics(5)"
      ],
      "execution_count": 85,
      "outputs": [
        {
          "output_type": "execute_result",
          "data": {
            "text/plain": [
              "defaultdict(list,\n",
              "            {0: ['bit', 'daili', 'facebook', 'googl', 'conserv'],\n",
              "             1: ['googl', 'avail', 'help', 'support', 'facebook'],\n",
              "             2: ['daili', 'bit', 'podcast', 'conserv', 'ly'],\n",
              "             3: ['like', 'daili', 'podcast', 'conserv', 'bit'],\n",
              "             4: ['economi', 'school', 'mr', 'infrastructur', 'hou'],\n",
              "             5: ['iceland', 'schooler', 'biotech', 'motorcad', 'enthusiasm'],\n",
              "             6: ['iceland', 'schooler', 'biotech', 'worth', 'spotlight'],\n",
              "             7: ['presid', 'need', 'job', 'know', 'elect'],\n",
              "             8: ['nation', 'today', 'john', 'martin', 'black'],\n",
              "             9: ['iceland', 'janel', 'mart', 'motorcad', 'schooler'],\n",
              "             10: ['john', 'martin', 'watch', 'campaign', 'talk'],\n",
              "             11: ['biotech', 'schooler', 'iceland', 'gofundm', 'secretserv'],\n",
              "             12: ['happen', 'chanda', 'district', 'pm', 'concern'],\n",
              "             13: ['congress', 'deal', 'tell', 'episod', 'african'],\n",
              "             14: ['work', 'amend', 'author', 'research', 'product'],\n",
              "             15: ['world', 'reform', 'disea', 'decad', 'long'],\n",
              "             16: ['upnd', 'presid', 'economi', 'provinc', 'hon'],\n",
              "             17: ['provid', 'health', 'presid', 'medic', 'pandem'],\n",
              "             18: ['polit', 'text', 'area', 'join', 'radio'],\n",
              "             19: ['human', 'thing', 'destroy', 'exerci', 'wash']})"
            ]
          },
          "metadata": {},
          "execution_count": 85
        }
      ]
    },
    {
      "cell_type": "code",
      "metadata": {
        "id": "zIHBLqYInj6_"
      },
      "source": [
        "topics = pd.DataFrame.from_dict(ctm.get_topics(5)).transpose()\n",
        "topics.columns = [\"0\", \"1\", \"2\" ,\"3\",\"4\"]"
      ],
      "execution_count": 86,
      "outputs": []
    },
    {
      "cell_type": "code",
      "metadata": {
        "colab": {
          "base_uri": "https://localhost:8080/",
          "height": 0
        },
        "id": "0xZXFN2fnj6_",
        "outputId": "f99f4093-9a96-4133-cd91-3788ecbf9930"
      },
      "source": [
        "topics['topic_words'] = topics[\"0\"]+ \" \" + topics[\"1\"]+ \" \" + topics[\"2\"]+ \" \" + topics[\"3\"]+ \" \" + topics[\"4\"]\n",
        "topics = topics[['topic_words']]\n",
        "topics"
      ],
      "execution_count": 87,
      "outputs": [
        {
          "output_type": "execute_result",
          "data": {
            "text/html": [
              "<div>\n",
              "<style scoped>\n",
              "    .dataframe tbody tr th:only-of-type {\n",
              "        vertical-align: middle;\n",
              "    }\n",
              "\n",
              "    .dataframe tbody tr th {\n",
              "        vertical-align: top;\n",
              "    }\n",
              "\n",
              "    .dataframe thead th {\n",
              "        text-align: right;\n",
              "    }\n",
              "</style>\n",
              "<table border=\"1\" class=\"dataframe\">\n",
              "  <thead>\n",
              "    <tr style=\"text-align: right;\">\n",
              "      <th></th>\n",
              "      <th>topic_words</th>\n",
              "    </tr>\n",
              "  </thead>\n",
              "  <tbody>\n",
              "    <tr>\n",
              "      <th>0</th>\n",
              "      <td>bit daili facebook googl conserv</td>\n",
              "    </tr>\n",
              "    <tr>\n",
              "      <th>1</th>\n",
              "      <td>googl avail help support facebook</td>\n",
              "    </tr>\n",
              "    <tr>\n",
              "      <th>2</th>\n",
              "      <td>daili bit podcast conserv ly</td>\n",
              "    </tr>\n",
              "    <tr>\n",
              "      <th>3</th>\n",
              "      <td>like daili podcast conserv bit</td>\n",
              "    </tr>\n",
              "    <tr>\n",
              "      <th>4</th>\n",
              "      <td>economi school mr infrastructur hou</td>\n",
              "    </tr>\n",
              "    <tr>\n",
              "      <th>5</th>\n",
              "      <td>iceland schooler biotech motorcad enthusiasm</td>\n",
              "    </tr>\n",
              "    <tr>\n",
              "      <th>6</th>\n",
              "      <td>iceland schooler biotech worth spotlight</td>\n",
              "    </tr>\n",
              "    <tr>\n",
              "      <th>7</th>\n",
              "      <td>presid need job know elect</td>\n",
              "    </tr>\n",
              "    <tr>\n",
              "      <th>8</th>\n",
              "      <td>nation today john martin black</td>\n",
              "    </tr>\n",
              "    <tr>\n",
              "      <th>9</th>\n",
              "      <td>iceland janel mart motorcad schooler</td>\n",
              "    </tr>\n",
              "    <tr>\n",
              "      <th>10</th>\n",
              "      <td>john martin watch campaign talk</td>\n",
              "    </tr>\n",
              "    <tr>\n",
              "      <th>11</th>\n",
              "      <td>biotech schooler iceland gofundm secretserv</td>\n",
              "    </tr>\n",
              "    <tr>\n",
              "      <th>12</th>\n",
              "      <td>happen chanda district pm concern</td>\n",
              "    </tr>\n",
              "    <tr>\n",
              "      <th>13</th>\n",
              "      <td>congress deal tell episod african</td>\n",
              "    </tr>\n",
              "    <tr>\n",
              "      <th>14</th>\n",
              "      <td>work amend author research product</td>\n",
              "    </tr>\n",
              "    <tr>\n",
              "      <th>15</th>\n",
              "      <td>world reform disea decad long</td>\n",
              "    </tr>\n",
              "    <tr>\n",
              "      <th>16</th>\n",
              "      <td>upnd presid economi provinc hon</td>\n",
              "    </tr>\n",
              "    <tr>\n",
              "      <th>17</th>\n",
              "      <td>provid health presid medic pandem</td>\n",
              "    </tr>\n",
              "    <tr>\n",
              "      <th>18</th>\n",
              "      <td>polit text area join radio</td>\n",
              "    </tr>\n",
              "    <tr>\n",
              "      <th>19</th>\n",
              "      <td>human thing destroy exerci wash</td>\n",
              "    </tr>\n",
              "  </tbody>\n",
              "</table>\n",
              "</div>"
            ],
            "text/plain": [
              "                                     topic_words\n",
              "0               bit daili facebook googl conserv\n",
              "1              googl avail help support facebook\n",
              "2                   daili bit podcast conserv ly\n",
              "3                 like daili podcast conserv bit\n",
              "4            economi school mr infrastructur hou\n",
              "5   iceland schooler biotech motorcad enthusiasm\n",
              "6       iceland schooler biotech worth spotlight\n",
              "7                     presid need job know elect\n",
              "8                 nation today john martin black\n",
              "9           iceland janel mart motorcad schooler\n",
              "10               john martin watch campaign talk\n",
              "11   biotech schooler iceland gofundm secretserv\n",
              "12             happen chanda district pm concern\n",
              "13             congress deal tell episod african\n",
              "14            work amend author research product\n",
              "15                 world reform disea decad long\n",
              "16               upnd presid economi provinc hon\n",
              "17             provid health presid medic pandem\n",
              "18                    polit text area join radio\n",
              "19               human thing destroy exerci wash"
            ]
          },
          "metadata": {},
          "execution_count": 87
        }
      ]
    },
    {
      "cell_type": "markdown",
      "metadata": {
        "id": "RY_NCusgnj7A"
      },
      "source": [
        "### Combined Topic Model"
      ]
    },
    {
      "cell_type": "code",
      "metadata": {
        "colab": {
          "base_uri": "https://localhost:8080/"
        },
        "id": "2tGHe9imnj7A",
        "outputId": "3b04fdcf-954b-4697-97dd-61c625668279"
      },
      "source": [
        "ctm = CombinedTM(bow_size=len(tp.vocab), contextual_size=768, n_components=20, num_epochs=15)\n",
        "ctm.fit(training_dataset) # run the model"
      ],
      "execution_count": 88,
      "outputs": [
        {
          "output_type": "stream",
          "name": "stderr",
          "text": [
            "Epoch: [15/15]\t Seen Samples: [44715/44715]\tTrain Loss: 886.1428631331768\tTime: 0:00:02.043325: : 15it [00:30,  2.04s/it]\n",
            "Sampling: [20/20]: : 20it [00:32,  1.61s/it]\n"
          ]
        }
      ]
    },
    {
      "cell_type": "code",
      "metadata": {
        "colab": {
          "base_uri": "https://localhost:8080/"
        },
        "id": "JXQTYmpmnj7A",
        "outputId": "49c0ce26-5270-4a67-8a7d-088cdaf86a92"
      },
      "source": [
        "ctm.get_topics(5)"
      ],
      "execution_count": 89,
      "outputs": [
        {
          "output_type": "execute_result",
          "data": {
            "text/plain": [
              "defaultdict(list,\n",
              "            {0: ['liber', 'journalist', 'penc', 'doe', 'care'],\n",
              "             1: ['ly', 'conserv', 'rumbl', 'join', 'daili'],\n",
              "             2: ['citi', 'close', 'month', 'york', 'told'],\n",
              "             3: ['rich', 'signatur', 'countrywid', 'heavili', 'kamba'],\n",
              "             4: ['zambia', 'law', 'polit', 'presid', 'pf'],\n",
              "             5: ['johnmartintalk', 'org', 'talk', 'martin', 'john'],\n",
              "             6: ['ly', 'daili', 'conserv', 'podcast', 'text'],\n",
              "             7: ['zambia', 'continu', 'parti', 'pf', 'public'],\n",
              "             8: ['zambia', 'presid', 'countri', 'nation', 'lungu'],\n",
              "             9: ['podcast', 'conserv', 'daili', 'ly', 'cd'],\n",
              "             10: ['intellig', 'staff', 'author', 'visit', 'world'],\n",
              "             11: ['outlook', 'distinguish', 'wonder', 'av', 'rapucsrx'],\n",
              "             12: ['conserv', 'daili', 'like', 'ly', 'podcast'],\n",
              "             13: ['czggemlyygivfrgyqdefi',\n",
              "              'hdi',\n",
              "              'uya',\n",
              "              'pusbsgnxvxvl',\n",
              "              'zgnlmodf'],\n",
              "             14: ['monday', 'appeal', 'big', 'problem', 'surpri'],\n",
              "             15: ['fundament', 'excerpt', 'usmca', 'whvr', 'rapucsrx'],\n",
              "             16: ['rapucsrx', 'hdi', 'bustl', 'av', 'velenasi'],\n",
              "             17: ['potenti', 'mail', 'titl', 'bypass', 'enuusi'],\n",
              "             18: ['rapucsrx', 'hdi', 'czggemlyygivfrgyqdefi', 'enuusi', 'uya'],\n",
              "             19: ['zte', 'enuusi', 'pusbsgnxvxvl', 'blessedli', 'usmca']})"
            ]
          },
          "metadata": {},
          "execution_count": 89
        }
      ]
    },
    {
      "cell_type": "code",
      "metadata": {
        "id": "AIt9K_Wwnj7A"
      },
      "source": [
        "topics = pd.DataFrame.from_dict(ctm.get_topics(5)).transpose()\n",
        "topics.columns = [\"0\", \"1\", \"2\" ,\"3\",\"4\"]"
      ],
      "execution_count": 90,
      "outputs": []
    },
    {
      "cell_type": "code",
      "metadata": {
        "colab": {
          "base_uri": "https://localhost:8080/",
          "height": 677
        },
        "id": "SPa2gYJGnj7A",
        "outputId": "7aa21b78-226e-4549-9833-c13cc2cefad4"
      },
      "source": [
        "topics['topic_words'] = topics[\"0\"]+ \" \" + topics[\"1\"]+ \" \" + topics[\"2\"]+ \" \" + topics[\"3\"]+ \" \" + topics[\"4\"]\n",
        "topics = topics[['topic_words']]\n",
        "topics"
      ],
      "execution_count": 91,
      "outputs": [
        {
          "output_type": "execute_result",
          "data": {
            "text/html": [
              "<div>\n",
              "<style scoped>\n",
              "    .dataframe tbody tr th:only-of-type {\n",
              "        vertical-align: middle;\n",
              "    }\n",
              "\n",
              "    .dataframe tbody tr th {\n",
              "        vertical-align: top;\n",
              "    }\n",
              "\n",
              "    .dataframe thead th {\n",
              "        text-align: right;\n",
              "    }\n",
              "</style>\n",
              "<table border=\"1\" class=\"dataframe\">\n",
              "  <thead>\n",
              "    <tr style=\"text-align: right;\">\n",
              "      <th></th>\n",
              "      <th>topic_words</th>\n",
              "    </tr>\n",
              "  </thead>\n",
              "  <tbody>\n",
              "    <tr>\n",
              "      <th>0</th>\n",
              "      <td>liber journalist penc doe care</td>\n",
              "    </tr>\n",
              "    <tr>\n",
              "      <th>1</th>\n",
              "      <td>ly conserv rumbl join daili</td>\n",
              "    </tr>\n",
              "    <tr>\n",
              "      <th>2</th>\n",
              "      <td>citi close month york told</td>\n",
              "    </tr>\n",
              "    <tr>\n",
              "      <th>3</th>\n",
              "      <td>rich signatur countrywid heavili kamba</td>\n",
              "    </tr>\n",
              "    <tr>\n",
              "      <th>4</th>\n",
              "      <td>zambia law polit presid pf</td>\n",
              "    </tr>\n",
              "    <tr>\n",
              "      <th>5</th>\n",
              "      <td>johnmartintalk org talk martin john</td>\n",
              "    </tr>\n",
              "    <tr>\n",
              "      <th>6</th>\n",
              "      <td>ly daili conserv podcast text</td>\n",
              "    </tr>\n",
              "    <tr>\n",
              "      <th>7</th>\n",
              "      <td>zambia continu parti pf public</td>\n",
              "    </tr>\n",
              "    <tr>\n",
              "      <th>8</th>\n",
              "      <td>zambia presid countri nation lungu</td>\n",
              "    </tr>\n",
              "    <tr>\n",
              "      <th>9</th>\n",
              "      <td>podcast conserv daili ly cd</td>\n",
              "    </tr>\n",
              "    <tr>\n",
              "      <th>10</th>\n",
              "      <td>intellig staff author visit world</td>\n",
              "    </tr>\n",
              "    <tr>\n",
              "      <th>11</th>\n",
              "      <td>outlook distinguish wonder av rapucsrx</td>\n",
              "    </tr>\n",
              "    <tr>\n",
              "      <th>12</th>\n",
              "      <td>conserv daili like ly podcast</td>\n",
              "    </tr>\n",
              "    <tr>\n",
              "      <th>13</th>\n",
              "      <td>czggemlyygivfrgyqdefi hdi uya pusbsgnxvxvl zgn...</td>\n",
              "    </tr>\n",
              "    <tr>\n",
              "      <th>14</th>\n",
              "      <td>monday appeal big problem surpri</td>\n",
              "    </tr>\n",
              "    <tr>\n",
              "      <th>15</th>\n",
              "      <td>fundament excerpt usmca whvr rapucsrx</td>\n",
              "    </tr>\n",
              "    <tr>\n",
              "      <th>16</th>\n",
              "      <td>rapucsrx hdi bustl av velenasi</td>\n",
              "    </tr>\n",
              "    <tr>\n",
              "      <th>17</th>\n",
              "      <td>potenti mail titl bypass enuusi</td>\n",
              "    </tr>\n",
              "    <tr>\n",
              "      <th>18</th>\n",
              "      <td>rapucsrx hdi czggemlyygivfrgyqdefi enuusi uya</td>\n",
              "    </tr>\n",
              "    <tr>\n",
              "      <th>19</th>\n",
              "      <td>zte enuusi pusbsgnxvxvl blessedli usmca</td>\n",
              "    </tr>\n",
              "  </tbody>\n",
              "</table>\n",
              "</div>"
            ],
            "text/plain": [
              "                                          topic_words\n",
              "0                      liber journalist penc doe care\n",
              "1                         ly conserv rumbl join daili\n",
              "2                          citi close month york told\n",
              "3              rich signatur countrywid heavili kamba\n",
              "4                          zambia law polit presid pf\n",
              "5                 johnmartintalk org talk martin john\n",
              "6                       ly daili conserv podcast text\n",
              "7                      zambia continu parti pf public\n",
              "8                  zambia presid countri nation lungu\n",
              "9                         podcast conserv daili ly cd\n",
              "10                  intellig staff author visit world\n",
              "11             outlook distinguish wonder av rapucsrx\n",
              "12                      conserv daili like ly podcast\n",
              "13  czggemlyygivfrgyqdefi hdi uya pusbsgnxvxvl zgn...\n",
              "14                   monday appeal big problem surpri\n",
              "15              fundament excerpt usmca whvr rapucsrx\n",
              "16                     rapucsrx hdi bustl av velenasi\n",
              "17                    potenti mail titl bypass enuusi\n",
              "18      rapucsrx hdi czggemlyygivfrgyqdefi enuusi uya\n",
              "19            zte enuusi pusbsgnxvxvl blessedli usmca"
            ]
          },
          "metadata": {},
          "execution_count": 91
        }
      ]
    },
    {
      "cell_type": "code",
      "metadata": {
        "colab": {
          "base_uri": "https://localhost:8080/"
        },
        "id": "2rFrubItnj7A",
        "outputId": "deec3255-95f5-447d-fd1c-19194c742ebb"
      },
      "source": [
        "ctm.get_topics(5)"
      ],
      "execution_count": 92,
      "outputs": [
        {
          "output_type": "execute_result",
          "data": {
            "text/plain": [
              "defaultdict(list,\n",
              "            {0: ['liber', 'journalist', 'penc', 'doe', 'care'],\n",
              "             1: ['ly', 'conserv', 'rumbl', 'join', 'daili'],\n",
              "             2: ['citi', 'close', 'month', 'york', 'told'],\n",
              "             3: ['rich', 'signatur', 'countrywid', 'heavili', 'kamba'],\n",
              "             4: ['zambia', 'law', 'polit', 'presid', 'pf'],\n",
              "             5: ['johnmartintalk', 'org', 'talk', 'martin', 'john'],\n",
              "             6: ['ly', 'daili', 'conserv', 'podcast', 'text'],\n",
              "             7: ['zambia', 'continu', 'parti', 'pf', 'public'],\n",
              "             8: ['zambia', 'presid', 'countri', 'nation', 'lungu'],\n",
              "             9: ['podcast', 'conserv', 'daili', 'ly', 'cd'],\n",
              "             10: ['intellig', 'staff', 'author', 'visit', 'world'],\n",
              "             11: ['outlook', 'distinguish', 'wonder', 'av', 'rapucsrx'],\n",
              "             12: ['conserv', 'daili', 'like', 'ly', 'podcast'],\n",
              "             13: ['czggemlyygivfrgyqdefi',\n",
              "              'hdi',\n",
              "              'uya',\n",
              "              'pusbsgnxvxvl',\n",
              "              'zgnlmodf'],\n",
              "             14: ['monday', 'appeal', 'big', 'problem', 'surpri'],\n",
              "             15: ['fundament', 'excerpt', 'usmca', 'whvr', 'rapucsrx'],\n",
              "             16: ['rapucsrx', 'hdi', 'bustl', 'av', 'velenasi'],\n",
              "             17: ['potenti', 'mail', 'titl', 'bypass', 'enuusi'],\n",
              "             18: ['rapucsrx', 'hdi', 'czggemlyygivfrgyqdefi', 'enuusi', 'uya'],\n",
              "             19: ['zte', 'enuusi', 'pusbsgnxvxvl', 'blessedli', 'usmca']})"
            ]
          },
          "metadata": {},
          "execution_count": 92
        }
      ]
    },
    {
      "cell_type": "code",
      "metadata": {
        "colab": {
          "base_uri": "https://localhost:8080/"
        },
        "id": "Ld6zHfbvnj7B",
        "outputId": "7e702792-3aa6-4e48-e462-9cf6e7281be2"
      },
      "source": [
        "ctm = CombinedTM(bow_size=len(tp.vocab), contextual_size=768, n_components=10, num_epochs=15)\n",
        "ctm.fit(training_dataset) # run the model\n",
        "topics = pd.DataFrame.from_dict(ctm.get_topics(5)).transpose()\n",
        "topics.columns = [\"0\", \"1\", \"2\" ,\"3\",\"4\"]"
      ],
      "execution_count": 183,
      "outputs": [
        {
          "output_type": "stream",
          "name": "stderr",
          "text": [
            "Epoch: [15/15]\t Seen Samples: [80565/80565]\tTrain Loss: 309.5793499304715\tTime: 0:00:04.068562: : 15it [01:01,  4.11s/it]\n",
            "Sampling: [20/20]: : 20it [00:58,  2.92s/it]\n"
          ]
        }
      ]
    },
    {
      "cell_type": "code",
      "metadata": {
        "colab": {
          "base_uri": "https://localhost:8080/",
          "height": 363
        },
        "id": "qPtzACjpnj7B",
        "outputId": "fc5b5081-c42d-47bb-c9bd-732583951369"
      },
      "source": [
        "topics['topic_words'] = topics[\"0\"]+ \" \" + topics[\"1\"]+ \" \" + topics[\"2\"]+ \" \" + topics[\"3\"]+ \" \" + topics[\"4\"]\n",
        "topics = topics[['topic_words']]\n",
        "topics"
      ],
      "execution_count": 184,
      "outputs": [
        {
          "output_type": "execute_result",
          "data": {
            "text/html": [
              "<div>\n",
              "<style scoped>\n",
              "    .dataframe tbody tr th:only-of-type {\n",
              "        vertical-align: middle;\n",
              "    }\n",
              "\n",
              "    .dataframe tbody tr th {\n",
              "        vertical-align: top;\n",
              "    }\n",
              "\n",
              "    .dataframe thead th {\n",
              "        text-align: right;\n",
              "    }\n",
              "</style>\n",
              "<table border=\"1\" class=\"dataframe\">\n",
              "  <thead>\n",
              "    <tr style=\"text-align: right;\">\n",
              "      <th></th>\n",
              "      <th>topic_words</th>\n",
              "    </tr>\n",
              "  </thead>\n",
              "  <tbody>\n",
              "    <tr>\n",
              "      <th>0</th>\n",
              "      <td>cancer gene autoridad travel camp</td>\n",
              "    </tr>\n",
              "    <tr>\n",
              "      <th>1</th>\n",
              "      <td>busi small love facebook googl</td>\n",
              "    </tr>\n",
              "    <tr>\n",
              "      <th>2</th>\n",
              "      <td>san hospit massiv fda despit</td>\n",
              "    </tr>\n",
              "    <tr>\n",
              "      <th>3</th>\n",
              "      <td>need health like new employ</td>\n",
              "    </tr>\n",
              "    <tr>\n",
              "      <th>4</th>\n",
              "      <td>hou employ home sick care</td>\n",
              "    </tr>\n",
              "    <tr>\n",
              "      <th>5</th>\n",
              "      <td>sz az hogi azt egi</td>\n",
              "    </tr>\n",
              "    <tr>\n",
              "      <th>6</th>\n",
              "      <td>zero thought transport memo effort</td>\n",
              "    </tr>\n",
              "    <tr>\n",
              "      <th>7</th>\n",
              "      <td>team modern pregnant question level</td>\n",
              "    </tr>\n",
              "    <tr>\n",
              "      <th>8</th>\n",
              "      <td>entrust contact unelect pursuit invalid</td>\n",
              "    </tr>\n",
              "    <tr>\n",
              "      <th>9</th>\n",
              "      <td>invalid abu entrust unelect wuhan</td>\n",
              "    </tr>\n",
              "  </tbody>\n",
              "</table>\n",
              "</div>"
            ],
            "text/plain": [
              "                               topic_words\n",
              "0        cancer gene autoridad travel camp\n",
              "1           busi small love facebook googl\n",
              "2             san hospit massiv fda despit\n",
              "3              need health like new employ\n",
              "4                hou employ home sick care\n",
              "5                       sz az hogi azt egi\n",
              "6       zero thought transport memo effort\n",
              "7      team modern pregnant question level\n",
              "8  entrust contact unelect pursuit invalid\n",
              "9        invalid abu entrust unelect wuhan"
            ]
          },
          "metadata": {},
          "execution_count": 184
        }
      ]
    },
    {
      "cell_type": "markdown",
      "metadata": {
        "id": "Jlf4pcm3pRGK"
      },
      "source": [
        "## anti-vaxxer-Before"
      ]
    },
    {
      "cell_type": "markdown",
      "metadata": {
        "id": "FQjGOhiKpRGR"
      },
      "source": [
        "### read data"
      ]
    },
    {
      "cell_type": "code",
      "metadata": {
        "colab": {
          "base_uri": "https://localhost:8080/"
        },
        "id": "qDyFSd4apRGS",
        "outputId": "9f9e5c33-f0ac-4f17-862a-0c3655476869"
      },
      "source": [
        "data = pd.read_csv('/content/drive/MyDrive/Colab Notebooks/anti_before_cleaned.csv', delimiter=',')\n",
        "data_corpus = pd.DataFrame(pd.read_csv('/content/drive/MyDrive/AVaxxer-2018-01-01--2020-02-29.csv', delimiter=',')['Message'])"
      ],
      "execution_count": 154,
      "outputs": [
        {
          "output_type": "stream",
          "name": "stderr",
          "text": [
            "/usr/local/lib/python3.7/dist-packages/IPython/core/interactiveshell.py:3072: DtypeWarning: Columns (37,38,39) have mixed types.Specify dtype option on import or set low_memory=False.\n",
            "  interactivity=interactivity, compiler=compiler, result=result)\n"
          ]
        }
      ]
    },
    {
      "cell_type": "code",
      "metadata": {
        "id": "Ffqv55qQpRGS"
      },
      "source": [
        "add_stop_words = ['said','say', 'says','news', 'year', 'vaccine', 'covid', 'people','COVID-19','COVID',\n",
        "                  'coronavirus', 'vaccination', 'vaccinated', 'Pfizer','Pfizer-BioNTech',\n",
        "                  'Moderna', 'Johnson', 'Johnson’s', 'Janssen','j&j', 'mRNA', 'vaccination',\n",
        "                  'freedom', 'truth','science', 'government', 'control', 'dictate','personal',\n",
        "                  'choice', 'hoax', 'flu','www','com', 'http', 'vaccin']\n",
        "stop_words = text.ENGLISH_STOP_WORDS.union(add_stop_words)\n",
        "spanish = nltk.corpus.stopwords.words('spanish')\n",
        "stop_words = stop_words.union(spanish)\n",
        "\n",
        "def clean_text(text):\n",
        "  stemmed_text = []\n",
        "  porter_stemmer = PorterStemmer()\n",
        "  text = re.sub('[^a-zA-Z]', ' ', text)\n",
        "  text = re.sub(r'http\\S+', '', text)\n",
        "  text = re.sub(r'www\\.[a-z]+\\.at', '', text)\n",
        "  text = re.sub(r'(@[A-Za-z]+[A-Za-z0-9-_]+)', '', text) #remove mentions\n",
        "  text = re.sub(r'bit.ly/\\S+', '', text)\n",
        "  text = re.sub(r'^((https?|ftp|smtp):\\/\\/)?(www.)?[a-z0-9]+\\.[a-z]+(\\/[a-zA-Z0-9#]+\\/?)*$', '', text)\n",
        "  text = re.sub(r'https?:\\/\\/(www\\.)?[-a-zA-Z0-9@:%._\\+~#=]{1,256}\\.[a-zA-Z0-9()]{1,6}\\b([-a-zA-Z0-9()@:%_\\+.~#?&//=]*)', '', text)\n",
        "  result = re.sub('[%s]' % re.escape(string.punctuation), '', text)\n",
        "  result = result.lower()\n",
        "  result = result.split()\n",
        "  result = [r for r in result if r not in stop_words]\n",
        "  stemmed_result = [porter_stemmer.stem(r) for r in result]\n",
        "  stemmed_text.append(\" \".join(stemmed_result))\n",
        "  return stemmed_text"
      ],
      "execution_count": 155,
      "outputs": []
    },
    {
      "cell_type": "code",
      "metadata": {
        "id": "NLTYy2JhpRGS"
      },
      "source": [
        "def pre_process_without_combine(data):\n",
        "  data['Message'] = data['Message'].drop_duplicates()\n",
        "  data['Message'] = data['Message'].fillna('')\n",
        "  data['Message'] = data['Message'].astype('string')\n",
        "  data['Message'] = data['Message'].apply(clean_text)\n",
        "  data['Message'] = data['Message'].apply(np.squeeze)\n",
        "  data = data[data['Message']!=\"\"]\n",
        "  \n",
        "  return data\n",
        "\n",
        "clean = pre_process_without_combine(data)"
      ],
      "execution_count": 156,
      "outputs": []
    },
    {
      "cell_type": "code",
      "metadata": {
        "id": "Er4Et_blpRGS"
      },
      "source": [
        "data = pd.read_csv('/content/drive/MyDrive/Colab Notebooks/anti_before_cleaned.csv', delimiter=',')\n",
        "data_corpus = pd.DataFrame(pd.read_csv('/content/drive/MyDrive/AVaxxer-2018-01-01--2020-02-29.csv', delimiter=',')['Message'])"
      ],
      "execution_count": 157,
      "outputs": []
    },
    {
      "cell_type": "code",
      "metadata": {
        "id": "nWwjn98tpRGS"
      },
      "source": [
        "def pre_process_without_combine(data):\n",
        "  data['Message'] = data['Message'].drop_duplicates()\n",
        "  data['Message'] = data['Message'].fillna('')\n",
        "  data['Message'] = data['Message'].astype('string')\n",
        "  data['Message'] = data['Message'].apply(np.squeeze)\n",
        "  data = data[data['Message']!=\"\"]\n",
        "  \n",
        "  return pd.DataFrame(data['Message'])"
      ],
      "execution_count": 158,
      "outputs": []
    },
    {
      "cell_type": "code",
      "metadata": {
        "id": "ld_CQRQApRGS"
      },
      "source": [
        "data_corpus = pre_process_without_combine(data_corpus)"
      ],
      "execution_count": 159,
      "outputs": []
    },
    {
      "cell_type": "code",
      "metadata": {
        "colab": {
          "base_uri": "https://localhost:8080/",
          "height": 0
        },
        "id": "BjNBrFihpRGS",
        "outputId": "72f2292e-d00b-4723-8a91-b66070046790"
      },
      "source": [
        "data_corpus"
      ],
      "execution_count": 160,
      "outputs": [
        {
          "output_type": "execute_result",
          "data": {
            "text/html": [
              "<div>\n",
              "<style scoped>\n",
              "    .dataframe tbody tr th:only-of-type {\n",
              "        vertical-align: middle;\n",
              "    }\n",
              "\n",
              "    .dataframe tbody tr th {\n",
              "        vertical-align: top;\n",
              "    }\n",
              "\n",
              "    .dataframe thead th {\n",
              "        text-align: right;\n",
              "    }\n",
              "</style>\n",
              "<table border=\"1\" class=\"dataframe\">\n",
              "  <thead>\n",
              "    <tr style=\"text-align: right;\">\n",
              "      <th></th>\n",
              "      <th>Message</th>\n",
              "    </tr>\n",
              "  </thead>\n",
              "  <tbody>\n",
              "    <tr>\n",
              "      <th>0</th>\n",
              "      <td>THIS IS WHAT'S REALLY GONNA KILL EVERYBODY!!!!...</td>\n",
              "    </tr>\n",
              "    <tr>\n",
              "      <th>1</th>\n",
              "      <td>DMT is the spiritual science which allows us t...</td>\n",
              "    </tr>\n",
              "    <tr>\n",
              "      <th>2</th>\n",
              "      <td>Thoughts? Opinions?</td>\n",
              "    </tr>\n",
              "    <tr>\n",
              "      <th>3</th>\n",
              "      <td>#Auspol Unbelievable how are they getting away...</td>\n",
              "    </tr>\n",
              "    <tr>\n",
              "      <th>4</th>\n",
              "      <td>When a woman asked Buttigieg how he would hand...</td>\n",
              "    </tr>\n",
              "    <tr>\n",
              "      <th>...</th>\n",
              "      <td>...</td>\n",
              "    </tr>\n",
              "    <tr>\n",
              "      <th>62466</th>\n",
              "      <td>Elevated glucose in pregnancy - even in non-di...</td>\n",
              "    </tr>\n",
              "    <tr>\n",
              "      <th>62467</th>\n",
              "      <td>Harrowing Predictions of Hope | Listen to toda...</td>\n",
              "    </tr>\n",
              "    <tr>\n",
              "      <th>62468</th>\n",
              "      <td>Rewarded for lying.</td>\n",
              "    </tr>\n",
              "    <tr>\n",
              "      <th>62469</th>\n",
              "      <td>Science is never settled. https://anewkindofhu...</td>\n",
              "    </tr>\n",
              "    <tr>\n",
              "      <th>62471</th>\n",
              "      <td>https://www.ncbi.nlm.nih.gov/pmc/articles/PMC4...</td>\n",
              "    </tr>\n",
              "  </tbody>\n",
              "</table>\n",
              "<p>47563 rows × 1 columns</p>\n",
              "</div>"
            ],
            "text/plain": [
              "                                                 Message\n",
              "0      THIS IS WHAT'S REALLY GONNA KILL EVERYBODY!!!!...\n",
              "1      DMT is the spiritual science which allows us t...\n",
              "2                                    Thoughts? Opinions?\n",
              "3      #Auspol Unbelievable how are they getting away...\n",
              "4      When a woman asked Buttigieg how he would hand...\n",
              "...                                                  ...\n",
              "62466  Elevated glucose in pregnancy - even in non-di...\n",
              "62467  Harrowing Predictions of Hope | Listen to toda...\n",
              "62468                                Rewarded for lying.\n",
              "62469  Science is never settled. https://anewkindofhu...\n",
              "62471  https://www.ncbi.nlm.nih.gov/pmc/articles/PMC4...\n",
              "\n",
              "[47563 rows x 1 columns]"
            ]
          },
          "metadata": {},
          "execution_count": 160
        }
      ]
    },
    {
      "cell_type": "code",
      "metadata": {
        "id": "sgPU6u_0pRGT"
      },
      "source": [
        "clean = clean.reset_index()"
      ],
      "execution_count": 161,
      "outputs": []
    },
    {
      "cell_type": "code",
      "metadata": {
        "id": "ttsP7T9apRGT"
      },
      "source": [
        "data_corpus = data_corpus.reset_index()"
      ],
      "execution_count": 162,
      "outputs": []
    },
    {
      "cell_type": "code",
      "metadata": {
        "id": "12zfYrL5pRGT"
      },
      "source": [
        "data_corpus.columns = ['index', 'Raw_Message']"
      ],
      "execution_count": 163,
      "outputs": []
    },
    {
      "cell_type": "code",
      "metadata": {
        "colab": {
          "base_uri": "https://localhost:8080/",
          "height": 0
        },
        "id": "rpxGJhEKpRGT",
        "outputId": "f8d1981e-d7fd-48ea-b49a-de0ad79d75ae"
      },
      "source": [
        "join = clean.merge(data_corpus)\n",
        "join"
      ],
      "execution_count": 164,
      "outputs": [
        {
          "output_type": "execute_result",
          "data": {
            "text/html": [
              "<div>\n",
              "<style scoped>\n",
              "    .dataframe tbody tr th:only-of-type {\n",
              "        vertical-align: middle;\n",
              "    }\n",
              "\n",
              "    .dataframe tbody tr th {\n",
              "        vertical-align: top;\n",
              "    }\n",
              "\n",
              "    .dataframe thead th {\n",
              "        text-align: right;\n",
              "    }\n",
              "</style>\n",
              "<table border=\"1\" class=\"dataframe\">\n",
              "  <thead>\n",
              "    <tr style=\"text-align: right;\">\n",
              "      <th></th>\n",
              "      <th>index</th>\n",
              "      <th>Message</th>\n",
              "      <th>Raw_Message</th>\n",
              "    </tr>\n",
              "  </thead>\n",
              "  <tbody>\n",
              "    <tr>\n",
              "      <th>0</th>\n",
              "      <td>0</td>\n",
              "      <td>s realli gonna kill everybodi</td>\n",
              "      <td>THIS IS WHAT'S REALLY GONNA KILL EVERYBODY!!!!...</td>\n",
              "    </tr>\n",
              "    <tr>\n",
              "      <th>1</th>\n",
              "      <td>1</td>\n",
              "      <td>dmt spiritu allow traver gap matter consciou f...</td>\n",
              "      <td>DMT is the spiritual science which allows us t...</td>\n",
              "    </tr>\n",
              "    <tr>\n",
              "      <th>2</th>\n",
              "      <td>2</td>\n",
              "      <td>thought opinion</td>\n",
              "      <td>Thoughts? Opinions?</td>\n",
              "    </tr>\n",
              "    <tr>\n",
              "      <th>3</th>\n",
              "      <td>3</td>\n",
              "      <td>auspol unbeliev away garbag worker act sane pe...</td>\n",
              "      <td>#Auspol Unbelievable how are they getting away...</td>\n",
              "    </tr>\n",
              "    <tr>\n",
              "      <th>4</th>\n",
              "      <td>4</td>\n",
              "      <td>woman ask buttigieg handl debat thing like fai...</td>\n",
              "      <td>When a woman asked Buttigieg how he would hand...</td>\n",
              "    </tr>\n",
              "    <tr>\n",
              "      <th>...</th>\n",
              "      <td>...</td>\n",
              "      <td>...</td>\n",
              "      <td>...</td>\n",
              "    </tr>\n",
              "    <tr>\n",
              "      <th>34930</th>\n",
              "      <td>47304</td>\n",
              "      <td>worst sanofi s dengu launch turn nightmar note...</td>\n",
              "      <td>Why Is This Legal? Presentation on Vaccines by...</td>\n",
              "    </tr>\n",
              "    <tr>\n",
              "      <th>34931</th>\n",
              "      <td>47305</td>\n",
              "      <td>guarant big numerolog perspect number vibrat i...</td>\n",
              "      <td>Just think about it... The Truth About Vaccine...</td>\n",
              "    </tr>\n",
              "    <tr>\n",
              "      <th>34932</th>\n",
              "      <td>47306</td>\n",
              "      <td>review cour nation s histori face inflect poin...</td>\n",
              "      <td>\"The study says 7.7, for those of you counting...</td>\n",
              "    </tr>\n",
              "    <tr>\n",
              "      <th>34933</th>\n",
              "      <td>47308</td>\n",
              "      <td>elev gluco pregnanc non diabet women increa bi...</td>\n",
              "      <td>Watch the Democrats try to steal elections, an...</td>\n",
              "    </tr>\n",
              "    <tr>\n",
              "      <th>34934</th>\n",
              "      <td>47309</td>\n",
              "      <td>harrow predict hope listen today s hfm audio c...</td>\n",
              "      <td>Pork gelatin is added to vaccines as a stabili...</td>\n",
              "    </tr>\n",
              "  </tbody>\n",
              "</table>\n",
              "<p>34935 rows × 3 columns</p>\n",
              "</div>"
            ],
            "text/plain": [
              "       index  ...                                        Raw_Message\n",
              "0          0  ...  THIS IS WHAT'S REALLY GONNA KILL EVERYBODY!!!!...\n",
              "1          1  ...  DMT is the spiritual science which allows us t...\n",
              "2          2  ...                                Thoughts? Opinions?\n",
              "3          3  ...  #Auspol Unbelievable how are they getting away...\n",
              "4          4  ...  When a woman asked Buttigieg how he would hand...\n",
              "...      ...  ...                                                ...\n",
              "34930  47304  ...  Why Is This Legal? Presentation on Vaccines by...\n",
              "34931  47305  ...  Just think about it... The Truth About Vaccine...\n",
              "34932  47306  ...  \"The study says 7.7, for those of you counting...\n",
              "34933  47308  ...  Watch the Democrats try to steal elections, an...\n",
              "34934  47309  ...  Pork gelatin is added to vaccines as a stabili...\n",
              "\n",
              "[34935 rows x 3 columns]"
            ]
          },
          "metadata": {},
          "execution_count": 164
        }
      ]
    },
    {
      "cell_type": "code",
      "metadata": {
        "id": "KOfaypiApRGT"
      },
      "source": [
        "join.drop(columns = 'index',inplace=True)"
      ],
      "execution_count": 165,
      "outputs": []
    },
    {
      "cell_type": "code",
      "metadata": {
        "colab": {
          "base_uri": "https://localhost:8080/",
          "height": 0
        },
        "id": "TMj41tkKpRGT",
        "outputId": "9f508ae3-68b3-4746-a30e-e60d526e5fd4"
      },
      "source": [
        "join"
      ],
      "execution_count": 166,
      "outputs": [
        {
          "output_type": "execute_result",
          "data": {
            "text/html": [
              "<div>\n",
              "<style scoped>\n",
              "    .dataframe tbody tr th:only-of-type {\n",
              "        vertical-align: middle;\n",
              "    }\n",
              "\n",
              "    .dataframe tbody tr th {\n",
              "        vertical-align: top;\n",
              "    }\n",
              "\n",
              "    .dataframe thead th {\n",
              "        text-align: right;\n",
              "    }\n",
              "</style>\n",
              "<table border=\"1\" class=\"dataframe\">\n",
              "  <thead>\n",
              "    <tr style=\"text-align: right;\">\n",
              "      <th></th>\n",
              "      <th>Message</th>\n",
              "      <th>Raw_Message</th>\n",
              "    </tr>\n",
              "  </thead>\n",
              "  <tbody>\n",
              "    <tr>\n",
              "      <th>0</th>\n",
              "      <td>s realli gonna kill everybodi</td>\n",
              "      <td>THIS IS WHAT'S REALLY GONNA KILL EVERYBODY!!!!...</td>\n",
              "    </tr>\n",
              "    <tr>\n",
              "      <th>1</th>\n",
              "      <td>dmt spiritu allow traver gap matter consciou f...</td>\n",
              "      <td>DMT is the spiritual science which allows us t...</td>\n",
              "    </tr>\n",
              "    <tr>\n",
              "      <th>2</th>\n",
              "      <td>thought opinion</td>\n",
              "      <td>Thoughts? Opinions?</td>\n",
              "    </tr>\n",
              "    <tr>\n",
              "      <th>3</th>\n",
              "      <td>auspol unbeliev away garbag worker act sane pe...</td>\n",
              "      <td>#Auspol Unbelievable how are they getting away...</td>\n",
              "    </tr>\n",
              "    <tr>\n",
              "      <th>4</th>\n",
              "      <td>woman ask buttigieg handl debat thing like fai...</td>\n",
              "      <td>When a woman asked Buttigieg how he would hand...</td>\n",
              "    </tr>\n",
              "    <tr>\n",
              "      <th>...</th>\n",
              "      <td>...</td>\n",
              "      <td>...</td>\n",
              "    </tr>\n",
              "    <tr>\n",
              "      <th>34930</th>\n",
              "      <td>worst sanofi s dengu launch turn nightmar note...</td>\n",
              "      <td>Why Is This Legal? Presentation on Vaccines by...</td>\n",
              "    </tr>\n",
              "    <tr>\n",
              "      <th>34931</th>\n",
              "      <td>guarant big numerolog perspect number vibrat i...</td>\n",
              "      <td>Just think about it... The Truth About Vaccine...</td>\n",
              "    </tr>\n",
              "    <tr>\n",
              "      <th>34932</th>\n",
              "      <td>review cour nation s histori face inflect poin...</td>\n",
              "      <td>\"The study says 7.7, for those of you counting...</td>\n",
              "    </tr>\n",
              "    <tr>\n",
              "      <th>34933</th>\n",
              "      <td>elev gluco pregnanc non diabet women increa bi...</td>\n",
              "      <td>Watch the Democrats try to steal elections, an...</td>\n",
              "    </tr>\n",
              "    <tr>\n",
              "      <th>34934</th>\n",
              "      <td>harrow predict hope listen today s hfm audio c...</td>\n",
              "      <td>Pork gelatin is added to vaccines as a stabili...</td>\n",
              "    </tr>\n",
              "  </tbody>\n",
              "</table>\n",
              "<p>34935 rows × 2 columns</p>\n",
              "</div>"
            ],
            "text/plain": [
              "                                                 Message                                        Raw_Message\n",
              "0                          s realli gonna kill everybodi  THIS IS WHAT'S REALLY GONNA KILL EVERYBODY!!!!...\n",
              "1      dmt spiritu allow traver gap matter consciou f...  DMT is the spiritual science which allows us t...\n",
              "2                                        thought opinion                                Thoughts? Opinions?\n",
              "3      auspol unbeliev away garbag worker act sane pe...  #Auspol Unbelievable how are they getting away...\n",
              "4      woman ask buttigieg handl debat thing like fai...  When a woman asked Buttigieg how he would hand...\n",
              "...                                                  ...                                                ...\n",
              "34930  worst sanofi s dengu launch turn nightmar note...  Why Is This Legal? Presentation on Vaccines by...\n",
              "34931  guarant big numerolog perspect number vibrat i...  Just think about it... The Truth About Vaccine...\n",
              "34932  review cour nation s histori face inflect poin...  \"The study says 7.7, for those of you counting...\n",
              "34933  elev gluco pregnanc non diabet women increa bi...  Watch the Democrats try to steal elections, an...\n",
              "34934  harrow predict hope listen today s hfm audio c...  Pork gelatin is added to vaccines as a stabili...\n",
              "\n",
              "[34935 rows x 2 columns]"
            ]
          },
          "metadata": {},
          "execution_count": 166
        }
      ]
    },
    {
      "cell_type": "markdown",
      "metadata": {
        "id": "OczRwUJypRGT"
      },
      "source": [
        "### ZeroShotTM"
      ]
    },
    {
      "cell_type": "code",
      "metadata": {
        "colab": {
          "base_uri": "https://localhost:8080/",
          "height": 0,
          "referenced_widgets": [
            "5e5bc5e91b704b3697c775fd9f001485",
            "40f9896c710b4f3c914f39fdb19f8329",
            "90a96898c11f42f6917dbfdb280af2a0",
            "1b6259b087024fbcb4a267a6bab777a4",
            "888a5392d5c747929a5ca45c052a9bca",
            "27921e32d12243cebea681a421b6c879",
            "b380e0fc0280495c994691a9aebf6d77",
            "a3268ca727bf4540b1fef9f3bfe042c8",
            "bf55e5ed39fb4294afda698a0e88732a",
            "5b49495377b34f46a4fcd31ce8e8e118",
            "1ab2348cb5ee4073a11338f20459fb16"
          ]
        },
        "id": "qJbyA_QGpRGT",
        "outputId": "da685f81-b304-4270-af92-5ae5f277ae85"
      },
      "source": [
        "tp = TopicModelDataPreparation(\"paraphrase-distilroberta-base-v2\")\n",
        "\n",
        "training_dataset = tp.fit(text_for_contextual=join['Raw_Message'], text_for_bow=join['Message'])"
      ],
      "execution_count": 108,
      "outputs": [
        {
          "output_type": "display_data",
          "data": {
            "application/vnd.jupyter.widget-view+json": {
              "model_id": "5e5bc5e91b704b3697c775fd9f001485",
              "version_minor": 0,
              "version_major": 2
            },
            "text/plain": [
              "Batches:   0%|          | 0/175 [00:00<?, ?it/s]"
            ]
          },
          "metadata": {}
        },
        {
          "output_type": "stream",
          "name": "stderr",
          "text": [
            "/usr/local/lib/python3.7/dist-packages/sklearn/utils/deprecation.py:87: FutureWarning: Function get_feature_names is deprecated; get_feature_names is deprecated in 1.0 and will be removed in 1.2. Please use get_feature_names_out instead.\n",
            "  warnings.warn(msg, category=FutureWarning)\n"
          ]
        }
      ]
    },
    {
      "cell_type": "code",
      "metadata": {
        "colab": {
          "base_uri": "https://localhost:8080/"
        },
        "id": "wi6e3lISpRGT",
        "outputId": "5dbaf43e-06f7-4c93-a663-4d9d45455bcb"
      },
      "source": [
        "ctm = ZeroShotTM(bow_size=len(tp.vocab), contextual_size=768, n_components=50, num_epochs=15)\n",
        "ctm.fit(training_dataset) # run the model"
      ],
      "execution_count": 109,
      "outputs": [
        {
          "output_type": "stream",
          "name": "stderr",
          "text": [
            "Epoch: [15/15]\t Seen Samples: [524025/524025]\tTrain Loss: 529.0124969810005\tTime: 0:00:35.732306: : 15it [08:56, 35.74s/it]\n",
            "Sampling: [20/20]: : 20it [08:51, 26.56s/it]\n"
          ]
        }
      ]
    },
    {
      "cell_type": "code",
      "metadata": {
        "colab": {
          "base_uri": "https://localhost:8080/"
        },
        "id": "MQcx2zN3pRGU",
        "outputId": "88aa3ba6-3faf-4029-ae83-161158fa92a8"
      },
      "source": [
        "ctm.get_topics(5)"
      ],
      "execution_count": 110,
      "outputs": [
        {
          "output_type": "execute_result",
          "data": {
            "text/plain": [
              "defaultdict(list,\n",
              "            {0: ['okleg', 'unusu', 'saturday', 'ingest', 'ty'],\n",
              "             1: ['strip', 'sheath', 'myelin', 'encephalomyel', 'venezuela'],\n",
              "             2: ['child', 'doctor', 'know', 'just', 'famili'],\n",
              "             3: ['chemic', 'similar', 'experienc', 'older', 'respond'],\n",
              "             4: ['time', 'word', 'lord', 'come', 'just'],\n",
              "             5: ['wane', 'informedcon', 'gardasil', 'controversi', 'decrea'],\n",
              "             6: ['detent', 'pfizer', 'childrenshealthdefen', 'comput', 'fro'],\n",
              "             7: ['wednesday', 'wuhan', 'stake', 'bbc', 'judiciari'],\n",
              "             8: ['implic', 'quarantin', 'coercion', 'bulli', 'suppli'],\n",
              "             9: ['test', 'safeti', 'famili', 'risk', 'studi'],\n",
              "             10: ['link', 'injuri', 'adver', 'author', 'sourc'],\n",
              "             11: ['studi', 'protect', 'child', 'doctor', 'day'],\n",
              "             12: ['pnn', 'tragic', 'causal', 'multido', 'rebut'],\n",
              "             13: ['postpubert', 'dyscrasia', 'reconstitut', 'infr', 'tread'],\n",
              "             14: ['medium',\n",
              "              'childrenshealthdefen',\n",
              "              'vaccineinjuryisr',\n",
              "              'suspect',\n",
              "              'insist'],\n",
              "             15: ['googl',\n",
              "              'realdonaldtrump',\n",
              "              'tumor',\n",
              "              'im',\n",
              "              'texansforvaccinecho'],\n",
              "             16: ['stuck', 'sharia', 'testosteron', 'bizarr', 'formaldehyd'],\n",
              "             17: ['beinform', 'mo', 'signatur', 'ohden', 'hampton'],\n",
              "             18: ['time', 'like', 'use', 'want', 'includ'],\n",
              "             19: ['swear', 'fluorid', 'smell', 'global', 'planet'],\n",
              "             20: ['public', 'good', 'use', 'law', 'right'],\n",
              "             21: ['nj', 'ah', 'vector', 'titer', 'kansa'],\n",
              "             22: ['health', 'time', 'know', 'make', 'god'],\n",
              "             23: ['learntherisk', 'founder', 'blog', 'campaign', 'fake'],\n",
              "             24: ['bigpharma', 'repost', 'russian', 'mao', 'repres'],\n",
              "             25: ['paralysi',\n",
              "              'depress',\n",
              "              'vaccineinjuri',\n",
              "              'childrenshealthdefen',\n",
              "              'rfk'],\n",
              "             26: ['conform', 'princ', 'multipli', 'gastrointestin', 'malign'],\n",
              "             27: ['repeal', 'childrenshealthdefen', 'vax', 'percent', 'mene'],\n",
              "             28: ['daniel', 'authoritarian', 'sanger', 'angl', 'ohden'],\n",
              "             29: ['god', 'immun', 'children', 'know', 'time'],\n",
              "             30: ['like', 'time', 'children', 'day', 'god'],\n",
              "             31: ['sur', 'dpt', 'vaccinesharm', 'bell', 'hill'],\n",
              "             32: ['god', 'thing', 'word', 'like', 'time'],\n",
              "             33: ['public', 'state', 'health', 'human', 'children'],\n",
              "             34: ['god', 'life', 'christ', 'day', 'know'],\n",
              "             35: ['fbclid', 'iwar', 'utm', 'medium', 'amazon'],\n",
              "             36: ['health', 'state', 'like', 'public', 'child'],\n",
              "             37: ['lee', 'hr', 'fifth', 'rabbi', 'porat'],\n",
              "             38: ['mother', 'non', 'earli', 'content', 'big'],\n",
              "             39: ['god', 'time', 'come', 'word', 'like'],\n",
              "             40: ['reconstitut', 'coff', 'vaccineinjuryawar', 'nea', 'bart'],\n",
              "             41: ['childrenshealthdefen',\n",
              "              'liabil',\n",
              "              'polio',\n",
              "              'autoimmun',\n",
              "              'older'],\n",
              "             42: ['childrenshealth',\n",
              "              'va',\n",
              "              'signatur',\n",
              "              'informedcon',\n",
              "              'healthcar'],\n",
              "             43: ['unlaw', 'clau', 'offit', 'gulf', 'radiat'],\n",
              "             44: ['christma', 'ongo', 'corp', 'fervent', 'notwithstand'],\n",
              "             45: ['account', 'danger', 'dr', 'relat', 'compani'],\n",
              "             46: ['pink', 'pennsylvania', 'deborah', 'bayer', 'aspir'],\n",
              "             47: ['devast', 'humanright', 'troll', 'ohden', 'nadin'],\n",
              "             48: ['newslett', 'hfm', 'manipul', 'patriot', 'audio'],\n",
              "             49: ['christ', 'jesu', 'come', 'lord', 'share']})"
            ]
          },
          "metadata": {},
          "execution_count": 110
        }
      ]
    },
    {
      "cell_type": "code",
      "metadata": {
        "colab": {
          "base_uri": "https://localhost:8080/"
        },
        "id": "QARIjSNupRGU",
        "outputId": "dd33a8ce-74d4-40d9-c67c-367862f4209b"
      },
      "source": [
        "ctm.get_doc_topic_distribution(training_dataset, n_samples=20)"
      ],
      "execution_count": 111,
      "outputs": [
        {
          "output_type": "stream",
          "name": "stderr",
          "text": [
            "Sampling: [20/20]: : 20it [08:49, 26.49s/it]\n"
          ]
        },
        {
          "output_type": "execute_result",
          "data": {
            "text/plain": [
              "array([[0.09721872, 0.07379208, 0.00117853, ..., 0.05165732, 0.00135792,\n",
              "        0.00160175],\n",
              "       [0.01248616, 0.00762436, 0.00498297, ..., 0.01412889, 0.00489426,\n",
              "        0.00250257],\n",
              "       [0.02407513, 0.04401648, 0.00351935, ..., 0.0560751 , 0.01517342,\n",
              "        0.0056163 ],\n",
              "       ...,\n",
              "       [0.03878159, 0.0321567 , 0.01038148, ..., 0.04098053, 0.00862283,\n",
              "        0.00618833],\n",
              "       [0.0165073 , 0.0167284 , 0.01665848, ..., 0.01846164, 0.01978228,\n",
              "        0.01539457],\n",
              "       [0.03035986, 0.02263598, 0.01056955, ..., 0.01256345, 0.05194228,\n",
              "        0.00757079]])"
            ]
          },
          "metadata": {},
          "execution_count": 111
        }
      ]
    },
    {
      "cell_type": "code",
      "metadata": {
        "colab": {
          "base_uri": "https://localhost:8080/"
        },
        "id": "u1-GaDuvpRGU",
        "outputId": "389275dd-e3cf-4069-d561-4910416da302"
      },
      "source": [
        "ctm = ZeroShotTM(bow_size=len(tp.vocab), contextual_size=768, n_components=20, num_epochs=15)\n",
        "ctm.fit(training_dataset) # run the model"
      ],
      "execution_count": 112,
      "outputs": [
        {
          "output_type": "stream",
          "name": "stderr",
          "text": [
            "Epoch: [15/15]\t Seen Samples: [524025/524025]\tTrain Loss: 519.6319352010877\tTime: 0:00:35.280381: : 15it [08:47, 35.19s/it]\n",
            "Sampling: [20/20]: : 20it [08:44, 26.25s/it]\n"
          ]
        }
      ]
    },
    {
      "cell_type": "code",
      "metadata": {
        "colab": {
          "base_uri": "https://localhost:8080/"
        },
        "id": "SvtaKMq1pRGU",
        "outputId": "5c9bb32d-51a1-4566-f63f-85bfda4b53b9"
      },
      "source": [
        "ctm.get_topics(5)"
      ],
      "execution_count": 113,
      "outputs": [
        {
          "output_type": "execute_result",
          "data": {
            "text/plain": [
              "defaultdict(list,\n",
              "            {0: ['data', 'iwar', 'fbclid', 'tax', 'au'],\n",
              "             1: ['state', 'don', 'day', 'like', 'god'],\n",
              "             2: ['dysfunct', 'oxygen', 'effici', 'pelosi', 'ma'],\n",
              "             3: ['childrenshealthdefen',\n",
              "              'cdcwhistleblow',\n",
              "              'va',\n",
              "              'childrenshealth',\n",
              "              'informedcon'],\n",
              "             4: ['cid',\n",
              "              'vaccineswork',\n",
              "              'vaccinesharm',\n",
              "              'tasherasimmon',\n",
              "              'stopmandatoryvaccin'],\n",
              "             5: ['utm', 'file', 'won', 'capitol', 'award'],\n",
              "             6: ['god', 'faith', 'know', 'love', 'christ'],\n",
              "             7: ['polio',\n",
              "              'favorit',\n",
              "              'informedchoicewa',\n",
              "              'heartbreak',\n",
              "              'vaccineimpact'],\n",
              "             8: ['elev', 'exley', 'calvari', 'magnet', 'gap'],\n",
              "             9: ['restrain', 'idaho', 'nvicadvocaci', 'snatch', 'troop'],\n",
              "             10: ['van', 'remot', 'baker', 'changchun', 'beij'],\n",
              "             11: ['place', 'time', 'health', 'immun', 'christ'],\n",
              "             12: ['childrenshealthdefen',\n",
              "              'cdcwhistleblow',\n",
              "              'papillomaviru',\n",
              "              'bewar',\n",
              "              'spade'],\n",
              "             13: ['gov', 'live', 'lord', 'make', 'god'],\n",
              "             14: ['rfk', 'erstwhil', 'cheney', 'discolor', 'mod'],\n",
              "             15: ['cervic', 'magazin', 'assassin', 'desk', 'currenc'],\n",
              "             16: ['nomin', 'margaret', 'cash', 'bennett', 'seduc'],\n",
              "             17: ['support', 'issu', 'relea', 'pharmaceut', 'drug'],\n",
              "             18: ['know', 'children', 'day', 'lord', 'gov'],\n",
              "             19: ['immun', 'includ', 'inform', 'product', 'presid']})"
            ]
          },
          "metadata": {},
          "execution_count": 113
        }
      ]
    },
    {
      "cell_type": "code",
      "metadata": {
        "id": "20GOTaQ5pRGU"
      },
      "source": [
        "topics = pd.DataFrame.from_dict(ctm.get_topics(5)).transpose()\n",
        "topics.columns = [\"0\", \"1\", \"2\" ,\"3\",\"4\"]"
      ],
      "execution_count": 114,
      "outputs": []
    },
    {
      "cell_type": "code",
      "metadata": {
        "colab": {
          "base_uri": "https://localhost:8080/",
          "height": 0
        },
        "id": "W__U274PpRGU",
        "outputId": "496dbe29-ce9c-4408-dc68-9cf15a27e51c"
      },
      "source": [
        "topics['topic_words'] = topics[\"0\"]+ \" \" + topics[\"1\"]+ \" \" + topics[\"2\"]+ \" \" + topics[\"3\"]+ \" \" + topics[\"4\"]\n",
        "topics = topics[['topic_words']]\n",
        "topics"
      ],
      "execution_count": 115,
      "outputs": [
        {
          "output_type": "execute_result",
          "data": {
            "text/html": [
              "<div>\n",
              "<style scoped>\n",
              "    .dataframe tbody tr th:only-of-type {\n",
              "        vertical-align: middle;\n",
              "    }\n",
              "\n",
              "    .dataframe tbody tr th {\n",
              "        vertical-align: top;\n",
              "    }\n",
              "\n",
              "    .dataframe thead th {\n",
              "        text-align: right;\n",
              "    }\n",
              "</style>\n",
              "<table border=\"1\" class=\"dataframe\">\n",
              "  <thead>\n",
              "    <tr style=\"text-align: right;\">\n",
              "      <th></th>\n",
              "      <th>topic_words</th>\n",
              "    </tr>\n",
              "  </thead>\n",
              "  <tbody>\n",
              "    <tr>\n",
              "      <th>0</th>\n",
              "      <td>data iwar fbclid tax au</td>\n",
              "    </tr>\n",
              "    <tr>\n",
              "      <th>1</th>\n",
              "      <td>state don day like god</td>\n",
              "    </tr>\n",
              "    <tr>\n",
              "      <th>2</th>\n",
              "      <td>dysfunct oxygen effici pelosi ma</td>\n",
              "    </tr>\n",
              "    <tr>\n",
              "      <th>3</th>\n",
              "      <td>childrenshealthdefen cdcwhistleblow va childre...</td>\n",
              "    </tr>\n",
              "    <tr>\n",
              "      <th>4</th>\n",
              "      <td>cid vaccineswork vaccinesharm tasherasimmon st...</td>\n",
              "    </tr>\n",
              "    <tr>\n",
              "      <th>5</th>\n",
              "      <td>utm file won capitol award</td>\n",
              "    </tr>\n",
              "    <tr>\n",
              "      <th>6</th>\n",
              "      <td>god faith know love christ</td>\n",
              "    </tr>\n",
              "    <tr>\n",
              "      <th>7</th>\n",
              "      <td>polio favorit informedchoicewa heartbreak vacc...</td>\n",
              "    </tr>\n",
              "    <tr>\n",
              "      <th>8</th>\n",
              "      <td>elev exley calvari magnet gap</td>\n",
              "    </tr>\n",
              "    <tr>\n",
              "      <th>9</th>\n",
              "      <td>restrain idaho nvicadvocaci snatch troop</td>\n",
              "    </tr>\n",
              "    <tr>\n",
              "      <th>10</th>\n",
              "      <td>van remot baker changchun beij</td>\n",
              "    </tr>\n",
              "    <tr>\n",
              "      <th>11</th>\n",
              "      <td>place time health immun christ</td>\n",
              "    </tr>\n",
              "    <tr>\n",
              "      <th>12</th>\n",
              "      <td>childrenshealthdefen cdcwhistleblow papillomav...</td>\n",
              "    </tr>\n",
              "    <tr>\n",
              "      <th>13</th>\n",
              "      <td>gov live lord make god</td>\n",
              "    </tr>\n",
              "    <tr>\n",
              "      <th>14</th>\n",
              "      <td>rfk erstwhil cheney discolor mod</td>\n",
              "    </tr>\n",
              "    <tr>\n",
              "      <th>15</th>\n",
              "      <td>cervic magazin assassin desk currenc</td>\n",
              "    </tr>\n",
              "    <tr>\n",
              "      <th>16</th>\n",
              "      <td>nomin margaret cash bennett seduc</td>\n",
              "    </tr>\n",
              "    <tr>\n",
              "      <th>17</th>\n",
              "      <td>support issu relea pharmaceut drug</td>\n",
              "    </tr>\n",
              "    <tr>\n",
              "      <th>18</th>\n",
              "      <td>know children day lord gov</td>\n",
              "    </tr>\n",
              "    <tr>\n",
              "      <th>19</th>\n",
              "      <td>immun includ inform product presid</td>\n",
              "    </tr>\n",
              "  </tbody>\n",
              "</table>\n",
              "</div>"
            ],
            "text/plain": [
              "                                          topic_words\n",
              "0                             data iwar fbclid tax au\n",
              "1                              state don day like god\n",
              "2                    dysfunct oxygen effici pelosi ma\n",
              "3   childrenshealthdefen cdcwhistleblow va childre...\n",
              "4   cid vaccineswork vaccinesharm tasherasimmon st...\n",
              "5                          utm file won capitol award\n",
              "6                          god faith know love christ\n",
              "7   polio favorit informedchoicewa heartbreak vacc...\n",
              "8                       elev exley calvari magnet gap\n",
              "9            restrain idaho nvicadvocaci snatch troop\n",
              "10                     van remot baker changchun beij\n",
              "11                     place time health immun christ\n",
              "12  childrenshealthdefen cdcwhistleblow papillomav...\n",
              "13                             gov live lord make god\n",
              "14                   rfk erstwhil cheney discolor mod\n",
              "15               cervic magazin assassin desk currenc\n",
              "16                  nomin margaret cash bennett seduc\n",
              "17                 support issu relea pharmaceut drug\n",
              "18                         know children day lord gov\n",
              "19                 immun includ inform product presid"
            ]
          },
          "metadata": {},
          "execution_count": 115
        }
      ]
    },
    {
      "cell_type": "markdown",
      "metadata": {
        "id": "t8rO0-XypRGU"
      },
      "source": [
        "### Combined Topic Model"
      ]
    },
    {
      "cell_type": "code",
      "metadata": {
        "colab": {
          "base_uri": "https://localhost:8080/"
        },
        "id": "mwDIqVpTpRGU",
        "outputId": "3e66ca46-7da3-4ae6-afdd-689e50c627d4"
      },
      "source": [
        "ctm = CombinedTM(bow_size=len(tp.vocab), contextual_size=768, n_components=20, num_epochs=15)\n",
        "ctm.fit(training_dataset) # run the model"
      ],
      "execution_count": 116,
      "outputs": [
        {
          "output_type": "stream",
          "name": "stderr",
          "text": [
            "Epoch: [15/15]\t Seen Samples: [524025/524025]\tTrain Loss: 493.8479978442107\tTime: 0:00:59.163901: : 15it [14:49, 59.28s/it]\n",
            "Sampling: [20/20]: : 20it [09:11, 27.59s/it]\n"
          ]
        }
      ]
    },
    {
      "cell_type": "code",
      "metadata": {
        "colab": {
          "base_uri": "https://localhost:8080/"
        },
        "id": "-qpZLC3TpRGU",
        "outputId": "57aaca86-68b1-443b-eb12-f33828ee3ca5"
      },
      "source": [
        "ctm.get_topics(5)"
      ],
      "execution_count": 117,
      "outputs": [
        {
          "output_type": "execute_result",
          "data": {
            "text/plain": [
              "defaultdict(list,\n",
              "            {0: ['cchfreedom',\n",
              "              'hfm',\n",
              "              'homepag',\n",
              "              'tfvc',\n",
              "              'childrenshealthdefen'],\n",
              "             1: ['case', 'measl', 'know', 'children', 'good'],\n",
              "             2: ['sanctiti', 'notabl', 'prospect', 'sentiment', 'taxat'],\n",
              "             3: ['learntherisk', 'iwar', 'fbclid', 'hfm', 'homepag'],\n",
              "             4: ['parent', 'don', 'follow', 'inform', 'religi'],\n",
              "             5: ['steel', 'costli', 'ocr', 'portray', 'oha'],\n",
              "             6: ['childrenshealthdefen',\n",
              "              'cdcwhistleblow',\n",
              "              'tfvc',\n",
              "              'ly',\n",
              "              'parentscalltheshot'],\n",
              "             7: ['want', 'report', 'health', 'time', 'god'],\n",
              "             8: ['come', 'gov', 'public', 'like', 'power'],\n",
              "             9: ['genero', 'exacerb', 'tonight', 'pbe', 'hive'],\n",
              "             10: ['gui', 'racial', 'usp', 'bomb', 'band'],\n",
              "             11: ['health', 'use', 'state', 'children', 'famili'],\n",
              "             12: ['state', 'don', 'know', 'come', 'want'],\n",
              "             13: ['dumb', 'modifi', 'alc', 'bass', 'butterfield'],\n",
              "             14: ['tn', 'restrain', 'mum', 'norm', 'outlaw'],\n",
              "             15: ['prolif', 'literaci', 'referendum', 'hast', 'energycommerc'],\n",
              "             16: ['alc', 'bass', 'butterfield', 'tuberculosi', 'formul'],\n",
              "             17: ['sciencedirect', 'tampon', 'alc', 'bass', 'butterfield'],\n",
              "             18: ['meantim', 'omit', 'mum', 'tori', 'seri'],\n",
              "             19: ['crippl', 'factual', 'consolid', 'poster', 'entrust']})"
            ]
          },
          "metadata": {},
          "execution_count": 117
        }
      ]
    },
    {
      "cell_type": "code",
      "metadata": {
        "id": "3mmrPEBMpRGU"
      },
      "source": [
        "topics = pd.DataFrame.from_dict(ctm.get_topics(5)).transpose()\n",
        "topics.columns = [\"0\", \"1\", \"2\" ,\"3\",\"4\"]"
      ],
      "execution_count": 118,
      "outputs": []
    },
    {
      "cell_type": "code",
      "metadata": {
        "colab": {
          "base_uri": "https://localhost:8080/",
          "height": 677
        },
        "id": "wlVYk0MDpRGU",
        "outputId": "b5349501-b15e-4f47-8aa0-3d0065ad5043"
      },
      "source": [
        "topics['topic_words'] = topics[\"0\"]+ \" \" + topics[\"1\"]+ \" \" + topics[\"2\"]+ \" \" + topics[\"3\"]+ \" \" + topics[\"4\"]\n",
        "topics = topics[['topic_words']]\n",
        "topics"
      ],
      "execution_count": 119,
      "outputs": [
        {
          "output_type": "execute_result",
          "data": {
            "text/html": [
              "<div>\n",
              "<style scoped>\n",
              "    .dataframe tbody tr th:only-of-type {\n",
              "        vertical-align: middle;\n",
              "    }\n",
              "\n",
              "    .dataframe tbody tr th {\n",
              "        vertical-align: top;\n",
              "    }\n",
              "\n",
              "    .dataframe thead th {\n",
              "        text-align: right;\n",
              "    }\n",
              "</style>\n",
              "<table border=\"1\" class=\"dataframe\">\n",
              "  <thead>\n",
              "    <tr style=\"text-align: right;\">\n",
              "      <th></th>\n",
              "      <th>topic_words</th>\n",
              "    </tr>\n",
              "  </thead>\n",
              "  <tbody>\n",
              "    <tr>\n",
              "      <th>0</th>\n",
              "      <td>cchfreedom hfm homepag tfvc childrenshealthdefen</td>\n",
              "    </tr>\n",
              "    <tr>\n",
              "      <th>1</th>\n",
              "      <td>case measl know children good</td>\n",
              "    </tr>\n",
              "    <tr>\n",
              "      <th>2</th>\n",
              "      <td>sanctiti notabl prospect sentiment taxat</td>\n",
              "    </tr>\n",
              "    <tr>\n",
              "      <th>3</th>\n",
              "      <td>learntherisk iwar fbclid hfm homepag</td>\n",
              "    </tr>\n",
              "    <tr>\n",
              "      <th>4</th>\n",
              "      <td>parent don follow inform religi</td>\n",
              "    </tr>\n",
              "    <tr>\n",
              "      <th>5</th>\n",
              "      <td>steel costli ocr portray oha</td>\n",
              "    </tr>\n",
              "    <tr>\n",
              "      <th>6</th>\n",
              "      <td>childrenshealthdefen cdcwhistleblow tfvc ly pa...</td>\n",
              "    </tr>\n",
              "    <tr>\n",
              "      <th>7</th>\n",
              "      <td>want report health time god</td>\n",
              "    </tr>\n",
              "    <tr>\n",
              "      <th>8</th>\n",
              "      <td>come gov public like power</td>\n",
              "    </tr>\n",
              "    <tr>\n",
              "      <th>9</th>\n",
              "      <td>genero exacerb tonight pbe hive</td>\n",
              "    </tr>\n",
              "    <tr>\n",
              "      <th>10</th>\n",
              "      <td>gui racial usp bomb band</td>\n",
              "    </tr>\n",
              "    <tr>\n",
              "      <th>11</th>\n",
              "      <td>health use state children famili</td>\n",
              "    </tr>\n",
              "    <tr>\n",
              "      <th>12</th>\n",
              "      <td>state don know come want</td>\n",
              "    </tr>\n",
              "    <tr>\n",
              "      <th>13</th>\n",
              "      <td>dumb modifi alc bass butterfield</td>\n",
              "    </tr>\n",
              "    <tr>\n",
              "      <th>14</th>\n",
              "      <td>tn restrain mum norm outlaw</td>\n",
              "    </tr>\n",
              "    <tr>\n",
              "      <th>15</th>\n",
              "      <td>prolif literaci referendum hast energycommerc</td>\n",
              "    </tr>\n",
              "    <tr>\n",
              "      <th>16</th>\n",
              "      <td>alc bass butterfield tuberculosi formul</td>\n",
              "    </tr>\n",
              "    <tr>\n",
              "      <th>17</th>\n",
              "      <td>sciencedirect tampon alc bass butterfield</td>\n",
              "    </tr>\n",
              "    <tr>\n",
              "      <th>18</th>\n",
              "      <td>meantim omit mum tori seri</td>\n",
              "    </tr>\n",
              "    <tr>\n",
              "      <th>19</th>\n",
              "      <td>crippl factual consolid poster entrust</td>\n",
              "    </tr>\n",
              "  </tbody>\n",
              "</table>\n",
              "</div>"
            ],
            "text/plain": [
              "                                          topic_words\n",
              "0    cchfreedom hfm homepag tfvc childrenshealthdefen\n",
              "1                       case measl know children good\n",
              "2            sanctiti notabl prospect sentiment taxat\n",
              "3                learntherisk iwar fbclid hfm homepag\n",
              "4                     parent don follow inform religi\n",
              "5                        steel costli ocr portray oha\n",
              "6   childrenshealthdefen cdcwhistleblow tfvc ly pa...\n",
              "7                         want report health time god\n",
              "8                          come gov public like power\n",
              "9                     genero exacerb tonight pbe hive\n",
              "10                           gui racial usp bomb band\n",
              "11                   health use state children famili\n",
              "12                           state don know come want\n",
              "13                   dumb modifi alc bass butterfield\n",
              "14                        tn restrain mum norm outlaw\n",
              "15      prolif literaci referendum hast energycommerc\n",
              "16            alc bass butterfield tuberculosi formul\n",
              "17          sciencedirect tampon alc bass butterfield\n",
              "18                         meantim omit mum tori seri\n",
              "19             crippl factual consolid poster entrust"
            ]
          },
          "metadata": {},
          "execution_count": 119
        }
      ]
    },
    {
      "cell_type": "code",
      "metadata": {
        "colab": {
          "base_uri": "https://localhost:8080/"
        },
        "id": "LDIALjA7pRGV",
        "outputId": "53e8cae7-7fa0-44c4-a5d1-13f600137a65"
      },
      "source": [
        "ctm.get_topics(5)"
      ],
      "execution_count": 120,
      "outputs": [
        {
          "output_type": "execute_result",
          "data": {
            "text/plain": [
              "defaultdict(list,\n",
              "            {0: ['cchfreedom',\n",
              "              'hfm',\n",
              "              'homepag',\n",
              "              'tfvc',\n",
              "              'childrenshealthdefen'],\n",
              "             1: ['case', 'measl', 'know', 'children', 'good'],\n",
              "             2: ['sanctiti', 'notabl', 'prospect', 'sentiment', 'taxat'],\n",
              "             3: ['learntherisk', 'iwar', 'fbclid', 'hfm', 'homepag'],\n",
              "             4: ['parent', 'don', 'follow', 'inform', 'religi'],\n",
              "             5: ['steel', 'costli', 'ocr', 'portray', 'oha'],\n",
              "             6: ['childrenshealthdefen',\n",
              "              'cdcwhistleblow',\n",
              "              'tfvc',\n",
              "              'ly',\n",
              "              'parentscalltheshot'],\n",
              "             7: ['want', 'report', 'health', 'time', 'god'],\n",
              "             8: ['come', 'gov', 'public', 'like', 'power'],\n",
              "             9: ['genero', 'exacerb', 'tonight', 'pbe', 'hive'],\n",
              "             10: ['gui', 'racial', 'usp', 'bomb', 'band'],\n",
              "             11: ['health', 'use', 'state', 'children', 'famili'],\n",
              "             12: ['state', 'don', 'know', 'come', 'want'],\n",
              "             13: ['dumb', 'modifi', 'alc', 'bass', 'butterfield'],\n",
              "             14: ['tn', 'restrain', 'mum', 'norm', 'outlaw'],\n",
              "             15: ['prolif', 'literaci', 'referendum', 'hast', 'energycommerc'],\n",
              "             16: ['alc', 'bass', 'butterfield', 'tuberculosi', 'formul'],\n",
              "             17: ['sciencedirect', 'tampon', 'alc', 'bass', 'butterfield'],\n",
              "             18: ['meantim', 'omit', 'mum', 'tori', 'seri'],\n",
              "             19: ['crippl', 'factual', 'consolid', 'poster', 'entrust']})"
            ]
          },
          "metadata": {},
          "execution_count": 120
        }
      ]
    },
    {
      "cell_type": "code",
      "metadata": {
        "colab": {
          "base_uri": "https://localhost:8080/"
        },
        "id": "AKHjL81xAxoS",
        "outputId": "36ad5656-2a08-4e5a-d7ed-b6e6568fe671"
      },
      "source": [
        "ctm = CombinedTM(bow_size=len(tp.vocab), contextual_size=768, n_components=10, num_epochs=15)\n",
        "ctm.fit(training_dataset) # run the model"
      ],
      "execution_count": 167,
      "outputs": [
        {
          "output_type": "stream",
          "name": "stderr",
          "text": [
            "Epoch: [15/15]\t Seen Samples: [80565/80565]\tTrain Loss: 306.21717815438234\tTime: 0:00:04.050897: : 15it [01:01,  4.07s/it]\n",
            "Sampling: [20/20]: : 20it [00:58,  2.91s/it]\n"
          ]
        }
      ]
    },
    {
      "cell_type": "code",
      "metadata": {
        "id": "YuE9ErcCpRGV"
      },
      "source": [
        "topics = pd.DataFrame.from_dict(ctm.get_topics(5)).transpose()\n",
        "topics.columns = [\"0\", \"1\", \"2\" ,\"3\",\"4\"]"
      ],
      "execution_count": 168,
      "outputs": []
    },
    {
      "cell_type": "code",
      "metadata": {
        "colab": {
          "base_uri": "https://localhost:8080/",
          "height": 363
        },
        "id": "bJYVd52EpRGV",
        "outputId": "bea72566-bdb4-4639-ac89-9ad675bde9bb"
      },
      "source": [
        "topics['topic_words'] = topics[\"0\"]+ \" \" + topics[\"1\"]+ \" \" + topics[\"2\"]+ \" \" + topics[\"3\"]+ \" \" + topics[\"4\"]\n",
        "topics = topics[['topic_words']]\n",
        "topics"
      ],
      "execution_count": 169,
      "outputs": [
        {
          "output_type": "execute_result",
          "data": {
            "text/html": [
              "<div>\n",
              "<style scoped>\n",
              "    .dataframe tbody tr th:only-of-type {\n",
              "        vertical-align: middle;\n",
              "    }\n",
              "\n",
              "    .dataframe tbody tr th {\n",
              "        vertical-align: top;\n",
              "    }\n",
              "\n",
              "    .dataframe thead th {\n",
              "        text-align: right;\n",
              "    }\n",
              "</style>\n",
              "<table border=\"1\" class=\"dataframe\">\n",
              "  <thead>\n",
              "    <tr style=\"text-align: right;\">\n",
              "      <th></th>\n",
              "      <th>topic_words</th>\n",
              "    </tr>\n",
              "  </thead>\n",
              "  <tbody>\n",
              "    <tr>\n",
              "      <th>0</th>\n",
              "      <td>state health medic use infect</td>\n",
              "    </tr>\n",
              "    <tr>\n",
              "      <th>1</th>\n",
              "      <td>und von mero dico zu</td>\n",
              "    </tr>\n",
              "    <tr>\n",
              "      <th>2</th>\n",
              "      <td>stori facebook id fbid php</td>\n",
              "    </tr>\n",
              "    <tr>\n",
              "      <th>3</th>\n",
              "      <td>legislatur moderna serv est injur</td>\n",
              "    </tr>\n",
              "    <tr>\n",
              "      <th>4</th>\n",
              "      <td>subpoena western patmo prayer vrijheid</td>\n",
              "    </tr>\n",
              "    <tr>\n",
              "      <th>5</th>\n",
              "      <td>know stop just come like</td>\n",
              "    </tr>\n",
              "    <tr>\n",
              "      <th>6</th>\n",
              "      <td>patmo vrijheid cope manchest hcnradio</td>\n",
              "    </tr>\n",
              "    <tr>\n",
              "      <th>7</th>\n",
              "      <td>protest thursday tribun ich estat</td>\n",
              "    </tr>\n",
              "    <tr>\n",
              "      <th>8</th>\n",
              "      <td>podcast hogi si propheci mondta</td>\n",
              "    </tr>\n",
              "    <tr>\n",
              "      <th>9</th>\n",
              "      <td>worker children school new test</td>\n",
              "    </tr>\n",
              "  </tbody>\n",
              "</table>\n",
              "</div>"
            ],
            "text/plain": [
              "                              topic_words\n",
              "0           state health medic use infect\n",
              "1                    und von mero dico zu\n",
              "2              stori facebook id fbid php\n",
              "3       legislatur moderna serv est injur\n",
              "4  subpoena western patmo prayer vrijheid\n",
              "5                know stop just come like\n",
              "6   patmo vrijheid cope manchest hcnradio\n",
              "7       protest thursday tribun ich estat\n",
              "8         podcast hogi si propheci mondta\n",
              "9         worker children school new test"
            ]
          },
          "metadata": {},
          "execution_count": 169
        }
      ]
    },
    {
      "cell_type": "markdown",
      "metadata": {
        "id": "AiX02iZGpkU4"
      },
      "source": [
        "## anti-vaxxer-After"
      ]
    },
    {
      "cell_type": "markdown",
      "metadata": {
        "id": "HweYpCbQpkU4"
      },
      "source": [
        "### read data"
      ]
    },
    {
      "cell_type": "code",
      "metadata": {
        "id": "6FLunC0CpkU5"
      },
      "source": [
        "data = pd.read_csv('/content/drive/MyDrive/Colab Notebooks/anti_after_cleaned.csv', delimiter=',')\n",
        "data_corpus = pd.DataFrame(pd.read_csv('/content/drive/MyDrive/Alt-right-2020-03-01--2021-09-19.csv', delimiter=',')['Message'])"
      ],
      "execution_count": 123,
      "outputs": []
    },
    {
      "cell_type": "code",
      "metadata": {
        "id": "5vLXOJnNpkU5"
      },
      "source": [
        "add_stop_words = ['said','say', 'says','news', 'year', 'vaccine', 'covid', 'people','COVID-19','COVID',\n",
        "                  'coronavirus', 'vaccination', 'vaccinated', 'Pfizer','Pfizer-BioNTech',\n",
        "                  'Moderna', 'Johnson', 'Johnson’s', 'Janssen','j&j', 'mRNA', 'vaccination',\n",
        "                  'freedom', 'truth','science', 'government', 'control', 'dictate','personal',\n",
        "                  'choice', 'hoax', 'flu','www','com', 'http', 'vaccin']\n",
        "stop_words = text.ENGLISH_STOP_WORDS.union(add_stop_words)\n",
        "spanish = nltk.corpus.stopwords.words('spanish')\n",
        "stop_words = stop_words.union(spanish)\n",
        "\n",
        "def clean_text(text):\n",
        "  stemmed_text = []\n",
        "  porter_stemmer = PorterStemmer()\n",
        "  text = re.sub('[^a-zA-Z]', ' ', text)\n",
        "  text = re.sub(r'http\\S+', '', text)\n",
        "  text = re.sub(r'www\\.[a-z]+\\.at', '', text)\n",
        "  text = re.sub(r'(@[A-Za-z]+[A-Za-z0-9-_]+)', '', text) #remove mentions\n",
        "  text = re.sub(r'bit.ly/\\S+', '', text)\n",
        "  text = re.sub(r'^((https?|ftp|smtp):\\/\\/)?(www.)?[a-z0-9]+\\.[a-z]+(\\/[a-zA-Z0-9#]+\\/?)*$', '', text)\n",
        "  text = re.sub(r'https?:\\/\\/(www\\.)?[-a-zA-Z0-9@:%._\\+~#=]{1,256}\\.[a-zA-Z0-9()]{1,6}\\b([-a-zA-Z0-9()@:%_\\+.~#?&//=]*)', '', text)\n",
        "  result = re.sub('[%s]' % re.escape(string.punctuation), '', text)\n",
        "  result = result.lower()\n",
        "  result = result.split()\n",
        "  result = [r for r in result if r not in stop_words]\n",
        "  stemmed_result = [porter_stemmer.stem(r) for r in result]\n",
        "  stemmed_text.append(\" \".join(stemmed_result))\n",
        "  return stemmed_text"
      ],
      "execution_count": 124,
      "outputs": []
    },
    {
      "cell_type": "code",
      "metadata": {
        "id": "z0AODgeWpkU5"
      },
      "source": [
        "def pre_process_without_combine(data):\n",
        "  data['Message'] = data['Message'].drop_duplicates()\n",
        "  data['Message'] = data['Message'].fillna('')\n",
        "  data['Message'] = data['Message'].astype('string')\n",
        "  data['Message'] = data['Message'].apply(clean_text)\n",
        "  data['Message'] = data['Message'].apply(np.squeeze)\n",
        "  data = data[data['Message']!=\"\"]\n",
        "  \n",
        "  return data\n",
        "\n",
        "clean = pre_process_without_combine(data)"
      ],
      "execution_count": 125,
      "outputs": []
    },
    {
      "cell_type": "code",
      "metadata": {
        "id": "JzpNmKy_pkU5"
      },
      "source": [
        "data = pd.read_csv('/content/drive/MyDrive/Colab Notebooks/anti_after_cleaned.csv', delimiter=',')\n",
        "data_corpus = pd.DataFrame(pd.read_csv('/content/drive/MyDrive/Alt-right-2020-03-01--2021-09-19.csv', delimiter=',')['Message'])"
      ],
      "execution_count": 126,
      "outputs": []
    },
    {
      "cell_type": "code",
      "metadata": {
        "id": "j2WoVqYNpkU5"
      },
      "source": [
        "def pre_process_without_combine(data):\n",
        "  data['Message'] = data['Message'].drop_duplicates()\n",
        "  data['Message'] = data['Message'].fillna('')\n",
        "  data['Message'] = data['Message'].astype('string')\n",
        "  data['Message'] = data['Message'].apply(np.squeeze)\n",
        "  data = data[data['Message']!=\"\"]\n",
        "  \n",
        "  return pd.DataFrame(data['Message'])"
      ],
      "execution_count": 127,
      "outputs": []
    },
    {
      "cell_type": "code",
      "metadata": {
        "id": "52U1hzw8pkU5"
      },
      "source": [
        "data_corpus = pre_process_without_combine(data_corpus)"
      ],
      "execution_count": 128,
      "outputs": []
    },
    {
      "cell_type": "code",
      "metadata": {
        "colab": {
          "base_uri": "https://localhost:8080/",
          "height": 424
        },
        "id": "ZRsUc-RJpkU6",
        "outputId": "36ae5672-b85a-4079-b7b5-9602d1ba762c"
      },
      "source": [
        "data_corpus"
      ],
      "execution_count": 129,
      "outputs": [
        {
          "output_type": "execute_result",
          "data": {
            "text/html": [
              "<div>\n",
              "<style scoped>\n",
              "    .dataframe tbody tr th:only-of-type {\n",
              "        vertical-align: middle;\n",
              "    }\n",
              "\n",
              "    .dataframe tbody tr th {\n",
              "        vertical-align: top;\n",
              "    }\n",
              "\n",
              "    .dataframe thead th {\n",
              "        text-align: right;\n",
              "    }\n",
              "</style>\n",
              "<table border=\"1\" class=\"dataframe\">\n",
              "  <thead>\n",
              "    <tr style=\"text-align: right;\">\n",
              "      <th></th>\n",
              "      <th>Message</th>\n",
              "    </tr>\n",
              "  </thead>\n",
              "  <tbody>\n",
              "    <tr>\n",
              "      <th>1</th>\n",
              "      <td>Classified testimony in opposition to the Bide...</td>\n",
              "    </tr>\n",
              "    <tr>\n",
              "      <th>2</th>\n",
              "      <td>UN GENERAL ASSEMBLY WILL MOSTLY BE VIRTUAL The...</td>\n",
              "    </tr>\n",
              "    <tr>\n",
              "      <th>3</th>\n",
              "      <td>GERMANY NO LONGER REGARDS ZAMBIA AS A COVID-19...</td>\n",
              "    </tr>\n",
              "    <tr>\n",
              "      <th>4</th>\n",
              "      <td>Why are they dividing people like this?</td>\n",
              "    </tr>\n",
              "    <tr>\n",
              "      <th>5</th>\n",
              "      <td>Mornin' Rebels... Like our Page to see more!</td>\n",
              "    </tr>\n",
              "    <tr>\n",
              "      <th>...</th>\n",
              "      <td>...</td>\n",
              "    </tr>\n",
              "    <tr>\n",
              "      <th>9321</th>\n",
              "      <td>Super Tuesday Is Tomorrow But In A Surprising ...</td>\n",
              "    </tr>\n",
              "    <tr>\n",
              "      <th>9322</th>\n",
              "      <td>Funny how the media treats this differently no...</td>\n",
              "    </tr>\n",
              "    <tr>\n",
              "      <th>9323</th>\n",
              "      <td>Just a reminder that it took 1,000 deaths befo...</td>\n",
              "    </tr>\n",
              "    <tr>\n",
              "      <th>9325</th>\n",
              "      <td>THE MEDIA DOESN'T WANT YOU TO SHARE THIS</td>\n",
              "    </tr>\n",
              "    <tr>\n",
              "      <th>9326</th>\n",
              "      <td>8th Anniversary: We Still Miss Andrew Breitbar...</td>\n",
              "    </tr>\n",
              "  </tbody>\n",
              "</table>\n",
              "<p>5470 rows × 1 columns</p>\n",
              "</div>"
            ],
            "text/plain": [
              "                                                Message\n",
              "1     Classified testimony in opposition to the Bide...\n",
              "2     UN GENERAL ASSEMBLY WILL MOSTLY BE VIRTUAL The...\n",
              "3     GERMANY NO LONGER REGARDS ZAMBIA AS A COVID-19...\n",
              "4               Why are they dividing people like this?\n",
              "5          Mornin' Rebels... Like our Page to see more!\n",
              "...                                                 ...\n",
              "9321  Super Tuesday Is Tomorrow But In A Surprising ...\n",
              "9322  Funny how the media treats this differently no...\n",
              "9323  Just a reminder that it took 1,000 deaths befo...\n",
              "9325           THE MEDIA DOESN'T WANT YOU TO SHARE THIS\n",
              "9326  8th Anniversary: We Still Miss Andrew Breitbar...\n",
              "\n",
              "[5470 rows x 1 columns]"
            ]
          },
          "metadata": {},
          "execution_count": 129
        }
      ]
    },
    {
      "cell_type": "code",
      "metadata": {
        "id": "lE8VAyoApkU6"
      },
      "source": [
        "clean = clean.reset_index()"
      ],
      "execution_count": 130,
      "outputs": []
    },
    {
      "cell_type": "code",
      "metadata": {
        "id": "p4uP83fYpkU6"
      },
      "source": [
        "data_corpus = data_corpus.reset_index()"
      ],
      "execution_count": 131,
      "outputs": []
    },
    {
      "cell_type": "code",
      "metadata": {
        "id": "4qeF5z7MpkU6"
      },
      "source": [
        "data_corpus.columns = ['index', 'Raw_Message']"
      ],
      "execution_count": 132,
      "outputs": []
    },
    {
      "cell_type": "code",
      "metadata": {
        "colab": {
          "base_uri": "https://localhost:8080/",
          "height": 424
        },
        "id": "K3v_LA1zpkU6",
        "outputId": "97c11ed7-2a52-49a7-b329-897759d087dd"
      },
      "source": [
        "join = clean.merge(data_corpus)\n",
        "join"
      ],
      "execution_count": 133,
      "outputs": [
        {
          "output_type": "execute_result",
          "data": {
            "text/html": [
              "<div>\n",
              "<style scoped>\n",
              "    .dataframe tbody tr th:only-of-type {\n",
              "        vertical-align: middle;\n",
              "    }\n",
              "\n",
              "    .dataframe tbody tr th {\n",
              "        vertical-align: top;\n",
              "    }\n",
              "\n",
              "    .dataframe thead th {\n",
              "        text-align: right;\n",
              "    }\n",
              "</style>\n",
              "<table border=\"1\" class=\"dataframe\">\n",
              "  <thead>\n",
              "    <tr style=\"text-align: right;\">\n",
              "      <th></th>\n",
              "      <th>index</th>\n",
              "      <th>Message</th>\n",
              "      <th>Raw_Message</th>\n",
              "    </tr>\n",
              "  </thead>\n",
              "  <tbody>\n",
              "    <tr>\n",
              "      <th>0</th>\n",
              "      <td>1</td>\n",
              "      <td>resumendeld editorialrv gobierno feder recateg...</td>\n",
              "      <td>Classified testimony in opposition to the Bide...</td>\n",
              "    </tr>\n",
              "    <tr>\n",
              "      <th>1</th>\n",
              "      <td>2</td>\n",
              "      <td>momento pastor iglesia vi mario toma barahona ...</td>\n",
              "      <td>UN GENERAL ASSEMBLY WILL MOSTLY BE VIRTUAL The...</td>\n",
              "    </tr>\n",
              "    <tr>\n",
              "      <th>2</th>\n",
              "      <td>4</td>\n",
              "      <td>noodelici</td>\n",
              "      <td>Why are they dividing people like this?</td>\n",
              "    </tr>\n",
              "    <tr>\n",
              "      <th>3</th>\n",
              "      <td>5</td>\n",
              "      <td>thousand came capitol salem oregon today despi...</td>\n",
              "      <td>Mornin' Rebels... Like our Page to see more!</td>\n",
              "    </tr>\n",
              "    <tr>\n",
              "      <th>4</th>\n",
              "      <td>7</td>\n",
              "      <td>wed vaccinechoicecanada</td>\n",
              "      <td>Wow.</td>\n",
              "    </tr>\n",
              "    <tr>\n",
              "      <th>...</th>\n",
              "      <td>...</td>\n",
              "      <td>...</td>\n",
              "      <td>...</td>\n",
              "    </tr>\n",
              "    <tr>\n",
              "      <th>5366</th>\n",
              "      <td>9321</td>\n",
              "      <td>protest plan place build calgari edmonton</td>\n",
              "      <td>Super Tuesday Is Tomorrow But In A Surprising ...</td>\n",
              "    </tr>\n",
              "    <tr>\n",
              "      <th>5367</th>\n",
              "      <td>9322</td>\n",
              "      <td>jab super spreader doesn t pictur just need f ...</td>\n",
              "      <td>Funny how the media treats this differently no...</td>\n",
              "    </tr>\n",
              "    <tr>\n",
              "      <th>5368</th>\n",
              "      <td>9323</td>\n",
              "      <td>reli maradiaga hace fuert llamado secretaria e...</td>\n",
              "      <td>Just a reminder that it took 1,000 deaths befo...</td>\n",
              "    </tr>\n",
              "    <tr>\n",
              "      <th>5369</th>\n",
              "      <td>9325</td>\n",
              "      <td>parent shot public charter school state texa a...</td>\n",
              "      <td>THE MEDIA DOESN'T WANT YOU TO SHARE THIS</td>\n",
              "    </tr>\n",
              "    <tr>\n",
              "      <th>5370</th>\n",
              "      <td>9326</td>\n",
              "      <td>kalev tafari ben yahudah woke morn hear cdc fl...</td>\n",
              "      <td>8th Anniversary: We Still Miss Andrew Breitbar...</td>\n",
              "    </tr>\n",
              "  </tbody>\n",
              "</table>\n",
              "<p>5371 rows × 3 columns</p>\n",
              "</div>"
            ],
            "text/plain": [
              "      index  ...                                        Raw_Message\n",
              "0         1  ...  Classified testimony in opposition to the Bide...\n",
              "1         2  ...  UN GENERAL ASSEMBLY WILL MOSTLY BE VIRTUAL The...\n",
              "2         4  ...            Why are they dividing people like this?\n",
              "3         5  ...       Mornin' Rebels... Like our Page to see more!\n",
              "4         7  ...                                               Wow.\n",
              "...     ...  ...                                                ...\n",
              "5366   9321  ...  Super Tuesday Is Tomorrow But In A Surprising ...\n",
              "5367   9322  ...  Funny how the media treats this differently no...\n",
              "5368   9323  ...  Just a reminder that it took 1,000 deaths befo...\n",
              "5369   9325  ...           THE MEDIA DOESN'T WANT YOU TO SHARE THIS\n",
              "5370   9326  ...  8th Anniversary: We Still Miss Andrew Breitbar...\n",
              "\n",
              "[5371 rows x 3 columns]"
            ]
          },
          "metadata": {},
          "execution_count": 133
        }
      ]
    },
    {
      "cell_type": "code",
      "metadata": {
        "id": "FTv2Y9l4pkU6"
      },
      "source": [
        "join.drop(columns = 'index',inplace=True)"
      ],
      "execution_count": 134,
      "outputs": []
    },
    {
      "cell_type": "code",
      "metadata": {
        "colab": {
          "base_uri": "https://localhost:8080/",
          "height": 424
        },
        "id": "1Xke33ZwpkU6",
        "outputId": "89846a03-9137-4236-f79a-e4d14b737a62"
      },
      "source": [
        "join"
      ],
      "execution_count": 135,
      "outputs": [
        {
          "output_type": "execute_result",
          "data": {
            "text/html": [
              "<div>\n",
              "<style scoped>\n",
              "    .dataframe tbody tr th:only-of-type {\n",
              "        vertical-align: middle;\n",
              "    }\n",
              "\n",
              "    .dataframe tbody tr th {\n",
              "        vertical-align: top;\n",
              "    }\n",
              "\n",
              "    .dataframe thead th {\n",
              "        text-align: right;\n",
              "    }\n",
              "</style>\n",
              "<table border=\"1\" class=\"dataframe\">\n",
              "  <thead>\n",
              "    <tr style=\"text-align: right;\">\n",
              "      <th></th>\n",
              "      <th>Message</th>\n",
              "      <th>Raw_Message</th>\n",
              "    </tr>\n",
              "  </thead>\n",
              "  <tbody>\n",
              "    <tr>\n",
              "      <th>0</th>\n",
              "      <td>resumendeld editorialrv gobierno feder recateg...</td>\n",
              "      <td>Classified testimony in opposition to the Bide...</td>\n",
              "    </tr>\n",
              "    <tr>\n",
              "      <th>1</th>\n",
              "      <td>momento pastor iglesia vi mario toma barahona ...</td>\n",
              "      <td>UN GENERAL ASSEMBLY WILL MOSTLY BE VIRTUAL The...</td>\n",
              "    </tr>\n",
              "    <tr>\n",
              "      <th>2</th>\n",
              "      <td>noodelici</td>\n",
              "      <td>Why are they dividing people like this?</td>\n",
              "    </tr>\n",
              "    <tr>\n",
              "      <th>3</th>\n",
              "      <td>thousand came capitol salem oregon today despi...</td>\n",
              "      <td>Mornin' Rebels... Like our Page to see more!</td>\n",
              "    </tr>\n",
              "    <tr>\n",
              "      <th>4</th>\n",
              "      <td>wed vaccinechoicecanada</td>\n",
              "      <td>Wow.</td>\n",
              "    </tr>\n",
              "    <tr>\n",
              "      <th>...</th>\n",
              "      <td>...</td>\n",
              "      <td>...</td>\n",
              "    </tr>\n",
              "    <tr>\n",
              "      <th>5366</th>\n",
              "      <td>protest plan place build calgari edmonton</td>\n",
              "      <td>Super Tuesday Is Tomorrow But In A Surprising ...</td>\n",
              "    </tr>\n",
              "    <tr>\n",
              "      <th>5367</th>\n",
              "      <td>jab super spreader doesn t pictur just need f ...</td>\n",
              "      <td>Funny how the media treats this differently no...</td>\n",
              "    </tr>\n",
              "    <tr>\n",
              "      <th>5368</th>\n",
              "      <td>reli maradiaga hace fuert llamado secretaria e...</td>\n",
              "      <td>Just a reminder that it took 1,000 deaths befo...</td>\n",
              "    </tr>\n",
              "    <tr>\n",
              "      <th>5369</th>\n",
              "      <td>parent shot public charter school state texa a...</td>\n",
              "      <td>THE MEDIA DOESN'T WANT YOU TO SHARE THIS</td>\n",
              "    </tr>\n",
              "    <tr>\n",
              "      <th>5370</th>\n",
              "      <td>kalev tafari ben yahudah woke morn hear cdc fl...</td>\n",
              "      <td>8th Anniversary: We Still Miss Andrew Breitbar...</td>\n",
              "    </tr>\n",
              "  </tbody>\n",
              "</table>\n",
              "<p>5371 rows × 2 columns</p>\n",
              "</div>"
            ],
            "text/plain": [
              "                                                Message                                        Raw_Message\n",
              "0     resumendeld editorialrv gobierno feder recateg...  Classified testimony in opposition to the Bide...\n",
              "1     momento pastor iglesia vi mario toma barahona ...  UN GENERAL ASSEMBLY WILL MOSTLY BE VIRTUAL The...\n",
              "2                                             noodelici            Why are they dividing people like this?\n",
              "3     thousand came capitol salem oregon today despi...       Mornin' Rebels... Like our Page to see more!\n",
              "4                               wed vaccinechoicecanada                                               Wow.\n",
              "...                                                 ...                                                ...\n",
              "5366          protest plan place build calgari edmonton  Super Tuesday Is Tomorrow But In A Surprising ...\n",
              "5367  jab super spreader doesn t pictur just need f ...  Funny how the media treats this differently no...\n",
              "5368  reli maradiaga hace fuert llamado secretaria e...  Just a reminder that it took 1,000 deaths befo...\n",
              "5369  parent shot public charter school state texa a...           THE MEDIA DOESN'T WANT YOU TO SHARE THIS\n",
              "5370  kalev tafari ben yahudah woke morn hear cdc fl...  8th Anniversary: We Still Miss Andrew Breitbar...\n",
              "\n",
              "[5371 rows x 2 columns]"
            ]
          },
          "metadata": {},
          "execution_count": 135
        }
      ]
    },
    {
      "cell_type": "markdown",
      "metadata": {
        "id": "WJ92VMcxpkU6"
      },
      "source": [
        "### ZeroShotTM"
      ]
    },
    {
      "cell_type": "code",
      "metadata": {
        "colab": {
          "base_uri": "https://localhost:8080/",
          "height": 0,
          "referenced_widgets": [
            "1d21f111bf48472fb17dbda6402d171f",
            "105bba43bb014d87b762c0319f3fd5b5",
            "98c465fac14f4c17a752460155849c82",
            "e275722e3d1b412082d921ff9ac8ae53",
            "0d8f083c48ef4ca59ef49192a3466764",
            "48f186c51d3c41b4a48c12750a289f06",
            "c99667e8fb664819b17e93b96b00549f",
            "41e5b364bf9b4a8baca4d618565ae552",
            "aec69a65c52443faa9ea49b7b78701bc",
            "7fe6ee37ab8f4e6aac56f493165ccfe5",
            "52e65095526d46ceaa0f55b9c1eed202"
          ]
        },
        "id": "9PJxzBHNpkU6",
        "outputId": "d2eaf3f2-967a-49a6-b4da-0b218f200afe"
      },
      "source": [
        "tp = TopicModelDataPreparation(\"paraphrase-distilroberta-base-v2\")\n",
        "\n",
        "training_dataset = tp.fit(text_for_contextual=join['Raw_Message'], text_for_bow=join['Message'])"
      ],
      "execution_count": 136,
      "outputs": [
        {
          "output_type": "display_data",
          "data": {
            "application/vnd.jupyter.widget-view+json": {
              "model_id": "1d21f111bf48472fb17dbda6402d171f",
              "version_minor": 0,
              "version_major": 2
            },
            "text/plain": [
              "Batches:   0%|          | 0/27 [00:00<?, ?it/s]"
            ]
          },
          "metadata": {}
        },
        {
          "output_type": "stream",
          "name": "stderr",
          "text": [
            "/usr/local/lib/python3.7/dist-packages/sklearn/utils/deprecation.py:87: FutureWarning: Function get_feature_names is deprecated; get_feature_names is deprecated in 1.0 and will be removed in 1.2. Please use get_feature_names_out instead.\n",
            "  warnings.warn(msg, category=FutureWarning)\n"
          ]
        }
      ]
    },
    {
      "cell_type": "code",
      "metadata": {
        "colab": {
          "base_uri": "https://localhost:8080/"
        },
        "id": "WdPxFzttpkU7",
        "outputId": "72ee2e41-a251-4519-e2fa-9d49f308b820"
      },
      "source": [
        "ctm = ZeroShotTM(bow_size=len(tp.vocab), contextual_size=768, n_components=50, num_epochs=15)\n",
        "ctm.fit(training_dataset) # run the model"
      ],
      "execution_count": 137,
      "outputs": [
        {
          "output_type": "stream",
          "name": "stderr",
          "text": [
            "Epoch: [15/15]\t Seen Samples: [80565/80565]\tTrain Loss: 324.53247638504234\tTime: 0:00:03.523023: : 15it [00:53,  3.55s/it]\n",
            "Sampling: [20/20]: : 20it [00:57,  2.89s/it]\n"
          ]
        }
      ]
    },
    {
      "cell_type": "code",
      "metadata": {
        "colab": {
          "base_uri": "https://localhost:8080/"
        },
        "id": "nVFVi2tOpkU7",
        "outputId": "486dac9f-7bcf-4e4d-d41b-eaf20bf40941"
      },
      "source": [
        "ctm.get_topics(5)"
      ],
      "execution_count": 138,
      "outputs": [
        {
          "output_type": "execute_result",
          "data": {
            "text/plain": [
              "defaultdict(list,\n",
              "            {0: ['middl', 'gather', 'fl', 'identifi', 'messag'],\n",
              "             1: ['contrajeron', 'provincetown', 'cortar', 'ground', 'obstin'],\n",
              "             2: ['state', 'allow', 'mandat', 'come', 'follow'],\n",
              "             3: ['vide', 'tez', 'final', 'elt', 'felf'],\n",
              "             4: ['unnecessari', 'legaci', 'headlin', 'coercion', 'sch'],\n",
              "             5: ['protein', 'hondur', 'expo', 'cb', 'ne'],\n",
              "             6: ['diario', 'total', 'dispon', 'dado', 'motorist'],\n",
              "             7: ['sue', 'oh', 'od', 'em', 'ili'],\n",
              "             8: ['thrown', 'freedomnotforc', 'trabajador', 'dynam', 'pue'],\n",
              "             9: ['stori', 'facebook', 'id', 'php', 'post'],\n",
              "             10: ['pastor', 'biden', 'anticovid', 'muert', 'great'],\n",
              "             11: ['vacuna', 'deceso', 'salud', 'mil', 'baja'],\n",
              "             12: ['natur', 'senat', 'especi', 'member', 'ok'],\n",
              "             13: ['inform', 'like', 'line', 'immun', 'booster'],\n",
              "             14: ['pm', 'approv', 'hospit', 'like', 'breakthrough'],\n",
              "             15: ['passport', 'press', 'center', 'volum', 'protest'],\n",
              "             16: ['bud', 'lou', 'just', 'unvaccin', 'sick'],\n",
              "             17: ['breakthrough', 'semana', 'report', 'actual', 'worri'],\n",
              "             18: ['sz', 'health', 'az', 'hogi', 'ru'],\n",
              "             19: ['mundo', 'regulatori', 'avoid', 'sanib', 'diego'],\n",
              "             20: ['contagio', 'like', 'poblaci', 'persona', 'salud'],\n",
              "             21: ['right', 'law', 'parent', 'ca', 'tri'],\n",
              "             22: ['contagio', 'usa', 'zoom', 'left', 'slp'],\n",
              "             23: ['pandem', 'septemb', 'plan', 'person', 'death'],\n",
              "             24: ['did', 'captur', 'jim', 'restrict', 'leav'],\n",
              "             25: ['symptom', 'approv', 'posit', 'taken', 'test'],\n",
              "             26: ['regardless', 'lowri', 'insist', 'dc', 'envi'],\n",
              "             27: ['ralli', 'crisi', 'play', 'gobierno', 'asociaci'],\n",
              "             28: ['explicamo', 'warren', 'heat', 'positivo', 'beef'],\n",
              "             29: ['pandem', 'infect', 'school', 'inform', 'children'],\n",
              "             30: ['fine', 'fzb', 'sanib', 'militia', 'abastecido'],\n",
              "             31: ['way', 'variant', 'claim', 'accord', 'issu'],\n",
              "             32: ['sar', 'cov', 'church', 'soon', 'learn'],\n",
              "             33: ['want', 'work', 'protect', 'action', 'ye'],\n",
              "             34: ['facebook', 'write', 'link', 'inform', 'support'],\n",
              "             35: ['analog', 'text', 'cohort', 'elu', 'neingulo'],\n",
              "             36: ['stori', 'post', 'hogi', 'facebook', 'az'],\n",
              "             37: ['state', 'nation', 'order', 'act', 'american'],\n",
              "             38: ['fda', 'don', 'propheci', 'thing', 'nteb'],\n",
              "             39: ['heat', 'suppress', 'conscienti', 'wa', 'mess'],\n",
              "             40: ['just', 'protecci', 'vene', 'today', 'est'],\n",
              "             41: ['propaganda', 'true', 'parasit', 'misma', 'amid'],\n",
              "             42: ['az', 'hogi', 'olt', 'st', 'sz'],\n",
              "             43: ['home', 'care', 'month', 'worker', 'low'],\n",
              "             44: ['na', 'offici', 'sa', 'best', 'citi'],\n",
              "             45: ['good', 'post', 'allow', 'come', 'like'],\n",
              "             46: ['known', 'enforc', 'told', 'respon', 'phenylephrin'],\n",
              "             47: ['doctor', 'support', 'simpli', 'despit', 'lie'],\n",
              "             48: ['ser', 'team', 'dolan', 'amparo', 'injur'],\n",
              "             49: ['shot', 'make', 'thing', 'best', 'mandat']})"
            ]
          },
          "metadata": {},
          "execution_count": 138
        }
      ]
    },
    {
      "cell_type": "code",
      "metadata": {
        "colab": {
          "base_uri": "https://localhost:8080/"
        },
        "id": "9uEnzSzipkU7",
        "outputId": "62f96057-3a14-4be8-f038-cd08e64f6ddd"
      },
      "source": [
        "ctm.get_doc_topic_distribution(training_dataset, n_samples=20)"
      ],
      "execution_count": 139,
      "outputs": [
        {
          "output_type": "stream",
          "name": "stderr",
          "text": [
            "Sampling: [20/20]: : 20it [00:58,  2.92s/it]\n"
          ]
        },
        {
          "output_type": "execute_result",
          "data": {
            "text/plain": [
              "array([[0.02272725, 0.01479618, 0.01936518, ..., 0.02059983, 0.01723773,\n",
              "        0.02415422],\n",
              "       [0.02169869, 0.04363298, 0.00830333, ..., 0.07298095, 0.01599228,\n",
              "        0.01790791],\n",
              "       [0.00654892, 0.09122271, 0.00228263, ..., 0.00164386, 0.00760538,\n",
              "        0.00197865],\n",
              "       ...,\n",
              "       [0.04880464, 0.02133668, 0.01190491, ..., 0.02941754, 0.02580745,\n",
              "        0.02406948],\n",
              "       [0.02438292, 0.01462161, 0.01483011, ..., 0.02462162, 0.02808108,\n",
              "        0.01401968],\n",
              "       [0.02372877, 0.00808009, 0.01891906, ..., 0.02035228, 0.03661575,\n",
              "        0.01800642]])"
            ]
          },
          "metadata": {},
          "execution_count": 139
        }
      ]
    },
    {
      "cell_type": "code",
      "metadata": {
        "colab": {
          "base_uri": "https://localhost:8080/"
        },
        "id": "7VTcs8RzpkU7",
        "outputId": "056761db-02c0-438e-97c9-c95df794d80d"
      },
      "source": [
        "ctm = ZeroShotTM(bow_size=len(tp.vocab), contextual_size=768, n_components=20, num_epochs=15)\n",
        "ctm.fit(training_dataset) # run the model"
      ],
      "execution_count": 140,
      "outputs": [
        {
          "output_type": "stream",
          "name": "stderr",
          "text": [
            "Epoch: [15/15]\t Seen Samples: [80565/80565]\tTrain Loss: 305.76033254398624\tTime: 0:00:03.592202: : 15it [00:53,  3.55s/it]\n",
            "Sampling: [20/20]: : 20it [00:57,  2.89s/it]\n"
          ]
        }
      ]
    },
    {
      "cell_type": "code",
      "metadata": {
        "colab": {
          "base_uri": "https://localhost:8080/"
        },
        "id": "d2PmMAkSpkU7",
        "outputId": "49c2b351-c79d-48fc-b15a-50eebd44f965"
      },
      "source": [
        "ctm.get_topics(5)"
      ],
      "execution_count": 141,
      "outputs": [
        {
          "output_type": "execute_result",
          "data": {
            "text/plain": [
              "defaultdict(list,\n",
              "            {0: ['biden', 'foxnew', 'muert', 'aunqu', 'increa'],\n",
              "             1: ['need', 'day', 'right', 'given', 'busi'],\n",
              "             2: ['org', 'don', 'august', 'know', 'rate'],\n",
              "             3: ['sa', 'ng', 'like', 'time', 'na'],\n",
              "             4: ['ito', 'bilang', 'halalan', 'vaccinepassport', 'cardona'],\n",
              "             5: ['vagi', 'kezel', 'st', 'lj', 'ellen'],\n",
              "             6: ['ye', 'phone', 'good', 'treatment', 'mask'],\n",
              "             7: ['parentalauthor', 'richard', 'idaho', 'txag', 'maskchoic'],\n",
              "             8: ['cooper', 'subscrib', 'yql', 'bot', 'jail'],\n",
              "             9: ['az', 'hogi', 'sz', 'rt', 'olt'],\n",
              "             10: ['vacunar', 'lord', 'explica', 'difficulti', 'menor'],\n",
              "             11: ['experi', 'liberti', 'dose', 'women', 'today'],\n",
              "             12: ['father', 'pu', 'knew', 'ralli', 'color'],\n",
              "             13: ['hill', 'da', 'divi', 'parent', 'ramiro'],\n",
              "             14: ['est', 'epidemiologist', 'stream', 'secretar', 'faster'],\n",
              "             15: ['lou', 'unvaccin', 'public', 'bud', 'sick'],\n",
              "             16: ['health', 'protect', 'new', 'provid', 'state'],\n",
              "             17: ['aqu', 'detal', 'hospitalizado', 'introduc', 'aquism'],\n",
              "             18: ['igazolv', 'fb', 'apha', 'ahora', 'invit'],\n",
              "             19: ['panic', 'mspa', 'river', 'advantag', 'entertain']})"
            ]
          },
          "metadata": {},
          "execution_count": 141
        }
      ]
    },
    {
      "cell_type": "code",
      "metadata": {
        "id": "v_jTczNHpkU7"
      },
      "source": [
        "topics = pd.DataFrame.from_dict(ctm.get_topics(5)).transpose()\n",
        "topics.columns = [\"0\", \"1\", \"2\" ,\"3\",\"4\"]"
      ],
      "execution_count": 142,
      "outputs": []
    },
    {
      "cell_type": "code",
      "metadata": {
        "colab": {
          "base_uri": "https://localhost:8080/",
          "height": 0
        },
        "id": "KnNmkgIdpkU7",
        "outputId": "4dd3f6d1-6208-414e-c59f-0b7dec9e2da5"
      },
      "source": [
        "topics['topic_words'] = topics[\"0\"]+ \" \" + topics[\"1\"]+ \" \" + topics[\"2\"]+ \" \" + topics[\"3\"]+ \" \" + topics[\"4\"]\n",
        "topics = topics[['topic_words']]\n",
        "topics"
      ],
      "execution_count": 143,
      "outputs": [
        {
          "output_type": "execute_result",
          "data": {
            "text/html": [
              "<div>\n",
              "<style scoped>\n",
              "    .dataframe tbody tr th:only-of-type {\n",
              "        vertical-align: middle;\n",
              "    }\n",
              "\n",
              "    .dataframe tbody tr th {\n",
              "        vertical-align: top;\n",
              "    }\n",
              "\n",
              "    .dataframe thead th {\n",
              "        text-align: right;\n",
              "    }\n",
              "</style>\n",
              "<table border=\"1\" class=\"dataframe\">\n",
              "  <thead>\n",
              "    <tr style=\"text-align: right;\">\n",
              "      <th></th>\n",
              "      <th>topic_words</th>\n",
              "    </tr>\n",
              "  </thead>\n",
              "  <tbody>\n",
              "    <tr>\n",
              "      <th>0</th>\n",
              "      <td>biden foxnew muert aunqu increa</td>\n",
              "    </tr>\n",
              "    <tr>\n",
              "      <th>1</th>\n",
              "      <td>need day right given busi</td>\n",
              "    </tr>\n",
              "    <tr>\n",
              "      <th>2</th>\n",
              "      <td>org don august know rate</td>\n",
              "    </tr>\n",
              "    <tr>\n",
              "      <th>3</th>\n",
              "      <td>sa ng like time na</td>\n",
              "    </tr>\n",
              "    <tr>\n",
              "      <th>4</th>\n",
              "      <td>ito bilang halalan vaccinepassport cardona</td>\n",
              "    </tr>\n",
              "    <tr>\n",
              "      <th>5</th>\n",
              "      <td>vagi kezel st lj ellen</td>\n",
              "    </tr>\n",
              "    <tr>\n",
              "      <th>6</th>\n",
              "      <td>ye phone good treatment mask</td>\n",
              "    </tr>\n",
              "    <tr>\n",
              "      <th>7</th>\n",
              "      <td>parentalauthor richard idaho txag maskchoic</td>\n",
              "    </tr>\n",
              "    <tr>\n",
              "      <th>8</th>\n",
              "      <td>cooper subscrib yql bot jail</td>\n",
              "    </tr>\n",
              "    <tr>\n",
              "      <th>9</th>\n",
              "      <td>az hogi sz rt olt</td>\n",
              "    </tr>\n",
              "    <tr>\n",
              "      <th>10</th>\n",
              "      <td>vacunar lord explica difficulti menor</td>\n",
              "    </tr>\n",
              "    <tr>\n",
              "      <th>11</th>\n",
              "      <td>experi liberti dose women today</td>\n",
              "    </tr>\n",
              "    <tr>\n",
              "      <th>12</th>\n",
              "      <td>father pu knew ralli color</td>\n",
              "    </tr>\n",
              "    <tr>\n",
              "      <th>13</th>\n",
              "      <td>hill da divi parent ramiro</td>\n",
              "    </tr>\n",
              "    <tr>\n",
              "      <th>14</th>\n",
              "      <td>est epidemiologist stream secretar faster</td>\n",
              "    </tr>\n",
              "    <tr>\n",
              "      <th>15</th>\n",
              "      <td>lou unvaccin public bud sick</td>\n",
              "    </tr>\n",
              "    <tr>\n",
              "      <th>16</th>\n",
              "      <td>health protect new provid state</td>\n",
              "    </tr>\n",
              "    <tr>\n",
              "      <th>17</th>\n",
              "      <td>aqu detal hospitalizado introduc aquism</td>\n",
              "    </tr>\n",
              "    <tr>\n",
              "      <th>18</th>\n",
              "      <td>igazolv fb apha ahora invit</td>\n",
              "    </tr>\n",
              "    <tr>\n",
              "      <th>19</th>\n",
              "      <td>panic mspa river advantag entertain</td>\n",
              "    </tr>\n",
              "  </tbody>\n",
              "</table>\n",
              "</div>"
            ],
            "text/plain": [
              "                                    topic_words\n",
              "0               biden foxnew muert aunqu increa\n",
              "1                     need day right given busi\n",
              "2                      org don august know rate\n",
              "3                            sa ng like time na\n",
              "4    ito bilang halalan vaccinepassport cardona\n",
              "5                        vagi kezel st lj ellen\n",
              "6                  ye phone good treatment mask\n",
              "7   parentalauthor richard idaho txag maskchoic\n",
              "8                  cooper subscrib yql bot jail\n",
              "9                             az hogi sz rt olt\n",
              "10        vacunar lord explica difficulti menor\n",
              "11              experi liberti dose women today\n",
              "12                   father pu knew ralli color\n",
              "13                   hill da divi parent ramiro\n",
              "14    est epidemiologist stream secretar faster\n",
              "15                 lou unvaccin public bud sick\n",
              "16              health protect new provid state\n",
              "17      aqu detal hospitalizado introduc aquism\n",
              "18                  igazolv fb apha ahora invit\n",
              "19          panic mspa river advantag entertain"
            ]
          },
          "metadata": {},
          "execution_count": 143
        }
      ]
    },
    {
      "cell_type": "markdown",
      "metadata": {
        "id": "JhtHXtd8pkU7"
      },
      "source": [
        "### Combined Topic Model"
      ]
    },
    {
      "cell_type": "code",
      "metadata": {
        "colab": {
          "base_uri": "https://localhost:8080/"
        },
        "id": "wkVF0RArpkU7",
        "outputId": "3b916086-4582-474f-8e1c-6e1af98e5f24"
      },
      "source": [
        "from contextualized_topic_models.models.ctm import CombinedTM\n",
        "ctm = CombinedTM(bow_size=len(tp.vocab), contextual_size=768, n_components=20, num_epochs=15)\n",
        "ctm.fit(training_dataset) # run the model"
      ],
      "execution_count": 144,
      "outputs": [
        {
          "output_type": "stream",
          "name": "stderr",
          "text": [
            "Epoch: [15/15]\t Seen Samples: [80565/80565]\tTrain Loss: 310.2222491519852\tTime: 0:00:04.233071: : 15it [01:02,  4.18s/it]\n",
            "Sampling: [20/20]: : 20it [01:00,  3.01s/it]\n"
          ]
        }
      ]
    },
    {
      "cell_type": "code",
      "metadata": {
        "colab": {
          "base_uri": "https://localhost:8080/"
        },
        "id": "eMlSltoepkU7",
        "outputId": "245f3fb9-10f8-4d39-986a-5621e4565c44"
      },
      "source": [
        "ctm.get_topics(5)"
      ],
      "execution_count": 145,
      "outputs": [
        {
          "output_type": "execute_result",
          "data": {
            "text/plain": [
              "defaultdict(list,\n",
              "            {0: ['thursday', 'workplac', 'epidemia', 'lan', 'sigu'],\n",
              "             1: ['school', 'die', 'order', 'individu', 'particip'],\n",
              "             2: ['speech', 'tra', 'pediatrician', 'biggest', 'polic'],\n",
              "             3: ['initi', 'price', 'empresa', 'battl', 'navidad'],\n",
              "             4: ['largest', 'censorship', 'circul', 'ximo', 'dico'],\n",
              "             5: ['room', 'trigger', 'hondur', 'ayer', 'amid'],\n",
              "             6: ['protect', 'time', 'shot', 'way', 'legisl'],\n",
              "             7: ['guess', 'materi', 'advanc', 'pio', 'item'],\n",
              "             8: ['oh', 'plane', 'evil', 'featur', 'conflict'],\n",
              "             9: ['state', 'new', 'employ', 'just', 'right'],\n",
              "             10: ['facebook', 'stori', 'fbid', 'php', 'health'],\n",
              "             11: ['si', 'hogi', 'nem', 'azt', 'vakcin'],\n",
              "             12: ['bless', 'googl', 'disclo', 'hondura', 'alcanza'],\n",
              "             13: ['poblaci', 'pr', 'vacuna', 'utm', 'wed'],\n",
              "             14: ['premier', 'med', 'guidanc', 'entri', 'australia'],\n",
              "             15: ['dio', 'municipio', 'hospitalizaci', 'est', 'dica'],\n",
              "             16: ['hondur', 'aqu', 'street', 'schedul', 'bit'],\n",
              "             17: ['experi', 'cover', 'shot', 'liberti', 'employ'],\n",
              "             18: ['use', 'approv', 'time', 'case', 'variant'],\n",
              "             19: ['sa', 'biden', 'ng', 'live', 'fda']})"
            ]
          },
          "metadata": {},
          "execution_count": 145
        }
      ]
    },
    {
      "cell_type": "code",
      "metadata": {
        "id": "zuk7G3CrpkU8"
      },
      "source": [
        "topics = pd.DataFrame.from_dict(ctm.get_topics(5)).transpose()\n",
        "topics.columns = [\"0\", \"1\", \"2\" ,\"3\",\"4\"]"
      ],
      "execution_count": 146,
      "outputs": []
    },
    {
      "cell_type": "code",
      "metadata": {
        "colab": {
          "base_uri": "https://localhost:8080/",
          "height": 677
        },
        "id": "7-vWU1X4pkU8",
        "outputId": "16ecc0cf-ed29-4c05-c6a9-3989ae620783"
      },
      "source": [
        "topics['topic_words'] = topics[\"0\"]+ \" \" + topics[\"1\"]+ \" \" + topics[\"2\"]+ \" \" + topics[\"3\"]+ \" \" + topics[\"4\"]\n",
        "topics = topics[['topic_words']]\n",
        "topics"
      ],
      "execution_count": 147,
      "outputs": [
        {
          "output_type": "execute_result",
          "data": {
            "text/html": [
              "<div>\n",
              "<style scoped>\n",
              "    .dataframe tbody tr th:only-of-type {\n",
              "        vertical-align: middle;\n",
              "    }\n",
              "\n",
              "    .dataframe tbody tr th {\n",
              "        vertical-align: top;\n",
              "    }\n",
              "\n",
              "    .dataframe thead th {\n",
              "        text-align: right;\n",
              "    }\n",
              "</style>\n",
              "<table border=\"1\" class=\"dataframe\">\n",
              "  <thead>\n",
              "    <tr style=\"text-align: right;\">\n",
              "      <th></th>\n",
              "      <th>topic_words</th>\n",
              "    </tr>\n",
              "  </thead>\n",
              "  <tbody>\n",
              "    <tr>\n",
              "      <th>0</th>\n",
              "      <td>thursday workplac epidemia lan sigu</td>\n",
              "    </tr>\n",
              "    <tr>\n",
              "      <th>1</th>\n",
              "      <td>school die order individu particip</td>\n",
              "    </tr>\n",
              "    <tr>\n",
              "      <th>2</th>\n",
              "      <td>speech tra pediatrician biggest polic</td>\n",
              "    </tr>\n",
              "    <tr>\n",
              "      <th>3</th>\n",
              "      <td>initi price empresa battl navidad</td>\n",
              "    </tr>\n",
              "    <tr>\n",
              "      <th>4</th>\n",
              "      <td>largest censorship circul ximo dico</td>\n",
              "    </tr>\n",
              "    <tr>\n",
              "      <th>5</th>\n",
              "      <td>room trigger hondur ayer amid</td>\n",
              "    </tr>\n",
              "    <tr>\n",
              "      <th>6</th>\n",
              "      <td>protect time shot way legisl</td>\n",
              "    </tr>\n",
              "    <tr>\n",
              "      <th>7</th>\n",
              "      <td>guess materi advanc pio item</td>\n",
              "    </tr>\n",
              "    <tr>\n",
              "      <th>8</th>\n",
              "      <td>oh plane evil featur conflict</td>\n",
              "    </tr>\n",
              "    <tr>\n",
              "      <th>9</th>\n",
              "      <td>state new employ just right</td>\n",
              "    </tr>\n",
              "    <tr>\n",
              "      <th>10</th>\n",
              "      <td>facebook stori fbid php health</td>\n",
              "    </tr>\n",
              "    <tr>\n",
              "      <th>11</th>\n",
              "      <td>si hogi nem azt vakcin</td>\n",
              "    </tr>\n",
              "    <tr>\n",
              "      <th>12</th>\n",
              "      <td>bless googl disclo hondura alcanza</td>\n",
              "    </tr>\n",
              "    <tr>\n",
              "      <th>13</th>\n",
              "      <td>poblaci pr vacuna utm wed</td>\n",
              "    </tr>\n",
              "    <tr>\n",
              "      <th>14</th>\n",
              "      <td>premier med guidanc entri australia</td>\n",
              "    </tr>\n",
              "    <tr>\n",
              "      <th>15</th>\n",
              "      <td>dio municipio hospitalizaci est dica</td>\n",
              "    </tr>\n",
              "    <tr>\n",
              "      <th>16</th>\n",
              "      <td>hondur aqu street schedul bit</td>\n",
              "    </tr>\n",
              "    <tr>\n",
              "      <th>17</th>\n",
              "      <td>experi cover shot liberti employ</td>\n",
              "    </tr>\n",
              "    <tr>\n",
              "      <th>18</th>\n",
              "      <td>use approv time case variant</td>\n",
              "    </tr>\n",
              "    <tr>\n",
              "      <th>19</th>\n",
              "      <td>sa biden ng live fda</td>\n",
              "    </tr>\n",
              "  </tbody>\n",
              "</table>\n",
              "</div>"
            ],
            "text/plain": [
              "                              topic_words\n",
              "0     thursday workplac epidemia lan sigu\n",
              "1      school die order individu particip\n",
              "2   speech tra pediatrician biggest polic\n",
              "3       initi price empresa battl navidad\n",
              "4     largest censorship circul ximo dico\n",
              "5           room trigger hondur ayer amid\n",
              "6            protect time shot way legisl\n",
              "7            guess materi advanc pio item\n",
              "8           oh plane evil featur conflict\n",
              "9             state new employ just right\n",
              "10         facebook stori fbid php health\n",
              "11                 si hogi nem azt vakcin\n",
              "12     bless googl disclo hondura alcanza\n",
              "13              poblaci pr vacuna utm wed\n",
              "14    premier med guidanc entri australia\n",
              "15   dio municipio hospitalizaci est dica\n",
              "16          hondur aqu street schedul bit\n",
              "17       experi cover shot liberti employ\n",
              "18           use approv time case variant\n",
              "19                   sa biden ng live fda"
            ]
          },
          "metadata": {},
          "execution_count": 147
        }
      ]
    },
    {
      "cell_type": "code",
      "metadata": {
        "colab": {
          "base_uri": "https://localhost:8080/"
        },
        "id": "RbRAOL43pkU8",
        "outputId": "734d7444-489a-4306-ab40-77dc7805de8a"
      },
      "source": [
        "ctm = CombinedTM(bow_size=len(tp.vocab), contextual_size=768, n_components=10, num_epochs=15)\n",
        "ctm.fit(training_dataset) # run the model\n",
        "ctm.get_topics(5)"
      ],
      "execution_count": 151,
      "outputs": [
        {
          "output_type": "stream",
          "name": "stderr",
          "text": [
            "Epoch: [15/15]\t Seen Samples: [80565/80565]\tTrain Loss: 308.85200741685674\tTime: 0:00:04.072360: : 15it [01:02,  4.16s/it]\n",
            "Sampling: [20/20]: : 20it [00:59,  2.98s/it]\n"
          ]
        },
        {
          "output_type": "execute_result",
          "data": {
            "text/plain": [
              "defaultdict(list,\n",
              "            {0: ['america', 'children', 'nation', 'follow', 'differ'],\n",
              "             1: ['ceo', 'direcci', 'televicentro', 'mantien', 'protest'],\n",
              "             2: ['noticia', 'chapintv', 'dan', 'dado', 'bid'],\n",
              "             3: ['stori', 'health', 'facebook', 'php', 'use'],\n",
              "             4: ['olt', 'si', 'podcast', 'nueva', 'est'],\n",
              "             5: ['test', 'caso', 'variant', 'bit', 'center'],\n",
              "             6: ['gwpihgknrhi', 'gather', 'movi', 'adver', 'passion'],\n",
              "             7: ['bud', 'lou', 'sick', 'mandat', 'support'],\n",
              "             8: ['faur', 'rollingston', 'dedicaba', 'pen', 'fyi'],\n",
              "             9: ['mile', 'provinc', 'text', 'coast', 'congress']})"
            ]
          },
          "metadata": {},
          "execution_count": 151
        }
      ]
    },
    {
      "cell_type": "code",
      "metadata": {
        "id": "pugIYSu5pkU8"
      },
      "source": [
        "topics = pd.DataFrame.from_dict(ctm.get_topics(5)).transpose()\n",
        "topics.columns = [\"0\", \"1\", \"2\" ,\"3\",\"4\"]"
      ],
      "execution_count": 152,
      "outputs": []
    },
    {
      "cell_type": "code",
      "metadata": {
        "colab": {
          "base_uri": "https://localhost:8080/",
          "height": 363
        },
        "id": "2qWRr-ybpkU8",
        "outputId": "f19a74f0-f58a-4f59-8aa9-65006a99bc2a"
      },
      "source": [
        "topics['topic_words'] = topics[\"0\"]+ \" \" + topics[\"1\"]+ \" \" + topics[\"2\"]+ \" \" + topics[\"3\"]+ \" \" + topics[\"4\"]\n",
        "topics = topics[['topic_words']]\n",
        "topics"
      ],
      "execution_count": 153,
      "outputs": [
        {
          "output_type": "execute_result",
          "data": {
            "text/html": [
              "<div>\n",
              "<style scoped>\n",
              "    .dataframe tbody tr th:only-of-type {\n",
              "        vertical-align: middle;\n",
              "    }\n",
              "\n",
              "    .dataframe tbody tr th {\n",
              "        vertical-align: top;\n",
              "    }\n",
              "\n",
              "    .dataframe thead th {\n",
              "        text-align: right;\n",
              "    }\n",
              "</style>\n",
              "<table border=\"1\" class=\"dataframe\">\n",
              "  <thead>\n",
              "    <tr style=\"text-align: right;\">\n",
              "      <th></th>\n",
              "      <th>topic_words</th>\n",
              "    </tr>\n",
              "  </thead>\n",
              "  <tbody>\n",
              "    <tr>\n",
              "      <th>0</th>\n",
              "      <td>america children nation follow differ</td>\n",
              "    </tr>\n",
              "    <tr>\n",
              "      <th>1</th>\n",
              "      <td>ceo direcci televicentro mantien protest</td>\n",
              "    </tr>\n",
              "    <tr>\n",
              "      <th>2</th>\n",
              "      <td>noticia chapintv dan dado bid</td>\n",
              "    </tr>\n",
              "    <tr>\n",
              "      <th>3</th>\n",
              "      <td>stori health facebook php use</td>\n",
              "    </tr>\n",
              "    <tr>\n",
              "      <th>4</th>\n",
              "      <td>olt si podcast nueva est</td>\n",
              "    </tr>\n",
              "    <tr>\n",
              "      <th>5</th>\n",
              "      <td>test caso variant bit center</td>\n",
              "    </tr>\n",
              "    <tr>\n",
              "      <th>6</th>\n",
              "      <td>gwpihgknrhi gather movi adver passion</td>\n",
              "    </tr>\n",
              "    <tr>\n",
              "      <th>7</th>\n",
              "      <td>bud lou sick mandat support</td>\n",
              "    </tr>\n",
              "    <tr>\n",
              "      <th>8</th>\n",
              "      <td>faur rollingston dedicaba pen fyi</td>\n",
              "    </tr>\n",
              "    <tr>\n",
              "      <th>9</th>\n",
              "      <td>mile provinc text coast congress</td>\n",
              "    </tr>\n",
              "  </tbody>\n",
              "</table>\n",
              "</div>"
            ],
            "text/plain": [
              "                                topic_words\n",
              "0     america children nation follow differ\n",
              "1  ceo direcci televicentro mantien protest\n",
              "2             noticia chapintv dan dado bid\n",
              "3             stori health facebook php use\n",
              "4                  olt si podcast nueva est\n",
              "5              test caso variant bit center\n",
              "6     gwpihgknrhi gather movi adver passion\n",
              "7               bud lou sick mandat support\n",
              "8         faur rollingston dedicaba pen fyi\n",
              "9          mile provinc text coast congress"
            ]
          },
          "metadata": {},
          "execution_count": 153
        }
      ]
    }
  ]
}